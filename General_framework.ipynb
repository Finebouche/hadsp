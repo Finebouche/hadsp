{
 "cells": [
  {
   "cell_type": "code",
   "execution_count": null,
   "id": "754c1d64",
   "metadata": {
    "ExecuteTime": {
     "start_time": "2023-11-10T10:40:49.539850Z"
    }
   },
   "outputs": [],
   "source": [
    "import sys\n",
    "from pathlib import Path\n",
    "\n",
    "# Add the root project folder to the python path in order to use the packages\n",
    "path_root = Path( '/project_ghent/HADSP/hadsp/')\n",
    "sys.path.append(str(path_root))"
   ]
  },
  {
   "cell_type": "code",
   "execution_count": null,
   "id": "88f790cf",
   "metadata": {
    "ExecuteTime": {
     "start_time": "2023-11-10T10:40:49.541339Z"
    },
    "tags": []
   },
   "outputs": [],
   "source": [
    "import numpy as np\n",
    "from scipy import sparse\n",
    "from tqdm import tqdm\n",
    "from importlib import reload\n",
    "\n",
    "# SEED\n",
    "SEED = 49387\n",
    "\n",
    "from matplotlib import pyplot as plt\n",
    "from seaborn import heatmap, color_palette"
   ]
  },
  {
   "cell_type": "markdown",
   "id": "eb44384e-7cbc-4611-a015-e1c073f61aa9",
   "metadata": {},
   "source": [
    "# Datasets\n",
    "\n",
    "Lots of different on availabale : https://towardsdatascience.com/a-data-lakes-worth-of-audio-datasets-b45b88cd4ad\n",
    "\n",
    "Classification: \n",
    "https://arxiv.org/abs/1803.07870\n",
    "\n",
    "https://github.com/FilippoMB/Time-series-classification-and-clustering-with-Reservoir-Computing\n",
    "\n",
    "Multivariate:\n",
    "https://www.timeseriesclassification.com/dataset.php"
   ]
  },
  {
   "cell_type": "markdown",
   "id": "6dd4e7d3-717e-4f4b-a2fa-29fd6e272bd7",
   "metadata": {
    "jp-MarkdownHeadingCollapsed": true
   },
   "source": [
    "## Torchaudio\n",
    "\n",
    "https://pytorch.org/audio/stable/datasets.html\n"
   ]
  },
  {
   "cell_type": "code",
   "execution_count": null,
   "id": "21f91faf639d30e4",
   "metadata": {
    "collapsed": false,
    "jupyter": {
     "outputs_hidden": false
    }
   },
   "outputs": [],
   "source": [
    "# load dataset using torchaudio\n",
    "from sklearn.model_selection import StratifiedShuffleSplit\n",
    "from torchaudio.datasets import VoxCeleb1Identification, SPEECHCOMMANDS\n",
    "from torch.utils.data import random_split, DataLoader\n",
    "\n",
    "dataset = SPEECHCOMMANDS(root=\"datasets/\", download=True)\n",
    "\n",
    "sampling_rate = dataset[0][1]\n",
    "X = [sample[0][0] for sample in dataset]\n",
    "Y = [sample[2] for sample in dataset]\n",
    "\n",
    "dataset_size = len(dataset)  # Total number of samples in the dataset\n",
    "\n",
    "split = int(np.floor(test_split * dataset_size))\n",
    "\n",
    "# Use StratifiedShuffleSplit to get train/test indices\n",
    "sss = StratifiedShuffleSplit(n_splits=1, test_size=0.2, random_state=SEED)\n",
    "train_index, test_index = next(sss.split(X, Y))\n",
    "\n",
    "# Split data and labels using the indices\n",
    "X_train = X[train_index]\n",
    "Y_train = Y[train_index]\n",
    "X_test = X[test_index]\n",
    "Y_test = Y[test_index]\n",
    "\n",
    "\n",
    "is_multivariate = False"
   ]
  },
  {
   "cell_type": "markdown",
   "id": "90bc3d35-72f1-4fc8-a452-e0699b4d507d",
   "metadata": {
    "jp-MarkdownHeadingCollapsed": true
   },
   "source": [
    "## Prediction ahead\n",
    "\n",
    "Datasets available :\n",
    "\n",
    "* MackeyGlass\n",
    "* Lorenz"
   ]
  },
  {
   "cell_type": "code",
   "execution_count": null,
   "id": "10e27cbb-7db5-4207-ab93-3c4b12ce60ae",
   "metadata": {},
   "outputs": [],
   "source": [
    "from datasets.load_datasets import load_dataset_prediction\n",
    "is_instances_classification = False\n",
    "name = \"MackeyGlass\"\n",
    "step_ahead=5\n",
    "\n",
    "is_multivariate, sampling_rate, X_train, X_test, Y_train, Y_test, X_pretrain = load_dataset_prediction(name, step_ahead, visualize=True)\n"
   ]
  },
  {
   "cell_type": "markdown",
   "id": "a5ae6a7ebe247f27",
   "metadata": {
    "collapsed": false,
    "editable": true,
    "jupyter": {
     "outputs_hidden": false
    },
    "slideshow": {
     "slide_type": ""
    },
    "tags": []
   },
   "source": [
    "## Classification\n",
    "\n",
    "Datasets available :\n",
    "\n",
    "* FSDD\n",
    "* HAART\n",
    "* JapaneseVowels"
   ]
  },
  {
   "cell_type": "code",
   "execution_count": null,
   "id": "c150fb83-3436-4dfe-a051-77faf9c87e05",
   "metadata": {},
   "outputs": [],
   "source": [
    "from datasets.load_datasets import load_dataset_classification\n",
    "is_instances_classification = True\n",
    "name = \"HAART\"\n",
    "\n",
    "is_multivariate, sampling_rate, X_train, X_test, Y_train, Y_test, X_pretrain = load_dataset_classification(name)"
   ]
  },
  {
   "cell_type": "markdown",
   "id": "a468ca5c",
   "metadata": {
    "collapsed": false,
    "jupyter": {
     "outputs_hidden": false
    }
   },
   "source": [
    "## Multivariate generation if necessary\n",
    "\n",
    "Spectrograms_vs_Cochleagrams : https://www.researchgate.net/publication/340510607_Speech_recognition_using_very_deep_neural_networks_Spectrograms_vs_Cochleagrams"
   ]
  },
  {
   "cell_type": "markdown",
   "id": "37db5333-3b0a-4766-aec0-1380ecfeccd9",
   "metadata": {},
   "source": [
    "Attention ! For multivariate shape should be : (nb_of_timeseries, nb_of_timesteps)"
   ]
  },
  {
   "cell_type": "code",
   "execution_count": null,
   "id": "a8e23eff-cb24-44a4-bc29-41b81f5962bb",
   "metadata": {},
   "outputs": [],
   "source": [
    "if is_multivariate:\n",
    "    X_train_band, X_test_band, X_pretrain_band = X_train, X_test, X_pretrain\n",
    "    del X_train\n",
    "    del X_test\n",
    "    del X_pretrain"
   ]
  },
  {
   "cell_type": "code",
   "execution_count": null,
   "id": "380ad0f4-4dbc-4b97-8d28-8ffb357715d7",
   "metadata": {
    "ExecuteTime": {
     "end_time": "2023-10-20T11:11:18.377724Z",
     "start_time": "2023-10-20T11:11:18.143305Z"
    }
   },
   "outputs": [],
   "source": [
    "import datasets.multivariate_generation\n",
    "reload(datasets.multivariate_generation)\n",
    "\n",
    "from datasets.multivariate_generation import extract_peak_frequencies\n",
    "\n",
    "if is_multivariate:\n",
    "    filtered_peak_freqs = extract_peak_frequencies(X_pretrain_band.T, sampling_rate, threshold=1e-5, nperseg=1024, visualize=True)\n",
    "else:\n",
    "    filtered_peak_freqs = extract_peak_frequencies(X_pretrain, sampling_rate, threshold=1e-5, nperseg=1024, visualize=True)\n",
    "\n",
    "#print(\"Filtered peak frequencies: \", filtered_peak_freqs)\n",
    "print(\"Number of frequencies selected :\", len(filtered_peak_freqs))"
   ]
  },
  {
   "cell_type": "markdown",
   "id": "766304bc-3c47-4813-9828-91d8fed5845b",
   "metadata": {},
   "source": [
    "### Applying normal band pass filter on data and standardisation (inside the function)"
   ]
  },
  {
   "cell_type": "code",
   "execution_count": null,
   "id": "5690a984-394f-4be3-912c-ee2ca4cc1ba4",
   "metadata": {
    "ExecuteTime": {
     "end_time": "2023-10-20T11:11:39.227368Z",
     "start_time": "2023-10-20T11:11:19.130705Z"
    },
    "editable": true,
    "slideshow": {
     "slide_type": ""
    },
    "tags": []
   },
   "outputs": [],
   "source": [
    "from datasets.multivariate_generation import generate_multivariate_dataset, extract_peak_frequencies\n",
    "\n",
    "from sklearn.preprocessing import StandardScaler\n",
    "from sklearn.preprocessing import MinMaxScaler\n",
    "\n",
    "scaler = MinMaxScaler(feature_range=(0, 1))\n",
    "\n",
    "if not is_multivariate:\n",
    "    X_pretrain_band, X_train_band, X_test_band = generate_multivariate_dataset(\n",
    "        filtered_peak_freqs, X_pretrain, X_train, X_test, sampling_rate, scaler, is_instances_classification, nb_jobs=-1\n",
    "    )"
   ]
  },
  {
   "cell_type": "markdown",
   "id": "e6b859e5-c6dd-4086-ac56-42a7de3ed25e",
   "metadata": {
    "editable": true,
    "slideshow": {
     "slide_type": ""
    },
    "tags": []
   },
   "source": [
    "### Standardizing the amplitudes"
   ]
  },
  {
   "cell_type": "code",
   "execution_count": null,
   "id": "bb45e001-4920-47e1-8dbb-6681cf9b32e9",
   "metadata": {
    "ExecuteTime": {
     "end_time": "2023-10-20T11:12:00.856649Z",
     "start_time": "2023-10-20T11:11:39.230512Z"
    }
   },
   "outputs": [],
   "source": [
    "# pretrain\n",
    "# Be really carefull of the column order here !\n",
    "filtered_data = scaler.fit_transform(X_pretrain_band.T)\n",
    "filtered_data = filtered_data.T\n",
    "\n",
    "\n",
    "if is_instances_classification:\n",
    "    print(\"processing for Classification\")\n",
    "    X_train_band = [scaler.fit_transform(time_series) for time_series in tqdm(X_train_band)]\n",
    "    X_test_band = [scaler.fit_transform(time_series) for time_series in tqdm(X_test_band)]\n",
    "\n",
    "    if not is_multivariate:\n",
    "        # train\n",
    "        X_train = [scaler.fit_transform(x).flatten() for x in tqdm(X_train)]\n",
    "    \n",
    "        # test\n",
    "        X_test = [scaler.fit_transform(x).flatten() for x in tqdm(X_test)]\n",
    "else :\n",
    "    print(\"processing for Prediction\")\n",
    "    train_len= X_train_band.shape[0]\n",
    "\n",
    "    concatenated_Y = np.concatenate([Y_train, Y_test])\n",
    "    standardized_Y = scaler.fit_transform(concatenated_Y)\n",
    "    Y_train = standardized_Y[:train_len]\n",
    "    Y_test = standardized_Y[train_len:]\n",
    "\n",
    "    # FOR MULTIVARIATE DATA\n",
    "    concatenated_X_band = np.concatenate([X_train_band, X_test_band])\n",
    "    standardized_X_band = scaler.fit_transform(concatenated_X_band)\n",
    "    X_train_band = standardized_X_band[:train_len]\n",
    "    X_test_band = standardized_X_band[train_len:]\n",
    "        \n",
    "    if not is_multivariate:\n",
    "        concatenated_X = np.concatenate([X_train.flatten(), X_test.flatten()])\n",
    "        standardized_X = scaler.fit_transform(concatenated_X.reshape(-1, 1))\n",
    "        X_train = standardized_X[:train_len]\n",
    "        X_test = standardized_X[train_len:]\n"
   ]
  },
  {
   "cell_type": "code",
   "execution_count": null,
   "id": "acee634c-58a6-46e4-8b26-516d8b32cf05",
   "metadata": {},
   "outputs": [],
   "source": [
    "Y_train.shape"
   ]
  },
  {
   "cell_type": "markdown",
   "id": "e2b39f1d-d8d6-451b-8d4d-b8f8f74a498d",
   "metadata": {},
   "source": [
    "## Plot pretraining dataset"
   ]
  },
  {
   "cell_type": "code",
   "execution_count": null,
   "id": "ab965ec2-e31c-475e-b452-05c9dbfde13b",
   "metadata": {
    "ExecuteTime": {
     "end_time": "2023-10-20T11:12:00.858650Z",
     "start_time": "2023-10-20T11:12:00.856783Z"
    }
   },
   "outputs": [],
   "source": [
    "# Min window size to get all the dynamics ? \n",
    "min_window_size = sampling_rate/np.max(np.hstack(filtered_peak_freqs))\n",
    "max_window_size = sampling_rate/np.min(np.hstack(filtered_peak_freqs))\n",
    "\n",
    "print(min_window_size)\n",
    "print(max_window_size)"
   ]
  },
  {
   "cell_type": "code",
   "execution_count": null,
   "id": "bcd00d3f-9b0c-475f-bac9-b46e5f92adfb",
   "metadata": {
    "ExecuteTime": {
     "start_time": "2023-10-20T11:12:00.862019Z"
    },
    "is_executing": true,
    "tags": []
   },
   "outputs": [],
   "source": [
    "#Compute the moving average \n",
    "window_size = 10\n",
    "\n",
    "if max_window_size <= window_size or  window_size <= min_window_size:\n",
    "    raise ValueError(f\"window_size must be greater than {min_window_size} and smaller than {max_window_size}. Current window_size is {window_size}.\")\n",
    "\n",
    "weights = np.repeat(1.0, window_size)/window_size\n",
    "ma = np.array([np.convolve(d, weights, 'valid') for d in (filtered_data)])\n",
    "\n",
    "END = 1500\n",
    "START = 1000\n",
    "DIFF = END - START\n",
    "#CPlot the two for different frequencies\n",
    "NB_1 = 1\n",
    "fig, ax = plt.subplots(3, 1, figsize=(24,18))\n",
    "ax[0].plot(range(DIFF), filtered_data[NB_1, START:END], label='Time serie')\n",
    "ax[0].plot(range(DIFF), ma[NB_1, START:END], label='Moving average')\n",
    "ax[0].legend(fontsize=26)\n",
    "\n",
    "NB_2 = 2\n",
    "ax[1].plot(range(DIFF), filtered_data[NB_2, START:END], label='Time serie')\n",
    "ax[1].plot(range(DIFF), ma[NB_2, START:END], label='Moving average')\n",
    "\n",
    "#Check that the scaler did a good job (this is the not scaled version)\n",
    "ax[2].plot(range(DIFF), X_pretrain_band[NB_2, START:END], label='Time serie')\n",
    "\n",
    "for i, ax in enumerate(ax):\n",
    "    # Format subplot\n",
    "    ax.spines['top'].set_visible(False)\n",
    "    ax.spines['right'].set_visible(False)\n",
    "    ax.tick_params(axis='both', labelsize=26)\n",
    "    # draw vertical lines to represent the window for some points\n",
    "    for x in range(100, 500, 100):\n",
    "        ax.axvspan(x, x + window_size, color='g', alpha=0.2)\n",
    "\n",
    "plt.show()"
   ]
  },
  {
   "cell_type": "markdown",
   "id": "39c54ed2-d74c-43a0-b8d8-0d42bd3a62ae",
   "metadata": {},
   "source": [
    "## Find common dimension"
   ]
  },
  {
   "cell_type": "code",
   "execution_count": null,
   "id": "2952d3b8-bfa3-484b-a6a8-cf6719f568ad",
   "metadata": {},
   "outputs": [],
   "source": [
    "def find_common_dimension(array1, array2):\n",
    "    matching_indices = None\n",
    "    matching_values = None\n",
    "\n",
    "    for i, dim in enumerate(array1.shape):\n",
    "        if dim in array2.shape:\n",
    "            matching_indices = i\n",
    "            matching_values = dim\n",
    "  \n",
    "    return matching_indices, matching_values\n",
    "\n",
    "if isinstance(X_train_band, list): # Multiple instances -> classification\n",
    "    common_xtrain_index, common_xtrain_size = find_common_dimension(X_train_band[0], filtered_data)\n",
    "else:\n",
    "    common_xtrain_index = 0\n",
    "    common_xtrain_size = filtered_data.shape[common_xtrain_index]\n",
    "\n",
    "print(\"Common dimension index is :\", common_xtrain_index)\n",
    "print(\"Number of different time series is :\", common_xtrain_size)\n",
    "if is_multivariate:\n",
    "    print(\"\\nCheck it ! \\nFirst array \", X_train_band[0].shape, \" and second array\", X_train_band[1].shape)\n"
   ]
  },
  {
   "cell_type": "markdown",
   "id": "dd93f662-f197-4b0a-a140-090f3c0909d2",
   "metadata": {},
   "source": [
    "# Generating reservoirs"
   ]
  },
  {
   "cell_type": "markdown",
   "id": "8685e0ff43b927c3",
   "metadata": {
    "collapsed": false,
    "jupyter": {
     "outputs_hidden": false
    }
   },
   "source": [
    "## Reservoir functions"
   ]
  },
  {
   "cell_type": "code",
   "execution_count": null,
   "id": "615a38d2df41a727",
   "metadata": {
    "collapsed": false,
    "jupyter": {
     "outputs_hidden": false
    }
   },
   "outputs": [],
   "source": [
    "from reservoir.activation_functions import tanh, heaviside, sigmoid\n",
    "\n",
    "# the activation function choosen for the rest of the experiment\n",
    "# activation_function = lambda x : sigmoid(2*(x-0.5))\n",
    "activation_function = lambda x : tanh(x)\n",
    "\n",
    "plt.plot(np.linspace(0, 1.1, 100), activation_function(np.linspace(0, 1.1, 100)))\n",
    "plt.grid()"
   ]
  },
  {
   "cell_type": "markdown",
   "id": "e3be90fde85cfcf6",
   "metadata": {
    "collapsed": false,
    "editable": true,
    "jupyter": {
     "outputs_hidden": false
    },
    "slideshow": {
     "slide_type": ""
    },
    "tags": []
   },
   "source": [
    "## Timeseries duplications to adapt to reservoir size"
   ]
  },
  {
   "cell_type": "markdown",
   "id": "770968b147c07381",
   "metadata": {
    "collapsed": false,
    "jupyter": {
     "outputs_hidden": false
    }
   },
   "source": [
    "Here we calculate \n",
    "**common_dimension** : the number of different dimensions in the input data\n",
    " **K** : the number of euron that will receive a particular time serie as input \n",
    "**n** : the dimension of the reservoir \n",
    "\n",
    "n = K * common_dimension"
   ]
  },
  {
   "cell_type": "code",
   "execution_count": null,
   "id": "b0f44547",
   "metadata": {
    "is_executing": true,
    "tags": []
   },
   "outputs": [],
   "source": [
    "import math \n",
    "\n",
    "RESERVOIR_SIZE = 1000\n",
    "\n",
    "# We want the size of the reservoir to be at least 200\n",
    "K = math.ceil(RESERVOIR_SIZE / common_xtrain_size)\n",
    "n = common_xtrain_size * K\n",
    "print(\"Dimension of our reservoir :\", n)\n",
    "print(\"Copy of each time serie :\", K)\n"
   ]
  },
  {
   "cell_type": "markdown",
   "id": "ba9c74fb-b8f1-4088-9b43-4c0c6f496434",
   "metadata": {},
   "source": [
    "## Datasets formating and noise"
   ]
  },
  {
   "cell_type": "code",
   "execution_count": null,
   "id": "b49a01ef-7b49-4493-aa96-3ea65b18b118",
   "metadata": {},
   "outputs": [],
   "source": [
    "# Define noise parameter\n",
    "noise_std = 0.001\n"
   ]
  },
  {
   "cell_type": "markdown",
   "id": "f28bdfbc-ffc7-465b-bc6e-230769d87199",
   "metadata": {},
   "source": [
    "### Pretrain"
   ]
  },
  {
   "cell_type": "code",
   "execution_count": null,
   "id": "51ab577a-d763-4ad4-99a3-e62d9139a3a2",
   "metadata": {},
   "outputs": [],
   "source": [
    "# PRETRAIN\n",
    "filtered_data_noisy = []\n",
    "for instance in filtered_data:\n",
    "    # Add noise to the time series\n",
    "    filtered_data_noisy.append(instance + np.random.normal(0, noise_std, instance.shape))\n",
    "\n",
    "if not is_multivariate:\n",
    "    X_pretrain_noisy = X_pretrain + np.random.normal(0, noise_std, X_pretrain.shape)\n"
   ]
  },
  {
   "cell_type": "code",
   "execution_count": null,
   "id": "e6ab2f7f-7bff-4978-8ed0-c3364c4aff35",
   "metadata": {},
   "outputs": [],
   "source": [
    "from connexion_generation.utility import TwoDimArrayWrapper\n",
    "\n",
    "# We create an array of the same shape as X_pretrain_band but with the same time serie repeated K times\n",
    "X_pretrain_multi = TwoDimArrayWrapper(np.repeat(filtered_data, K, axis=0)) # filtered_data_noisy or filtered_data\n",
    "X_pretrain_multi_noisy = TwoDimArrayWrapper(np.repeat(filtered_data_noisy, K, axis=0)) # filtered_data_noisy or filtered_data\n",
    "\n",
    "if not is_multivariate:\n",
    "    X_pretrain_uni = X_pretrain.flatten() # X_pretrain_noisy or X_pretrain\n",
    "    X_pretrain_uni_noisy = X_pretrain_noisy.flatten() # X_pretrain_noisy or X_pretrain"
   ]
  },
  {
   "cell_type": "markdown",
   "id": "b8fae4bd-9b8e-4eca-a8bb-e2daffaf732b",
   "metadata": {},
   "source": [
    "### For classification"
   ]
  },
  {
   "cell_type": "code",
   "execution_count": null,
   "id": "bb4d6b31-52cb-4982-a5dc-50dcdd755221",
   "metadata": {},
   "outputs": [],
   "source": [
    "if is_instances_classification:\n",
    "    # We give Xtrain_band and Xtest_band the same shape as the expected input of the reservoir\n",
    "    #TRAIN \n",
    "    X_train_band_noisy = []\n",
    "    for instance in tqdm(X_train_band):\n",
    "        # Add noise to the time series\n",
    "        X_train_band_noisy.append(instance + np.random.normal(0, noise_std, instance.shape))\n",
    "\n",
    "    X_train_band_duplicated = []\n",
    "    X_train_band_noisy_duplicated = []\n",
    "    for i in tqdm(range(len(X_train_band))):\n",
    "        if common_xtrain_index == 1:\n",
    "            X_train_band_duplicated.append(np.repeat(X_train_band[i], K, axis=1))\n",
    "            X_train_band_noisy_duplicated.append(np.repeat(X_train_band_noisy[i], K, axis=1))\n",
    "        else:\n",
    "            X_train_band_duplicated.append(np.repeat(X_train_band[i], K, axis=0).T) # correct axis depends on X_train_band shape\n",
    "            X_train_band_noisy_duplicated.append(np.repeat(X_train_band_noisy[i], K, axis=0).T) # correct axis depends on X_train_band shape\n",
    "\n",
    "\n",
    "    #TEST\n",
    "    X_test_band_noisy = []\n",
    "    for instance in tqdm(X_test_band):\n",
    "        # Add noise to the time series\n",
    "        X_test_band_noisy.append(instance + np.random.normal(0, noise_std, instance.shape))\n",
    "\n",
    "    X_test_band_duplicated = []\n",
    "    X_test_band_noisy_duplicated = []\n",
    "    for i in tqdm(range(len(X_test_band))):\n",
    "        if common_xtrain_index == 1:\n",
    "            X_test_band_duplicated.append(np.repeat(X_test_band[i], K, axis=1))\n",
    "            X_test_band_noisy_duplicated.append(np.repeat(X_test_band_noisy[i], K, axis=1))\n",
    "        else:\n",
    "            X_test_band_duplicated.append(np.repeat(X_test_band[i], K, axis=0).T)\n",
    "            X_test_band_noisy_duplicated.append(np.repeat(X_test_band_noisy[i], K, axis=0).T)\n",
    "            \n",
    "    X_test_band, X_test_band_noisy, X_train_band, X_train_band_noisy = None, None, None, None\n"
   ]
  },
  {
   "cell_type": "markdown",
   "id": "3d90f822-b142-495d-850a-7198ea190b76",
   "metadata": {},
   "source": [
    "### For prediction"
   ]
  },
  {
   "cell_type": "code",
   "execution_count": null,
   "id": "533de743-2235-4570-9f11-253751658424",
   "metadata": {},
   "outputs": [],
   "source": [
    "if not is_instances_classification:\n",
    "    X_train_band = np.repeat(np.squeeze(np.array(X_train_band)), K, axis=1).T\n",
    "    X_test_band = np.repeat(np.squeeze(np.array(X_test_band)), K, axis=1).T\n",
    "\n",
    "    # UNI\n",
    "    if not is_multivariate:\n",
    "        X_train_noisy = X_train + np.random.normal(0, noise_std, X_train.shape)\n",
    "        X_test_noisy = X_test + np.random.normal(0, noise_std, X_test.shape)\n",
    "\n",
    "    # MULTI\n",
    "    X_train_band_noisy = []\n",
    "    for ts in X_train_band:\n",
    "        # Add noise to the time series\n",
    "        X_train_band_noisy.append(ts + np.random.normal(loc=0, scale=noise_std, size=ts.shape))\n",
    "    X_train_band_noisy = np.array(X_train_band_noisy)\n",
    "    \n",
    "    X_test_band_noisy = []\n",
    "    for ts in X_test_band:\n",
    "        # Add noise to the time series\n",
    "        X_test_band_noisy.append(ts + np.random.normal(loc=0, scale=noise_std, size=ts.shape))\n",
    "    X_test_band_noisy = np.array(X_test_band_noisy)\n"
   ]
  },
  {
   "cell_type": "markdown",
   "id": "5df206ba-36a2-4468-b719-7bc819114b1a",
   "metadata": {
    "collapsed": false,
    "jupyter": {
     "outputs_hidden": false
    }
   },
   "source": [
    "## Construct matrices"
   ]
  },
  {
   "cell_type": "markdown",
   "id": "0d6435e2-6f19-4987-9309-ab74694678fd",
   "metadata": {
    "collapsed": false,
    "editable": true,
    "jupyter": {
     "outputs_hidden": false
    },
    "slideshow": {
     "slide_type": ""
    },
    "tags": []
   },
   "source": [
    "### Shared parameters"
   ]
  },
  {
   "cell_type": "code",
   "execution_count": null,
   "id": "f4957e6c-e0cc-4d90-a495-348a8bbab3cd",
   "metadata": {
    "collapsed": false,
    "jupyter": {
     "outputs_hidden": false
    }
   },
   "outputs": [],
   "source": [
    "TIME_INCREMENT = int(min_window_size+1)\n",
    "MAX_TIME_INCREMENT = int(max_window_size) #int(max_window_size) or None\n",
    "WEIGHT_INCREMENT = 0.05\n",
    "target_rate = 0.7\n",
    "RATE_SPREAD = 0.1\n",
    "\n",
    "target_variance = 0.1\n",
    "VARIANCE_SPREAD = 0.3\n",
    "\n",
    "bias_scaling = 1\n",
    "input_scaling = 0.1\n",
    "leaky_rate = 1\n",
    "\n",
    "if max_window_size <= TIME_INCREMENT or  TIME_INCREMENT <= min_window_size:\n",
    "    raise ValueError(f\"INCREMENT must be greater than {min_window_size} and smaller than {max_window_size}. Current INCREMENT is {INCREMENT}.\")\n"
   ]
  },
  {
   "cell_type": "markdown",
   "id": "e19fd1fc57ed9157",
   "metadata": {
    "collapsed": false,
    "jupyter": {
     "outputs_hidden": false
    }
   },
   "source": [
    "### Function to initialise and generate reservoir"
   ]
  },
  {
   "cell_type": "code",
   "execution_count": null,
   "id": "ab39af15",
   "metadata": {
    "collapsed": false,
    "jupyter": {
     "outputs_hidden": false
    }
   },
   "outputs": [],
   "source": [
    "from reservoir.reservoir import init_matrices\n",
    "from connexion_generation.bounded_hadsp import run_hadsp_algorithm\n",
    "from connexion_generation.desp import run_desp_algorithm\n",
    "\n",
    "input_connectivity = 1\n",
    "connectivity = 0\n",
    "\n",
    "def initialise_and_train(input_scaling, n, input_connectivity, connectivity, bias_scaling, seed, training_set, visualize=False):\n",
    "    Win, W, bias = init_matrices(n, input_connectivity, connectivity, seed=seed)\n",
    "    bias *= bias_scaling\n",
    "    Win *= input_scaling\n",
    "        \n",
    "    W, state_history = run_hadsp_algorithm(W, Win, bias, leaky_rate, activation_function, training_set, TIME_INCREMENT, WEIGHT_INCREMENT,\n",
    "                            target_rate, RATE_SPREAD, max_increment=MAX_TIME_INCREMENT, mi_based=False, visualize=visualize)\n",
    "    \n",
    "    connectivity =  W.count_nonzero() / (W.shape[0] * W.shape[1])\n",
    "    eigen = sparse.linalg.eigs(W, k=1, which=\"LM\", maxiter=W.shape[0] * 20, tol=0.1, return_eigenvectors=False)\n",
    "    sr = max(abs(eigen))\n",
    "    \n",
    "    return Win, W, bias, connectivity, sr, state_history\n"
   ]
  },
  {
   "cell_type": "markdown",
   "id": "9c4de89f833989d0",
   "metadata": {
    "collapsed": false,
    "jupyter": {
     "outputs_hidden": false
    }
   },
   "source": [
    "### Multivariate matrices"
   ]
  },
  {
   "cell_type": "code",
   "execution_count": null,
   "id": "54472b03-ca39-4f13-92cf-e71e6d63c135",
   "metadata": {
    "editable": true,
    "slideshow": {
     "slide_type": ""
    },
    "tags": []
   },
   "outputs": [],
   "source": [
    "# HADSP + multi\n",
    "(Win_hadsp_multi, \n",
    " W_hadsp_multi, \n",
    " bias_hadsp_multi, \n",
    " connectivity_band, \n",
    " sr_hadsp_multi, \n",
    " state_history_hadsp_multi) = initialise_and_train(input_scaling, n, input_connectivity, connectivity, bias_scaling, SEED, X_pretrain_multi_noisy)\n",
    "\n",
    "# random + multi\n",
    "Win_random_multi, W_random_multi, bias_random_multi =  init_matrices(n, 1, connectivity_band, sr_hadsp_multi)\n",
    "bias_random_multi= bias_random_multi*bias_scaling\n",
    "Win_random_multi= Win_random_multi*input_scaling\n",
    "\n",
    "eigen_random_multi = sparse.linalg.eigs(W_random_multi, k=1, which=\"LM\", maxiter=W_random_multi.shape[0] * 20, tol=0.1, return_eigenvectors=False)\n",
    "sr_random_multi = max(abs(eigen_random_multi))\n",
    "\n",
    "from matplotlib.colors import ListedColormap\n",
    "\n",
    "custom_colormap = ListedColormap(np.vstack((plt.cm.cividis(0.0), plt.cm.cividis(np.linspace(0.5, 1, 128)))))\n",
    "heatmap(W_random_multi.todense(), cmap=custom_colormap, cbar=True)"
   ]
  },
  {
   "cell_type": "markdown",
   "id": "db9b3d83",
   "metadata": {
    "ExecuteTime": {
     "end_time": "2023-10-09T13:36:57.885053Z",
     "start_time": "2023-10-09T13:36:57.882050Z"
    },
    "editable": true,
    "slideshow": {
     "slide_type": ""
    },
    "tags": []
   },
   "source": [
    "### Univariate matrices"
   ]
  },
  {
   "cell_type": "code",
   "execution_count": null,
   "id": "21d83057",
   "metadata": {
    "editable": true,
    "slideshow": {
     "slide_type": ""
    },
    "tags": []
   },
   "outputs": [],
   "source": [
    "if not is_multivariate:\n",
    "    # HADSP + uni\n",
    "    (Win_hadsp_uni, \n",
    "     W_hadsp_uni, \n",
    "     bias_hadsp_uni, \n",
    "     connectivity_hadsp_uni, \n",
    "     sr_hadsp_uni,\n",
    "     state_history_hadsp_uni) = initialise_and_train(input_scaling, n,  input_connectivity, connectivity, bias_scaling, SEED, X_pretrain_uni_noisy)\n",
    "    \n",
    "    # random + uni\n",
    "    Win_normal, W_normal, bias_normal =  init_matrices(n, 1, connectivity_hadsp_uni, sr_hadsp_uni)\n",
    "    bias_normal= bias_normal*bias_scaling\n",
    "    Win_normal= Win_normal*input_scaling   \n",
    "    \n",
    "    eigen_normal = sparse.linalg.eigs(W_normal, k=1, which=\"LM\", maxiter=W_normal.shape[0] * 20, tol=0.1, return_eigenvectors=False)\n",
    "    sr_normal = max(abs(eigen_normal))\n",
    "    \n",
    "    from matplotlib.colors import ListedColormap\n",
    "    \n",
    "    custom_colormap = ListedColormap(np.vstack((plt.cm.cividis(0.0), plt.cm.cividis(np.linspace(0.5, 1, 128)))))\n",
    "    heatmap(W_hadsp_uni.todense(), cmap=custom_colormap, cbar=True)"
   ]
  },
  {
   "cell_type": "markdown",
   "id": "68129bc2-1cc6-4498-9e57-ed18e037643e",
   "metadata": {
    "ExecuteTime": {
     "start_time": "2023-10-09T13:38:25.203377Z"
    }
   },
   "source": [
    "### Spectral radius normalisation"
   ]
  },
  {
   "cell_type": "code",
   "execution_count": null,
   "id": "d49826ea",
   "metadata": {
    "tags": []
   },
   "outputs": [],
   "source": [
    "print(sr_hadsp_multi)\n",
    "print(sr_random_multi)\n",
    "if not is_multivariate:\n",
    "    print(sr_normal)\n",
    "    print(sr_hadsp_uni)"
   ]
  },
  {
   "cell_type": "raw",
   "id": "a537cc9c-d7bc-48b4-9d42-1dae4ab8f3ae",
   "metadata": {},
   "source": [
    "# Spectral radius normalisation\n",
    "normal_sr = 0.99\n",
    "W_hadsp_multi = W_hadsp_multi/sr_hadsp_multi*normal_sr\n",
    "W_random_multi = W_random_multi/sr_random_multi*normal_sr\n",
    "if not is_multivariate:\n",
    "    W_normal = W_normal/sr_normal*normal_sr\n",
    "    W_hadsp_uni = W_hadsp_uni/sr_hadsp_uni*normal_sr"
   ]
  },
  {
   "cell_type": "markdown",
   "id": "d5b447f6-e964-4f6c-9116-597cd29c1755",
   "metadata": {
    "ExecuteTime": {
     "end_time": "2023-10-09T13:13:26.845564Z",
     "start_time": "2023-10-09T13:13:26.821527Z"
    },
    "editable": true,
    "slideshow": {
     "slide_type": ""
    },
    "tags": []
   },
   "source": [
    "# Performance"
   ]
  },
  {
   "cell_type": "code",
   "execution_count": null,
   "id": "2f4ffd9c-ffc5-47ea-885d-f2f2a3e549fd",
   "metadata": {},
   "outputs": [],
   "source": [
    "from joblib import Parallel, delayed\n",
    "from sklearn.metrics import mutual_info_score\n",
    "\n",
    "N_JOBS = -1\n",
    "RIDGE_COEF = 1e-7"
   ]
  },
  {
   "cell_type": "markdown",
   "id": "e27380a6-3976-442d-8bb0-34bfc142985a",
   "metadata": {},
   "source": [
    "## Classification"
   ]
  },
  {
   "cell_type": "code",
   "execution_count": null,
   "id": "16e3a176-3f9e-4b46-84ec-a70b70663000",
   "metadata": {},
   "outputs": [],
   "source": [
    "if not is_instances_classification:\n",
    "    raise ValueError(\"This is not the right Prediction ahead section.\")"
   ]
  },
  {
   "cell_type": "markdown",
   "id": "0f3b3a4e-b06e-450a-b7c5-68802be8013d",
   "metadata": {},
   "source": [
    "### Classification for multivariate"
   ]
  },
  {
   "cell_type": "code",
   "execution_count": null,
   "id": "d3534f99-25b5-4653-8dcf-7073183e0eaa",
   "metadata": {},
   "outputs": [],
   "source": [
    "print(\"X_train_band_duplicated example shape :\", X_train_band_duplicated[1].shape)     \n",
    "print(\"We should have :\", X_train_band_duplicated[0].shape[1], \"==\", n)"
   ]
  },
  {
   "cell_type": "code",
   "execution_count": null,
   "id": "00b9130e-a834-4256-8f29-e42add2eee19",
   "metadata": {
    "editable": true,
    "slideshow": {
     "slide_type": ""
    },
    "tags": []
   },
   "outputs": [],
   "source": [
    "from performances.esn_model_evaluation import init_and_train_model_for_classification\n",
    "# To remember : \n",
    "#  For reservoirpy   pre_s = W @ r + Win @ (u + noise_gen(dist=dist, shape=u.shape, gain=g_in)) + bias\n",
    "\n",
    "train_data_multi = X_train_band_duplicated # X_train_band_noisy_duplicated or X_train_band_duplicated\n",
    "test_data_multi = X_test_band_noisy_duplicated # X_test_band_noisy_duplicated or X_test_band_duplicated\n",
    "\n",
    "reservoir_hadsp_multi, readout_hadsp_multi = init_and_train_model_for_classification(W_hadsp_multi, np.diag(Win_hadsp_multi.A.T[0]), bias_hadsp_multi, activation_function, RIDGE_COEF, train_data_multi, Y_train, N_JOBS)\n",
    "\n",
    "reservoir_random_multi, readout_random_multi = init_and_train_model_for_classification(W_random_multi, np.diag(Win_random_multi.A.T[0]), bias_random_multi, activation_function, RIDGE_COEF, train_data_multi, Y_train, N_JOBS)\n"
   ]
  },
  {
   "cell_type": "code",
   "execution_count": null,
   "id": "fd3dc743-36c8-4821-948d-f14f43af8104",
   "metadata": {},
   "outputs": [],
   "source": [
    "from performances.esn_model_evaluation import predict_model_for_classification, compute_score\n",
    "\n",
    "Y_pred_hadsp_multi = predict_model_for_classification(reservoir_hadsp_multi, readout_hadsp_multi, test_data_multi, N_JOBS)\n",
    "score = compute_score(Y_pred_hadsp_multi, Y_test, \"HADSP multi\")\n",
    "\n",
    "Y_pred_random_multi = predict_model_for_classification(reservoir_random_multi, readout_random_multi, test_data_multi, N_JOBS)\n",
    "score = compute_score(Y_pred_random_multi, Y_test, \"random multi\")"
   ]
  },
  {
   "cell_type": "markdown",
   "id": "9a5f3553-1d28-4340-b4b9-f3dc673bdcac",
   "metadata": {
    "ExecuteTime": {
     "end_time": "2023-10-09T13:59:05.097521Z",
     "start_time": "2023-10-09T13:59:04.992489Z"
    }
   },
   "source": [
    "### Classification for univariate"
   ]
  },
  {
   "cell_type": "code",
   "execution_count": null,
   "id": "db50e2ca-93d7-48bb-bcff-4f885e8d5a6f",
   "metadata": {},
   "outputs": [],
   "source": [
    "if not is_multivariate: \n",
    "    # Create a list to store the arrays with the same shape as the expected input of the reservoir\n",
    "\n",
    "    train_data_uni = [np.stack([ts]*n).T for ts in X_train]\n",
    "    test_data_uni = [np.stack([ts]*n).T for ts in X_test]\n",
    "\n",
    "    print(\"number of instances in pipi :\", len(train_data_uni), \"should be equal to\", len(X_train))     \n",
    "    print(\"pipi example shape :\", train_data_uni[0].shape)     \n",
    "    print(\"We should have :\", train_data_uni[0].shape[1], \"==\", n)"
   ]
  },
  {
   "cell_type": "code",
   "execution_count": null,
   "id": "b91d01e8-8763-4bf3-ae0a-4c4569231dc4",
   "metadata": {},
   "outputs": [],
   "source": [
    "if not is_multivariate:\n",
    "    Y_pred_hadsp_uni = init_and_train_model_for_classification(W_hadsp_uni, Win_hadsp_uni, bias_hadsp_uni, activation_function, RIDGE_COEF, train_data_uni, Y_train, N_JOBS)\n",
    "    \n",
    "    Y_pred_normal = init_and_train_model_for_classification(W_normal, Win_normal, bias_normal, activation_function, RIDGE_COEF, train_data_uni, Y_train, N_JOBS)"
   ]
  },
  {
   "cell_type": "code",
   "execution_count": null,
   "id": "4c5f4028-f457-46b4-a219-7f5fed575af6",
   "metadata": {},
   "outputs": [],
   "source": [
    "if not is_multivariate:\n",
    "    Y_pred_hadsp_uni = predict_model_for_classification(reservoir_hadsp_uni, readout_hadsp_uni, test_data_uni, N_JOBS)\n",
    "    score = compute_score(Y_pred_hadsp_uni, Y_test, \"HADSP uni\")\n",
    "    \n",
    "    Y_pred_normal = predict_model_for_classification(reservoir_random_uni, readout_random_uni, test_data_uni, N_JOBS)\n",
    "    score = compute_score(Y_pred_normal, Y_test, \"random uni\")"
   ]
  },
  {
   "cell_type": "markdown",
   "id": "5dc7ab1a-e020-489a-8ff9-9bbd689de15e",
   "metadata": {
    "jp-MarkdownHeadingCollapsed": true
   },
   "source": [
    "## Prediction ahead"
   ]
  },
  {
   "cell_type": "code",
   "execution_count": null,
   "id": "f25c06e5-71c1-4f72-ac0f-7e4f1f15afd2",
   "metadata": {},
   "outputs": [],
   "source": [
    "if is_instances_classification:\n",
    "    raise ValueError(\"This is not the right Classification section.\")"
   ]
  },
  {
   "cell_type": "markdown",
   "id": "2d11c5fc-45b0-4180-9953-bb13800da95b",
   "metadata": {},
   "source": [
    "### Plot datasets\n",
    "Noisy or normal dataset can be ploted"
   ]
  },
  {
   "cell_type": "code",
   "execution_count": null,
   "id": "6b6d45a7-49c9-4e1e-a473-652bc90d64eb",
   "metadata": {},
   "outputs": [],
   "source": [
    "# Concatenate train and test arrays for plotting\n",
    "combined_data = np.concatenate((X_train_band, X_test_band), axis=1)\n",
    "\n",
    "# noisy version\n",
    "combined_data_noisy = np.concatenate((X_train_band, X_test_band_noisy), axis=1)\n",
    "combined_Y =np.concatenate((Y_train, Y_test), axis=0)\n",
    "\n",
    "# Calculate the merge point index\n",
    "merge_point_index = len(X_train_band[0])\n",
    "\n",
    "# Define the range around the merge point to plot\n",
    "start_index = merge_point_index - 100\n",
    "end_index = merge_point_index + 100\n",
    "\n",
    "# Plot for a subset N features within a range arround transition from train to test\n",
    "N = 3\n",
    "plt.figure(figsize=(16, 5))\n",
    "for i in [63, 478, 873]: \n",
    "    plt.plot(range(start_index, end_index), combined_data_noisy[i, start_index:end_index], label=f'Feature {i}')\n",
    "plt.plot(range(start_index, end_index), combined_Y[start_index:end_index], label=\"Prediction\")\n",
    "plt.title('Feature Values Around Merge Point')\n",
    "plt.xlabel('Sample Index')\n",
    "plt.ylabel('Feature Value')\n",
    "plt.legend()\n",
    "plt.show()"
   ]
  },
  {
   "cell_type": "markdown",
   "id": "2f1bcdbf",
   "metadata": {},
   "source": [
    "### Training\n",
    "Noisy or normal dataset can be used"
   ]
  },
  {
   "cell_type": "code",
   "execution_count": null,
   "id": "8d012581-4559-4924-8ba1-9d1b6dea2ad5",
   "metadata": {},
   "outputs": [],
   "source": [
    "from performances.esn_model_evaluation import init_and_train_model_for_prediction\n",
    "\n",
    "if not is_multivariate:\n",
    "    train_data_uni = X_train # X_train_noisy or X_train\n",
    "    \n",
    "    # Training random + MG\n",
    "    reservoir_random_uni, readout_random_uni = init_and_train_model_for_prediction(W_normal, Win_normal, bias_normal, activation_function, RIDGE_COEF, train_data_uni, Y_train)\n",
    "    \n",
    "    # Training for HADSP + MG\n",
    "    reservoir_hadsp_uni, readout_hadsp_uni = init_and_train_model_for_prediction(W_hadsp_uni, Win_hadsp_uni, bias_hadsp_uni, activation_function, RIDGE_COEF, train_data_uni, Y_train)\n",
    "\n",
    "train_data_multi = X_train_band.T # X_train_band_noisy or train_band_inputs\n",
    "\n",
    "# Training random + bandfilter\n",
    "reservoir_random_multi, readout_random_multi = init_and_train_model_for_prediction(W_random_multi, np.diag(Win_random_multi.A.T[0]), bias_random_multi, activation_function, RIDGE_COEF, train_data_multi, Y_train)\n",
    "\n",
    "# Training output HASDP + bandfilter\n",
    "reservoir_hadsp_multi, readout_hadsp_multi = init_and_train_model_for_prediction(W_hadsp_multi, np.diag(Win_hadsp_multi.A.T[0]), bias_hadsp_multi, activation_function, RIDGE_COEF, train_data_multi, Y_train)\n",
    "                                                                                   "
   ]
  },
  {
   "cell_type": "markdown",
   "id": "11fcfe07-1ad0-4d8f-827f-bb9776e8086e",
   "metadata": {},
   "source": [
    "### Prediction\n",
    "Noisy or normal dataset can be used"
   ]
  },
  {
   "cell_type": "code",
   "execution_count": null,
   "id": "a65dac84",
   "metadata": {
    "tags": []
   },
   "outputs": [],
   "source": [
    "from reservoir.reservoir import run\n",
    "\n",
    "if not is_multivariate:\n",
    "    test_data_uni = X_test_noisy # X_test_noisy or X_test\n",
    "\n",
    "    # Prediction for random + MG\n",
    "    y_pred_random_uni = readout_random_uni.run(reservoir_random_uni.run(test_data_uni, reset=False)) \n",
    "\n",
    "    # Prediction for HADSP + MG\n",
    "    y_pred_hadsp_uni = readout_hadsp_uni.run(reservoir_hadsp_uni.run(test_data_uni, reset=False)) \n",
    "\n",
    "test_data_multi = X_test_band_noisy.T # X_test_band_noisy or test_band_inputs\n",
    "\n",
    "# Prediction for random + bandfilter\n",
    "y_pred_random_multi = readout_random_multi.run(reservoir_random_multi.run(test_data_multi, reset=False)) \n",
    "\n",
    "# Prediction for HADSP + bandfilter\n",
    "y_pred_hadsp_multi = readout_hadsp_multi.run(reservoir_hadsp_multi.run(test_data_multi, reset=False)) \n"
   ]
  },
  {
   "cell_type": "code",
   "execution_count": null,
   "id": "61165568",
   "metadata": {
    "tags": []
   },
   "outputs": [],
   "source": [
    "from plots.performances import plot_results\n",
    "from reservoir.losses import nrmse, nrmse_multivariate\n",
    "from sklearn.metrics import mean_squared_error\n",
    "\n",
    "END_STEP = 500\n",
    "START_STEP = 100\n",
    "slice_range = slice(START_STEP, END_STEP)\n",
    "\n",
    "if not is_multivariate:\n",
    "    print(\"nrmse normal         :\", float(nrmse(Y_test[slice_range], y_pred_random_uni[slice_range])))\n",
    "    print(\"nrmse hadsp          :\", float(nrmse(Y_test[slice_range], y_pred_hadsp_uni[slice_range])))\n",
    "print(\"nrmse random + band  :\", float(nrmse_multivariate(Y_test[slice_range], y_pred_random_multi[slice_range])))\n",
    "print(\"nrmse hadsp + band   :\", float(nrmse_multivariate(Y_test[slice_range], y_pred_hadsp_multi[slice_range])))\n",
    "\n",
    "plot_results(y_pred_hadsp_multi, Y_test, 0, 300)\n"
   ]
  },
  {
   "cell_type": "code",
   "execution_count": null,
   "id": "d0b5bf2d-368f-4e55-b068-c42c36efe2cf",
   "metadata": {},
   "outputs": [],
   "source": [
    "# moving average of the y\n",
    "span=5\n",
    "pad_width = span // 2\n",
    "\n",
    "ave_y_random_uni = np.convolve(np.pad(y_pred_random_uni.flatten(), pad_width, mode='edge'), np.ones(span), 'valid') / span\n",
    "ave_y_hadsp_uni = np.convolve(np.pad(y_pred_hadsp_uni.flatten(), pad_width, mode='edge') , np.ones(span), 'valid') / span\n",
    "ave_y_random_multi = np.convolve(np.pad(y_pred_random_multi.flatten(), pad_width, mode='edge'), np.ones(span), 'valid') / span\n",
    "ave_y_hadsp_multi = np.convolve(np.pad(y_pred_hadsp_multi.flatten(), pad_width, mode='edge'), np.ones(span), 'valid') / span\n",
    "\n",
    "print(\"nrmse normal         :\", float(nrmse(Y_test[slice_range], ave_y_random_uni[slice_range])))\n",
    "print(\"nrmse hadsp          :\", float(nrmse(Y_test[slice_range], ave_y_hadsp_uni[slice_range])))\n",
    "print(\"nrmse random + band  :\", float(nrmse(Y_test[slice_range], ave_y_random_multi[slice_range])))\n",
    "print(\"nrmse hadsp + band   :\", float(nrmse(Y_test[slice_range], ave_y_hadsp_multi[slice_range])))\n",
    " \n",
    "plot_results(ave_y_hadsp_multi.reshape(-1,1), Y_test, 300)"
   ]
  },
  {
   "cell_type": "code",
   "execution_count": null,
   "id": "3bc19b97",
   "metadata": {
    "editable": true,
    "slideshow": {
     "slide_type": ""
    },
    "tags": []
   },
   "outputs": [],
   "source": [
    "nrmse_array_random_uni = []\n",
    "nrmse_array_hadsp_uni = []\n",
    "nrmse_array_random_multi = []\n",
    "nrmse_array_hadsp_multi = []\n",
    "\n",
    "for i in range(len(Y_test)-100- step_ahead):\n",
    "    Y_test_i = Y_test[i:100+i]\n",
    "    nrmse_array_random_uni.append(nrmse(Y_test_i, y_pred_random_uni[i:100+i]))\n",
    "    nrmse_array_hadsp_uni.append(nrmse(Y_test_i, y_pred_hadsp_uni[i:100+i]))\n",
    "    nrmse_array_random_multi.append(nrmse(Y_test_i, y_pred_random_multi[i:100+i]))\n",
    "    nrmse_array_hadsp_multi.append(nrmse(Y_test_i, y_pred_hadsp_multi[i:100+i]))\n",
    "    \n",
    "log10_nrmse_random_uni= np.log10(nrmse_array_random_uni)\n",
    "log10_nrmse_hadsp_uni = np.log10(nrmse_array_hadsp_uni)\n",
    "log10_nrmse_random_multi = np.log10(nrmse_array_random_multi)\n",
    "log10_nrmse_hadsp_multi = np.log10(nrmse_array_hadsp_multi)\n",
    "plt.figure()\n",
    "plt.plot(log10_nrmse_random_uni[:1000])\n",
    "plt.plot(log10_nrmse_hadsp_uni[:1000])\n",
    "plt.plot(log10_nrmse_random_multi[:1000])\n",
    "plt.plot(log10_nrmse_hadsp_multi[:1000])\n",
    "\n",
    "plt.xlabel('Time steps')\n",
    "plt.ylabel('Log10 NRMSE')\n",
    "plt.legend([\"HADSP+band\", \"random\", \" random + bandfilter\", \"HADSP\"])\n",
    "plt.show()"
   ]
  },
  {
   "cell_type": "markdown",
   "id": "0b27da37",
   "metadata": {},
   "source": [
    "# Analysis"
   ]
  },
  {
   "cell_type": "code",
   "execution_count": null,
   "id": "0cb2478c-bb79-4bc0-855f-b028109c8022",
   "metadata": {},
   "outputs": [],
   "source": [
    "import pandas as pd\n",
    "import seaborn as sns\n",
    "import matplotlib.pyplot as plt\n",
    "import numpy as np\n",
    "from scipy.cluster.hierarchy import linkage, leaves_list\n",
    "\n",
    "scaler = MinMaxScaler(feature_range=(-1, 1))\n",
    "\n",
    "# pretrain\n",
    "# Be really carefull of the column order here !\n",
    "df_data = scaler.fit_transform(X_pretrain_band.T)\n",
    "df_data = df_data.T\n",
    "df = pd.DataFrame(df_data.T)\n",
    "# Initialize a progress bar for total number of series\n",
    "progress_bar = tqdm(total=df.shape[1]**2, position=0, leave=True)\n",
    "\n",
    "# Initialize an empty correlation matrix\n",
    "correlation_matrix = pd.DataFrame(index=df.columns, columns=df.columns)\n",
    "\n",
    "# Calculate the correlation for each pair of series\n",
    "for col1 in df.columns:\n",
    "    progress_bar.set_description(f\"Processing {col1}\")\n",
    "    for col2 in df.columns:\n",
    "        correlation_matrix.loc[col1, col2] = df[col1].corr(df[col2], method='pearson', min_periods=5)\n",
    "\n",
    "        progress_bar.update(1)  # Update the progress bar after processing each series\n",
    "    \n",
    "progress_bar.close()\n",
    "\n",
    "# Convert correlation_matrix to numeric as it is stored as objects due to tqdm\n",
    "correlation_matrix = correlation_matrix.apply(pd.to_numeric)\n",
    "\n",
    "# Perform hierarchical clustering\n",
    "linked = linkage(correlation_matrix, 'single')\n",
    "\n",
    "# Get the order of rows/columns after hierarchical clustering\n",
    "row_order = leaves_list(linked)\n",
    "\n",
    "# Reorder the correlation matrix\n",
    "sorted_corr_matrix = correlation_matrix.iloc[row_order, :].iloc[:, row_order]\n",
    "\n",
    "# Visualize the sorted correlation matrix with a heatmap\n",
    "plt.figure(figsize=(10,7))\n",
    "sns.heatmap(sorted_corr_matrix, annot=False, cmap='vlag', vmin=-1, vmax=1)\n",
    "plt.title('Clustered Pairwise Correlation of Time Series')\n",
    "plt.show()\n"
   ]
  },
  {
   "cell_type": "code",
   "execution_count": null,
   "id": "10ec25bb-f3e8-4cdb-87ee-9772460a8cc3",
   "metadata": {},
   "outputs": [],
   "source": [
    "from scipy.sparse import coo_matrix\n",
    "\n",
    "row_order_r = np.array([i + k for i in row_order*K for k in range(K)])\n",
    "\n",
    "# Convert the sparse matrix to a dense format (if memory allows)\n",
    "dense_matrix = W_hadsp_multi.toarray()\n",
    "\n",
    "# Reorder the dense matrix using the repeated ordering\n",
    "reordered_matrix = dense_matrix[np.ix_(row_order_r, row_order_r)]\n",
    "\n",
    "# Convert the reordered dense matrix back to a sparse format if needed\n",
    "sparse_reordered_matrix = coo_matrix(reordered_matrix)"
   ]
  },
  {
   "cell_type": "code",
   "execution_count": null,
   "id": "901730be-d407-4d6d-973d-9fc24951bab6",
   "metadata": {},
   "outputs": [],
   "source": [
    "heatmap(sparse_reordered_matrix.todense(), cmap=color_palette(\"vlag\", as_cmap=True))"
   ]
  },
  {
   "cell_type": "markdown",
   "id": "66e46145-b737-4e62-a8ed-9860be34eb2e",
   "metadata": {
    "ExecuteTime": {
     "end_time": "2023-10-10T12:52:00.989091Z",
     "start_time": "2023-10-10T12:52:00.984122Z"
    }
   },
   "source": [
    "## Motifs"
   ]
  },
  {
   "cell_type": "code",
   "execution_count": null,
   "id": "0e78de13-7b2d-4ea0-9854-c7ef05c9780e",
   "metadata": {},
   "outputs": [],
   "source": [
    "import analysis.topology\n",
    "reload(analysis.topology)\n",
    "from analysis.topology import motif_distribution, draw_motifs_distribution\n",
    "\n",
    "motifs_count = motif_distribution(W_hadsp_multi.A)\n",
    "draw_motifs_distribution(motifs_count)"
   ]
  },
  {
   "cell_type": "code",
   "execution_count": null,
   "id": "68f7d48e-892f-44a0-9f33-a0b561e3a1c2",
   "metadata": {},
   "outputs": [],
   "source": []
  },
  {
   "cell_type": "code",
   "execution_count": null,
   "id": "68e4480d-5e4f-4603-90c0-e2f0576e0288",
   "metadata": {
    "editable": true,
    "slideshow": {
     "slide_type": ""
    },
    "tags": []
   },
   "outputs": [],
   "source": [
    "import numpy as np\n",
    "import matplotlib.pyplot as plt\n",
    "from scipy.stats import poisson, binom\n",
    "\n",
    "def analyze_connectivity_matrix(matrix):\n",
    "    # Extract weights from the matrix (ignoring the diagonal and zeros)\n",
    "    weights = matrix.flatten()\n",
    "    weights = weights[weights != 0]\n",
    "    bin_centers, counts = np.unique(weights, return_counts=True)\n",
    "    \n",
    "    # Calculate the difference for all centers\n",
    "    diffs = np.diff(bin_centers)\n",
    "    # Add the last difference for the last bin\n",
    "    diffs = np.append(diffs, diffs[-1])\n",
    "    \n",
    "    # Calculate the bin edges based on bin centers and differences\n",
    "    bin_edges = bin_centers - diffs/2\n",
    "    # Add the last bin edge\n",
    "    bin_edges = np.append(bin_edges, bin_centers[-1] + diffs[-1]/2)\n",
    "    \n",
    "    # Plot histogram\n",
    "    plt.bar(bin_centers, counts, align='center', alpha=0.6, width=np.diff(bin_centers).min())\n",
    "    \n",
    "    # Fit to Poisson distribution\n",
    "    lambda_est = np.mean(weights)\n",
    "    plt.plot(bin_centers, poisson.pmf(range(len(bin_centers)), lambda_est)*counts[0], 'r-', label='Poisson fit')\n",
    "    \n",
    "    # Fit to Binomial distribution using derived relations\n",
    "    mean = np.mean(weights)\n",
    "    variance = np.var(weights)\n",
    "    \n",
    "    # Calculate p and n estimates\n",
    "    p_est = mean ** 2 / (n * mean - variance) if (n * mean - variance) != 0 else 0\n",
    "    n_est = int(round(mean / p_est)) if p_est != 0 else 0  # n should be integer\n",
    "\n",
    "    # Check parameter validity\n",
    "    if not(0 < p_est < 1):\n",
    "        print(\"Estimated parameters are not valid for the Binomial distribution.\")\n",
    "    else:\n",
    "        x_vals = range(len(bin_centers))\n",
    "        plt.plot(bin_centers, binom.pmf(x_vals, n_est, p_est) * counts[0], 'g-', label='Binomial fit')\n",
    "\n",
    "    plt.legend()\n",
    "    plt.show()\n",
    "\n",
    "    return {\"Poisson\": lambda_est, \"Binomial\": (n_est, p_est)}\n",
    "\n",
    "\n",
    "# Assuming W_hadsp_multi.A is your connectivity matrix\n",
    "analyze_connectivity_matrix(W_hadsp_multi.A)"
   ]
  },
  {
   "cell_type": "code",
   "execution_count": null,
   "id": "03cbe35b-18fa-4dc7-b598-dfd345e90ed8",
   "metadata": {},
   "outputs": [],
   "source": [
    "bin_centers = np.array([1.5, 3.5, 5.5, 7.5])\n",
    "poisson.pmf(np.arange(len([1, 2, 3, 4, 5, 6])), 0.08)"
   ]
  },
  {
   "cell_type": "code",
   "execution_count": null,
   "id": "e4f6dbf8-e09f-4062-a3ee-6c320981b935",
   "metadata": {},
   "outputs": [],
   "source": [
    "weights.shape"
   ]
  },
  {
   "cell_type": "code",
   "execution_count": null,
   "id": "6b6614db-e2e1-4e5c-8d97-567646d6a78e",
   "metadata": {},
   "outputs": [],
   "source": [
    "W_hadsp_multi.A.flatten().shape"
   ]
  },
  {
   "cell_type": "code",
   "execution_count": null,
   "id": "c43a3138-e1fd-497f-b380-dcf350a3faa9",
   "metadata": {},
   "outputs": [],
   "source": []
  }
 ],
 "metadata": {
  "kernelspec": {
   "display_name": "hadsp_env",
   "language": "python",
   "name": "hadsp_env"
  },
  "language_info": {
   "codemirror_mode": {
    "name": "ipython",
    "version": 3
   },
   "file_extension": ".py",
   "mimetype": "text/x-python",
   "name": "python",
   "nbconvert_exporter": "python",
   "pygments_lexer": "ipython3",
   "version": "3.9.18"
  }
 },
 "nbformat": 4,
 "nbformat_minor": 5
}
