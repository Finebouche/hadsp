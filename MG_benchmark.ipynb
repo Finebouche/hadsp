{
 "cells": [
  {
   "cell_type": "code",
   "execution_count": null,
   "id": "754c1d64",
   "metadata": {},
   "outputs": [],
   "source": [
    "import sys\n",
    "from pathlib import Path\n",
    "\n",
    "path_root = Path( '/project_ghent/HADSP/reservoirpy/')\n",
    "sys.path.append(str(path_root))\n",
    "path_root = Path( '/project_ghent/HADSP/hadsp/')\n",
    "sys.path.append(str(path_root))"
   ]
  },
  {
   "cell_type": "code",
   "execution_count": null,
   "id": "88f790cf",
   "metadata": {
    "tags": []
   },
   "outputs": [],
   "source": [
    "import numpy as np\n",
    "from scipy import sparse\n",
    "\n",
    "from matplotlib import pyplot as plt\n",
    "from seaborn import heatmap, color_palette\n",
    "\n",
    "# Utility functions\n",
    "from reservoir.utility import show_matrice, show_ei_matrix\n"
   ]
  },
  {
   "cell_type": "markdown",
   "id": "5c7bc227",
   "metadata": {
    "tags": []
   },
   "source": [
    "# Reservoir functions"
   ]
  },
  {
   "cell_type": "code",
   "execution_count": null,
   "id": "37f980d7",
   "metadata": {
    "ExecuteTime": {
     "end_time": "2022-06-10T09:31:36.544255Z",
     "start_time": "2022-06-10T09:31:36.544249Z"
    },
    "init_cell": true,
    "tags": []
   },
   "outputs": [],
   "source": [
    "from importlib import reload\n",
    "import reservoir.reservoir\n",
    "\n",
    "from reservoir.reservoir import update_reservoir, ridge_regression, train, run\n",
    "from reservoir.reservoir import synaptic_scaling, activation_target_definition, constant_synaptic_scaling\n",
    "from reservoir.activation_functions import tanh, heaviside, sigmoid\n",
    "\n",
    "reload(reservoir.reservoir)\n",
    "\n",
    "# SEED\n",
    "SEED = 3789\n",
    "\n",
    "# the activation function choosen for the rest of the experiment\n",
    "# activation_function = lambda x : sigmoid(2*(x-0.5))\n",
    "activation_function = lambda x : tanh(x)\n",
    "\n",
    "plt.plot(np.linspace(0, 2, 100), activation_function(np.linspace(0, 2, 100)))\n",
    "plt.grid()"
   ]
  },
  {
   "cell_type": "code",
   "execution_count": null,
   "id": "c5588d2f",
   "metadata": {
    "tags": []
   },
   "outputs": [],
   "source": [
    "from scipy import signal\n",
    "\n",
    "# Apply a low-pass filter on with scipy.signal.filtfilt\n",
    "def low_pass_filter(data, cutoff, fs, order=5):\n",
    "    b, a = signal.butter(order, cutoff, btype='low', analog=False, fs=fs)\n",
    "    return signal.filtfilt(b, a, data)\n",
    "\n",
    "def high_pass_filter(data, cutoff, fs, order=5):\n",
    "    b, a = signal.butter(order, cutoff, btype='high', analog=False, fs=fs)\n",
    "    return signal.filtfilt(b, a, data)\n",
    "\n",
    "def band_pass_filter(data, lowcut, highcut, fs, order=5):\n",
    "    b, a = signal.butter(3, [lowcut, highcut], btype='band', fs=fs)\n",
    "    return signal.filtfilt(b, a, data)\n"
   ]
  },
  {
   "cell_type": "markdown",
   "id": "d4be72df",
   "metadata": {
    "tags": []
   },
   "source": [
    "# Matrice initialization\n",
    "\n",
    "https://www.nature.com/articles/s41598-018-22077-3\n",
    "Based initialy on : \n",
    "\n",
    "    https://www.nature.com/articles/s41598-018-22077-3/tables/1\n",
    "    N = 125 (12500 in the paper)\n",
    "    Ratio of ne% = 0.8 -> ne = 100; ni% = 0.2  -> ni=25\n",
    "    \n",
    "    W_ei : Incoming excitatory connections per inhibitory neuron :10, with synaptic weight = 0.1mV\n",
    "    W_ie : Incoming inhibitory connections per neuron :2,5, with synamtic weight : -0.8mV"
   ]
  },
  {
   "cell_type": "code",
   "execution_count": null,
   "id": "22cd639f",
   "metadata": {
    "ExecuteTime": {
     "end_time": "2022-06-01T09:14:31.126035Z",
     "start_time": "2022-06-01T09:14:31.119784Z"
    },
    "tags": []
   },
   "outputs": [],
   "source": [
    "from reservoir.reservoir import init_matrices\n",
    "\n",
    "# Parameters\n",
    "n_e = 100 # number of neurons for excitatory pool\n",
    "n_i = 0 # number of neurons for inhibitory pool\n",
    "SEED = 65718 # previous 3789\n",
    "leaky_rate = 1\n",
    "\n",
    "spectral_radius = 1\n",
    "input_connectivity = 1\n",
    "connectivity = 0.1 # from the article\n",
    "\n",
    "# HYPERPARAMETERS\n",
    "INCREMENT = 100\n",
    "VALUE = 0.1\n",
    "bias_scaling = 1\n",
    "input_scaling = 0.1\n",
    "\n",
    "\n",
    "# Initialisation EE\n",
    "Win_e, W_ee, bias_e =  init_matrices(n_e, input_connectivity, connectivity, spectral_radius, seed=SEED)\n",
    "bias_e = bias_e*bias_scaling\n",
    "Win_e = Win_e*input_scaling\n",
    "\n",
    "# last_state\n",
    "last_state_e = np.random.uniform(0, 1, n_e)\n"
   ]
  },
  {
   "cell_type": "code",
   "execution_count": null,
   "id": "8e7031bb",
   "metadata": {
    "tags": []
   },
   "outputs": [],
   "source": [
    "heatmap(W_ee.todense(), cmap=color_palette(\"cividis\", as_cmap=True))"
   ]
  },
  {
   "cell_type": "markdown",
   "id": "c232010e",
   "metadata": {},
   "source": [
    "# Mackey Glass"
   ]
  },
  {
   "cell_type": "code",
   "execution_count": null,
   "id": "fbb2dcf3",
   "metadata": {
    "tags": []
   },
   "outputs": [],
   "source": [
    "from reservoirpy.datasets import mackey_glass\n",
    "\n",
    "timesteps = 10000\n",
    "mg_inputs = mackey_glass(timesteps, tau=17, a=0.2, b=0.1, n=10, x0=1.2, h=1, seed=None)\n",
    "\n",
    "%matplotlib inline\n",
    "plt.figure(figsize=(16,5))\n",
    "plt.plot(range(1000), mg_inputs[:1000])\n",
    "plt.show()"
   ]
  },
  {
   "cell_type": "markdown",
   "id": "a468ca5c",
   "metadata": {},
   "source": [
    "### Creating new outputs with band filters"
   ]
  },
  {
   "cell_type": "raw",
   "id": "80c63400",
   "metadata": {},
   "source": [
    "from scipy.signal import butter, lfilter\n",
    "from scipy.fft import fft\n",
    "\n",
    "pretrain_steps = 100000\n",
    "MIN_VALUABLE_FREQ_VALUE = 0.001\n",
    "fourrier_analysis_inputs = mackey_glass(pretrain_steps, tau=17, a=0.2, b=0.1, n=10, x0=1.2, h=1, seed=None)\n",
    "\n",
    "# Get the Fourier transform\n",
    "# We use only train_data to avoid leakage\n",
    "fourier = fft(fourrier_analysis_inputs[:pretrain_steps].flatten())\n",
    "fourier[0] = 0\n",
    "# Get the frequency values\n",
    "freq = np.fft.fftfreq(pretrain_steps, d=1)\n",
    "\n",
    "# Define the minimum and maximum frequencies of the time series\n",
    "max_freq = freq[np.argmin(np.abs(fourier[fourier > MIN_VALUABLE_FREQ_VALUE]))]\n",
    "min_freq = freq[np.argmax(np.abs(fourier[fourier > MIN_VALUABLE_FREQ_VALUE]))]\n",
    "\n",
    "print(max_freq)\n",
    "print(min_freq)\n",
    "\n",
    "# Define the number of filters and the cutoff frequencies\n",
    "num_filters = 25\n",
    "cutoff_freqs = np.linspace(min_freq, max_freq, num_filters)\n",
    "plt.stem(freq[fourier > MIN_VALUABLE_FREQ_VALUE], fourier[fourier > MIN_VALUABLE_FREQ_VALUE])\n",
    "plt.show()"
   ]
  },
  {
   "cell_type": "raw",
   "id": "42b4e2b1",
   "metadata": {},
   "source": [
    "len(freq[fourier > 70])"
   ]
  },
  {
   "cell_type": "code",
   "execution_count": null,
   "id": "3e6f134e",
   "metadata": {
    "tags": []
   },
   "outputs": [],
   "source": [
    "from scipy.signal import butter, lfilter\n",
    "from scipy.fft import fft\n",
    "\n",
    "def butterworth_filter(data, lowcut, highcut, fs, btype='band', order=2):\n",
    "    b, a = butter(order, [lowcut/(fs/2), highcut/(fs/2)], btype=btype)\n",
    "    return lfilter(b, a, data).flatten()\n",
    "\n",
    "# Define the time step of out Mackey-Glass system\n",
    "dt = 1  # This is arbitraty\n",
    "\n",
    "# Compute the equivalent sampling rate\n",
    "sampling_rate = 1 / dt\n",
    "\n",
    "from_paper = [\n",
    "    [ 0.015, 0.02, 0.075],\n",
    "    [ 0.001, 0.001, 0.0995],\n",
    "    [ 0.05, 0.005, 0.15],\n",
    "    [ 0.15, 0.1, 0.55]]\n",
    "\n",
    "filtered_data = []\n",
    "filtered_data.append(butterworth_filter(mg_inputs.flatten(), 0.00001, 0 + 0.01, fs=sampling_rate))\n",
    "filtered_data.append(butterworth_filter(mg_inputs.flatten(), 0.04, 0.04 + 0.01, fs=sampling_rate))\n",
    "\n",
    "for frequencies in from_paper:\n",
    "    for f1 in np.arange(frequencies[0], frequencies[2]+frequencies[1], frequencies[1]):\n",
    "        if f1 <= 0.05:\n",
    "            f2 = f1 + 0.01\n",
    "        else:\n",
    "            f2 = f1 + 0.1\n",
    "        try:\n",
    "            filtered_data.append(butterworth_filter(mg_inputs.flatten(), f1, f2, fs=sampling_rate))\n",
    "        except:\n",
    "            print(\"fails\" , f1)\n",
    "\n",
    "filtered_data = np.array(filtered_data)\n",
    "filtered_data[0, :] = filtered_data[0, :]*0.2 # separate input filtering so that the amplitude is similar to the other\n",
    "# loop through frequency bands\n",
    "# filtered_data = np.zeros((num_filters, len(mg_inputs)))\n",
    "# for i in range(num_filters-1):\n",
    "#     filtered_data[i, :] = butterworth_filter(mg_inputs.flatten(), cutoff_freqs[i], cutoff_freqs[i+1], fs=1)"
   ]
  },
  {
   "cell_type": "code",
   "execution_count": null,
   "id": "00440a5e-54f3-401f-986d-532c2af8d2cd",
   "metadata": {},
   "outputs": [],
   "source": [
    "filtered_data.shape"
   ]
  },
  {
   "cell_type": "code",
   "execution_count": null,
   "id": "08485d9c",
   "metadata": {
    "tags": []
   },
   "outputs": [],
   "source": [
    "\n",
    "window_size = 20\n",
    "weights = np.repeat(1.0, window_size)/window_size\n",
    "ma = np.array([np.convolve(d, weights, 'valid') for d in (filtered_data)])\n",
    "\n",
    "ax = plt.subplots(2, 1, figsize=(24,12))\n",
    "ax[1][0].plot(range(500), filtered_data[3, 1000:1500], label='Time serie')\n",
    "ax[1][0].plot(range(500), ma[3, 1000:1500], label='Moving average')\n",
    "ax[1][0].legend(fontsize=26)\n",
    "ax[1][1].plot(range(500), filtered_data[101, 1000:1500], label='Time serie')\n",
    "ax[1][1].plot(range(500), ma[101, 1000:1500], label='Moving average')\n",
    "\n",
    "ax[1][0].spines['top'].set_visible(False)\n",
    "ax[1][0].spines['right'].set_visible(False)\n",
    "ax[1][1].spines['top'].set_visible(False)\n",
    "ax[1][1].spines['right'].set_visible(False)\n",
    "ax[1][0].tick_params(axis='both', labelsize=26)\n",
    "ax[1][1].tick_params(axis='both', labelsize=26)\n",
    "plt.show()"
   ]
  },
  {
   "cell_type": "code",
   "execution_count": null,
   "id": "b0f44547",
   "metadata": {
    "tags": []
   },
   "outputs": [],
   "source": [
    "frequency_bands = np.repeat(filtered_data, 2, axis=0)\n",
    "print(frequency_bands.shape)\n",
    "\n",
    "n = frequency_bands.shape[0]"
   ]
  },
  {
   "cell_type": "markdown",
   "id": "385de4f8",
   "metadata": {},
   "source": [
    "## Creating from ADSP + bandfilter"
   ]
  },
  {
   "cell_type": "code",
   "execution_count": null,
   "id": "ab39af15",
   "metadata": {
    "tags": []
   },
   "outputs": [],
   "source": [
    "import reservoir.reservoir\n",
    "from reservoir.reservoir import update_reservoir\n",
    "reload(reservoir.reservoir)\n",
    "\n",
    "INCREMENT = 20\n",
    "VALUE = 0.05\n",
    "\n",
    "leaky_rate = 1\n",
    "spectral_radius = 1\n",
    "bias_scaling = 1\n",
    "input_scaling = 1\n",
    "\n",
    "target_rate = 0.8\n",
    "growth_parameter = 0.1\n",
    "\n",
    "# Initialisation EE\n",
    "Win_e_hasp_band, W_ee_hasp_band, bias_hasp_band =  init_matrices(n, 1, 0, spectral_radius, seed=SEED)\n",
    "bias_hasp_band = bias_hasp_band*bias_scaling\n",
    "Win_e_hasp_band = Win_e_hasp_band*input_scaling\n",
    "\n",
    "\n",
    "# last_state\n",
    "state_e = np.random.uniform(0, 1, n)\n",
    "step=0\n",
    "\n",
    "state_history_e = []\n",
    "\n",
    "total_add = 0\n",
    "total_prun = 0\n",
    "add = []\n",
    "prun = []"
   ]
  },
  {
   "cell_type": "code",
   "execution_count": null,
   "id": "d6b92fd8",
   "metadata": {
    "tags": []
   },
   "outputs": [],
   "source": [
    "from connexion_generation.bounded_adsp import compute_synaptic_change\n",
    "from connexion_generation.bounded_adsp import bounded_adsp\n",
    "\n",
    "for i in range(INCREMENT*5):\n",
    "    state_e = update_reservoir(W_ee_hasp_band, Win_e_hasp_band, frequency_bands[:, i], state_e, leaky_rate, bias_hasp_band, activation_function)\n",
    "    state_history_e.append(state_e)\n",
    "frequency_bands = frequency_bands[:, INCREMENT * 5:]\n",
    "train_length = len(frequency_bands[1,:])\n",
    "\n",
    "while train_length > 5000:\n",
    "    delta_z_e = compute_synaptic_change(state_history_e[-INCREMENT:], target_rate, growth_parameter, average=\"QUEUE\")\n",
    "    W_ee_hasp_band, _, nb_new_add_e, nb_new_prun_e = bounded_adsp(W_ee_hasp_band, state_e, delta_z_e, VALUE)\n",
    "\n",
    "    for i in range(INCREMENT):\n",
    "        state_e = update_reservoir(W_ee_hasp_band, Win_e_hasp_band, frequency_bands[:, i], state_e, leaky_rate, bias_hasp_band, activation_function)\n",
    "        state_history_e.append(state_e)\n",
    "    frequency_bands = frequency_bands[:, INCREMENT:]\n",
    "\n",
    "    train_length = len(frequency_bands[1,:])\n",
    "    \n",
    "    total_add += nb_new_add_e\n",
    "    total_prun += nb_new_prun_e\n",
    "    add.append(total_add)\n",
    "    prun.append(total_prun)\n",
    "\n",
    "    step += 1\n",
    "add = np.array(add)\n",
    "prun = np.array(prun)"
   ]
  },
  {
   "cell_type": "code",
   "execution_count": null,
   "id": "f4aaf43d",
   "metadata": {
    "tags": []
   },
   "outputs": [],
   "source": [
    "heatmap(W_ee_hasp_band.todense(), cmap=color_palette(\"cividis\", as_cmap=True))"
   ]
  },
  {
   "cell_type": "code",
   "execution_count": null,
   "id": "4f5f3572",
   "metadata": {
    "tags": []
   },
   "outputs": [],
   "source": [
    "plt.figure()\n",
    "plt.plot(np.arange(step)*INCREMENT, add, label=\"total number of added connexion\")\n",
    "plt.plot(np.arange(step)*INCREMENT, prun, label=\"total number of prunned connexion\")\n",
    "plt.plot(np.arange(step)*INCREMENT, add-prun, label=\"difference\")\n",
    "plt.plot(np.arange(step)*INCREMENT, [0]*step, linestyle=(0, (1, 10)))\n",
    "plt.legend()\n",
    "plt.grid()"
   ]
  },
  {
   "cell_type": "markdown",
   "id": "db9b3d83",
   "metadata": {},
   "source": [
    "## Creating matrice from ADSP+Mackey Glass"
   ]
  },
  {
   "cell_type": "code",
   "execution_count": null,
   "id": "21d83057",
   "metadata": {
    "tags": []
   },
   "outputs": [],
   "source": [
    "from reservoir.reservoir import update_reservoir\n",
    "from reservoir.reservoir import init_matrices\n",
    "from connexion_generation.bounded_adsp import bounded_adsp\n",
    "from connexion_generation.bounded_adsp import compute_synaptic_change\n",
    "\n",
    "# Initialisation EE\n",
    "Win_2, W_2, bias_2 =  init_matrices(n, 1, 0, spectral_radius, seed=SEED)\n",
    "bias_2 = bias_2*bias_scaling\n",
    "Win_2= Win_2*input_scaling\n",
    "\n",
    "# initial state\n",
    "state_4 = np.random.uniform(0, 1, n)\n",
    "\n",
    "\n",
    "target_rate = 0.8 #  0.9 show good results as well\n",
    "growth_parameter = 0.1\n",
    "\n",
    "step=0\n",
    "state_history_4 = []\n",
    "total_added = 0\n",
    "total_pruned = 0\n",
    "add = []\n",
    "prun = []\n",
    "\n",
    "for i in range(INCREMENT*5):\n",
    "    state_4 = update_reservoir(W_2, Win_2, mg_inputs[i], state_4, leaky_rate, bias_2, activation_function)\n",
    "    state_history_4.append(state_4)\n",
    "mg_inputs = mg_inputs[INCREMENT * 5:]\n"
   ]
  },
  {
   "cell_type": "code",
   "execution_count": null,
   "id": "a56a0302",
   "metadata": {
    "tags": []
   },
   "outputs": [],
   "source": [
    "train_length = len(mg_inputs[:])\n",
    "while train_length > 5000:\n",
    "    delta_z = compute_synaptic_change(state_history_4[-INCREMENT:], target_rate, growth_parameter, average=\"QUEUE\")\n",
    "    W_2, _, nb_new_add, nb_new_prun = bounded_adsp(W_2, state_4, delta_z, VALUE)\n",
    "\n",
    "    for i in range(INCREMENT):\n",
    "        state_4 = update_reservoir(W_2, Win_2, mg_inputs[i], state_4, leaky_rate, bias_2, activation_function)\n",
    "        state_history_4.append(state_4)\n",
    "    mg_inputs = mg_inputs[INCREMENT:]\n",
    "\n",
    "    train_length = len(mg_inputs[:])\n",
    "    \n",
    "    total_added += nb_new_add\n",
    "    total_pruned += nb_new_prun\n",
    "    add.append(total_added)\n",
    "    prun.append(total_pruned)\n",
    "\n",
    "    step += 1\n",
    "add = np.array(add)\n",
    "prun = np.array(prun)"
   ]
  },
  {
   "cell_type": "code",
   "execution_count": null,
   "id": "fbfebc9b",
   "metadata": {
    "tags": []
   },
   "outputs": [],
   "source": [
    "heatmap(W_2.todense(), cmap=color_palette(\"cividis\", as_cmap=True))"
   ]
  },
  {
   "cell_type": "code",
   "execution_count": null,
   "id": "8f715c45",
   "metadata": {
    "tags": []
   },
   "outputs": [],
   "source": [
    "plt.figure()\n",
    "plt.plot(np.arange(step)*INCREMENT, add, label=\"total number of added connexion\")\n",
    "plt.plot(np.arange(step)*INCREMENT, prun, label=\"total number of prunned connexion\")\n",
    "plt.plot(np.arange(step)*INCREMENT, add-prun, label=\"difference\")\n",
    "plt.plot(np.arange(step)*INCREMENT, [0]*step, linestyle=(0, (1, 10)))\n",
    "plt.legend()\n",
    "plt.grid()"
   ]
  },
  {
   "cell_type": "markdown",
   "id": "a659faf6",
   "metadata": {},
   "source": [
    "## Other matrice"
   ]
  },
  {
   "cell_type": "code",
   "execution_count": null,
   "id": "802be0ea",
   "metadata": {
    "tags": []
   },
   "outputs": [],
   "source": [
    "from scipy import stats\n",
    "\n",
    "# We generate a network randomly with same spectral radius and same connectivity as the ADSP generated one\n",
    "connectivity_mg =  W_ee_hasp_band.count_nonzero() / (W_ee_hasp_band.shape[0] * W_ee_hasp_band.shape[1])\n",
    "eigen_adsp = sparse.linalg.eigs(W_ee_hasp_band, k=1, which=\"LM\", maxiter=W_ee_hasp_band.shape[0] * 20, tol=0.1, return_eigenvectors=False)\n",
    "sr_adsp = max(abs(eigen_adsp))\n",
    "\n",
    "# 3rd (normal + band)\n",
    "Win_3, W_3, bias_3 =  init_matrices(n, 1, connectivity_mg, spectral_radius)\n",
    "bias_3= bias_3*bias_scaling\n",
    "Win_3= Win_3*0.3\n",
    "\n",
    "eigen_3 = sparse.linalg.eigs(W_3, k=1, which=\"LM\", maxiter=W_3.shape[0] * 20, tol=0.1, return_eigenvectors=False)\n",
    "sr_3 = max(abs(eigen_3))\n",
    "W_3 = W_3*sr_adsp/sr_3\n",
    "eigen_3 = sparse.linalg.eigs(W_3, k=1, which=\"LM\", maxiter=W_3.shape[0] * 20, tol=0.1, return_eigenvectors=False)\n",
    "sr_3 = max(abs(eigen_3))\n",
    "\n",
    "# 4th\n",
    "connectivity_4 =  W_2.count_nonzero() / (W_2.shape[0] * W_2.shape[1])\n",
    "eigen_4 = sparse.linalg.eigs(W_2, k=1, which=\"LM\", maxiter=W_2.shape[0] * 20, tol=0.1, return_eigenvectors=False)\n",
    "sr_4 = max(abs(eigen_4))\n",
    "\n",
    "# The normal matrice\n",
    "Win_normal, W_normal, bias_normal =  init_matrices(n, 1, connectivity_mg, spectral_radius)\n",
    "bias_normal= bias_normal*bias_scaling\n",
    "Win_normal= Win_normal*0.3\n",
    "\n",
    "\n",
    "eigen_normal = sparse.linalg.eigs(W_normal, k=1, which=\"LM\", maxiter=W_normal.shape[0] * 20, tol=0.1, return_eigenvectors=False)\n",
    "sr_normal = max(abs(eigen_normal))\n",
    "W_normal = W_normal*sr_4/sr_normal\n",
    "eigen_normal = sparse.linalg.eigs(W_normal, k=1, which=\"LM\", maxiter=W_normal.shape[0] * 20, tol=0.1, return_eigenvectors=False)\n",
    "sr_normal = max(abs(eigen_normal))\n"
   ]
  },
  {
   "cell_type": "code",
   "execution_count": null,
   "id": "6f91265b",
   "metadata": {
    "tags": []
   },
   "outputs": [],
   "source": [
    "Win_normal"
   ]
  },
  {
   "cell_type": "code",
   "execution_count": null,
   "id": "d49826ea",
   "metadata": {
    "tags": []
   },
   "outputs": [],
   "source": [
    "print(sr_adsp)\n",
    "print(sr_3)\n",
    "\n",
    "print(sr_4)\n",
    "print(sr_normal)\n"
   ]
  },
  {
   "cell_type": "raw",
   "id": "1a997069",
   "metadata": {},
   "source": [
    "Win_e_hasp_band = Win_normal\n",
    "Win_2 = Win_normal"
   ]
  },
  {
   "cell_type": "code",
   "execution_count": null,
   "id": "5eea9c2f",
   "metadata": {
    "tags": []
   },
   "outputs": [],
   "source": [
    "SR_NORMALIZED = 0.99\n",
    "W_normal = W_normal*SR_NORMALIZED/sr_normal\n",
    "W_ee_hasp_band = W_ee_hasp_band*SR_NORMALIZED/sr_adsp\n",
    "W_3 = W_3*SR_NORMALIZED/sr_3\n",
    "W_2 = W_2*SR_NORMALIZED/sr_4"
   ]
  },
  {
   "cell_type": "markdown",
   "id": "2f1bcdbf",
   "metadata": {},
   "source": [
    "## Performances"
   ]
  },
  {
   "cell_type": "code",
   "execution_count": null,
   "id": "71444c4e-a362-43f6-81ff-97e2e68c77cf",
   "metadata": {},
   "outputs": [],
   "source": [
    "frequency_bands.shape"
   ]
  },
  {
   "cell_type": "code",
   "execution_count": null,
   "id": "15374eac",
   "metadata": {
    "tags": []
   },
   "outputs": [],
   "source": [
    "import reservoir.reservoir\n",
    "from reservoir.reservoir import train\n",
    "reload(reservoir.reservoir)\n",
    "\n",
    "ridge_coef = 1e-7\n",
    "step_ahead = 1\n",
    "# Training output\n",
    "Wout_normal, b_out_normal, last_state_normal = train(W_normal, Win_normal, bias_normal, mg_inputs[:4000], mg_inputs[step_ahead:4000 + step_ahead], activation_function, ridge_coef = ridge_coef)\n",
    "\n",
    "# Training output for HADSP + MG\n",
    "Wout_2, b_out_2, last_state_2 = train(W_2, Win_2, bias_2, mg_inputs[:4000], mg_inputs[step_ahead:4000 + step_ahead], activation_function, ridge_coef = ridge_coef)\n",
    "\n",
    "# Training output\n",
    "Wout_3, b_out_3, last_state_3 = train(W_3, Win_3, bias_3, frequency_bands[:, :4000], mg_inputs[step_ahead:4000 + step_ahead], activation_function, ridge_coef = ridge_coef)\n",
    "\n",
    "# Training output HASDP + bandfilter\n",
    "Wout_hasp_band, b_out_hasp_band, last_state_hasp_band = train(W_ee_hasp_band, Win_e_hasp_band, bias_hasp_band, frequency_bands[:, :4000], mg_inputs[step_ahead:4000 + step_ahead], activation_function, ridge_coef = ridge_coef)\n",
    "\n"
   ]
  },
  {
   "cell_type": "code",
   "execution_count": null,
   "id": "a65dac84",
   "metadata": {
    "tags": []
   },
   "outputs": [],
   "source": [
    "from reservoir.reservoir import run\n",
    "reload(reservoir.reservoir)\n",
    "\n",
    "from reservoir.reservoirpy_util import plot_results, plot_readout\n",
    "np.zeros(2000)\n",
    "frequency_bands[:,4000:5200]\n",
    "mg_inputs[4000:5200]\n",
    "# Prediction for random + MG\n",
    "y_pred_normal = run(W_normal, Win_normal, bias_normal, Wout_normal, mg_inputs[4000:5200], activation_function, b_out_normal, last_state_normal)\n",
    "\n",
    "# Prediction for HADSP + MG\n",
    "y_pred_2 = run(W_2, Win_2, bias_2, Wout_2, mg_inputs[4000:5200], activation_function, b_out_2, last_state_2)\n",
    "\n",
    "# Prediction for random + bandfilter\n",
    "y_pred_3 = run(W_3, Win_3, bias_3, Wout_3, frequency_bands[:,4000:5200], activation_function, b_out_3, last_state_3)\n",
    "\n",
    "# Prediction for HADSP + bandfilter\n",
    "y_pred_hasp_band = run(W_ee_hasp_band, Win_e_hasp_band, bias_hasp_band, Wout_hasp_band, frequency_bands[:,4000:5200], activation_function, b_out_hasp_band, last_state_hasp_band)\n",
    "\n",
    "\n",
    "plot_results(y_pred_3, mg_inputs[4000+step_ahead:], sample=400)\n"
   ]
  },
  {
   "cell_type": "code",
   "execution_count": null,
   "id": "61165568",
   "metadata": {
    "tags": []
   },
   "outputs": [],
   "source": [
    "import reservoir.losses\n",
    "from reservoir.losses import rmse, nrmse\n",
    "reload(reservoir.losses)\n",
    "\n",
    "y_target = mg_inputs[4000 + step_ahead :4300 + step_ahead]\n",
    "print(\"nrmse normal        :\", float(nrmse(y_target, y_pred_normal[:300])))\n",
    "print(\"nrmse hadsp     :\", float(nrmse(y_target, y_pred_2[:300])))\n",
    "print(\"nrmse random + band :\", float(nrmse(y_target, y_pred_3[:300])))\n",
    "print(\"nrmse hadsp + band   :\", float(nrmse(y_target, y_pred_hasp_band[:300])))\n"
   ]
  },
  {
   "cell_type": "code",
   "execution_count": null,
   "id": "3bc19b97",
   "metadata": {
    "tags": []
   },
   "outputs": [],
   "source": [
    "nrmse_array_normal = []\n",
    "nrmse_array_2 = []\n",
    "nrmse_array_3 = []\n",
    "nrmse_array_mg = []\n",
    "\n",
    "for i in range(len(y_pred_hasp_band)-100- step_ahead):\n",
    "    y_target_i = mg_inputs[4000 + step_ahead +i: 4100 + step_ahead +i]\n",
    "    nrmse_array_normal.append(nrmse(y_target_i, y_pred_normal[i:100+i]))\n",
    "    nrmse_array_2.append(nrmse(y_target_i, y_pred_2[i:100+i]))\n",
    "    nrmse_array_3.append(nrmse(y_target_i, y_pred_3[i:100+i]))\n",
    "    nrmse_array_mg.append(nrmse(y_target_i, y_pred_hasp_band[i:100+i]))\n",
    "    \n",
    "log10_nrmse_normal = np.log10(nrmse_array_normal)\n",
    "log10_nrmse_2 = np.log10(nrmse_array_2)\n",
    "log10_nrmse_3 = np.log10(nrmse_array_3)\n",
    "log10_nrmse_mg = np.log10(nrmse_array_mg)\n",
    "plt.figure()\n",
    "plt.plot(log10_nrmse_normal[:1000])\n",
    "plt.plot(log10_nrmse_2[:1000])\n",
    "plt.plot(log10_nrmse_3[:1000])\n",
    "plt.plot(log10_nrmse_mg[:1000])\n",
    "\n",
    "plt.xlabel('Time steps')\n",
    "plt.ylabel('Log10 NRMSE')\n",
    "plt.legend([\"HADSP+band\", \"random\", \" random + bandfilter\", \"HADSP\"])\n",
    "plt.show()"
   ]
  },
  {
   "cell_type": "code",
   "execution_count": null,
   "id": "72e3b979",
   "metadata": {
    "tags": []
   },
   "outputs": [],
   "source": [
    "# function to measure furthest predicted point based on RMSE\n",
    "def furthest_predicted_point(y, y_pred, rmse_min):\n",
    "    furthest_point = 0\n",
    "    for i in range(len(y_pred)):\n",
    "        rmse = np.sqrt(np.mean((y[i] - y_pred[i])**2))\n",
    "        if rmse > rmse_min:\n",
    "            furthest_point = i\n",
    "    return furthest_point"
   ]
  },
  {
   "cell_type": "markdown",
   "id": "0b27da37",
   "metadata": {},
   "source": [
    "# Analysis"
   ]
  },
  {
   "cell_type": "code",
   "execution_count": null,
   "id": "e907175b",
   "metadata": {},
   "outputs": [],
   "source": [
    "import networkx as nx\n",
    "import matplotlib.pyplot as plt\n",
    "from itertools import combinations, permutations\n",
    "from collections import defaultdict\n",
    "from scipy.sparse import coo_matrix\n",
    "\n",
    "def plot_connectivity(coo):\n",
    "    G = nx.DiGraph()\n",
    "\n",
    "    # Convert coo_matrix to edge list and add edges to the graph\n",
    "    for node1, node2 in zip(coo.row, coo.col):\n",
    "        G.add_edge(node1, node2)\n",
    "\n",
    "    triad_connections = defaultdict(int)\n",
    "\n",
    "    # Get all sets of 3 nodes\n",
    "    for nodes in combinations(G.nodes, 3):\n",
    "        # For each node in the triad, count its incoming and outgoing connections within the triad\n",
    "        connectivity_states = []\n",
    "        for node in nodes:\n",
    "            in_edges = sum([G.has_edge(other, node) for other in nodes if other != node])\n",
    "            out_edges = sum([G.has_edge(node, other) for other in nodes if other != node])\n",
    "            connectivity_states.append((in_edges, out_edges))\n",
    "        # Sort the connectivity states so that equivalent triads have the same key, regardless of node order\n",
    "        connectivity_states = tuple(sorted(connectivity_states))\n",
    "        triad_connections[connectivity_states] += 1\n",
    "\n",
    "    # Sort results by total number of connections\n",
    "    sorted_results = sorted(((sum(value for in_out in key for value in in_out), key) for key in triad_connections.items()), key=lambda x: x[0])\n",
    "    sorted_labels = [str(key) for total, key in sorted_results]\n",
    "    sorted_values = [triad_connections[key] for total, key in sorted_results]\n",
    "\n",
    "    # Plot results\n",
    "    plt.bar(range(len(sorted_labels)), sorted_values, tick_label=sorted_labels)\n",
    "    plt.xlabel('Triad connectivity state')\n",
    "    plt.ylabel('Count')\n",
    "    plt.title('Triad Connection Count in Graph')\n",
    "    plt.xticks(rotation=90)\n",
    "    plt.show()\n",
    "\n",
    "\n",
    "plot_connectivity(W_normal)"
   ]
  },
  {
   "cell_type": "code",
   "execution_count": null,
   "id": "a2619596",
   "metadata": {},
   "outputs": [],
   "source": [
    "plot_connectivity(W_ee_hasp_band)"
   ]
  },
  {
   "cell_type": "code",
   "execution_count": null,
   "id": "8f87de15",
   "metadata": {},
   "outputs": [],
   "source": [
    "from joblib import Parallel, delayed\n",
    "from sklearn.metrics import mutual_info_score\n",
    "import numpy as np\n",
    "from tqdm import tqdm\n",
    "\n",
    "time_series = filtered_data\n",
    "# Create a matrix to hold the mutual information between each pair of time series\n",
    "mi_matrix = np.zeros((len(time_series), len(time_series)))\n",
    "\n",
    "    \n",
    "# Function to compute mutual information\n",
    "def compute_mi(i, j):\n",
    "    # Discretize the data\n",
    "    time_series_i_discrete = np.floor(time_series[i] * 10).astype(int)\n",
    "    time_series_j_discrete = np.floor(time_series[j] * 10).astype(int)\n",
    "    \n",
    "    # Compute mutual information\n",
    "    mi = mutual_info_score(time_series_i_discrete, time_series_j_discrete)\n",
    "    \n",
    "    return i, j, mi\n",
    "\n",
    "# Create a list of all pairs of indices\n",
    "indices = [(i, j) for i in range(len(time_series)) for j in range(i, len(time_series))]\n",
    "\n",
    "\n",
    "\n",
    "# Use joblib to parallelize the computation\n",
    "results = Parallel(n_jobs=-1, backend=\"threading\", verbose=1)(delayed(compute_mi)(i, j) for i, j in indices)\n",
    "\n",
    "# Store the results in the matrix\n",
    "for i, j, mi in results:\n",
    "    mi_matrix[i, j] = mi\n",
    "    mi_matrix[j, i] = mi\n",
    "\n",
    "pbar.close()\n",
    "\n",
    "heatmap(mi_matrix)"
   ]
  },
  {
   "cell_type": "code",
   "execution_count": null,
   "id": "2fcf94f2-8b61-4263-8ee6-71b8a1f93068",
   "metadata": {},
   "outputs": [],
   "source": []
  },
  {
   "cell_type": "code",
   "execution_count": null,
   "id": "55dbe724-3eb9-4fb8-8135-1481d07787c1",
   "metadata": {},
   "outputs": [],
   "source": []
  },
  {
   "cell_type": "code",
   "execution_count": null,
   "id": "339f7f3e-7a1b-4fee-818e-70c83f006eb6",
   "metadata": {},
   "outputs": [],
   "source": []
  },
  {
   "cell_type": "code",
   "execution_count": null,
   "id": "0ec966dd-117a-4e0f-8ac7-4f274e5157de",
   "metadata": {},
   "outputs": [],
   "source": []
  }
 ],
 "metadata": {
  "kernelspec": {
   "display_name": "hadsp_env",
   "language": "python",
   "name": "hadsp_env"
  },
  "language_info": {
   "codemirror_mode": {
    "name": "ipython",
    "version": 3
   },
   "file_extension": ".py",
   "mimetype": "text/x-python",
   "name": "python",
   "nbconvert_exporter": "python",
   "pygments_lexer": "ipython3",
   "version": "3.10.13"
  }
 },
 "nbformat": 4,
 "nbformat_minor": 5
}
