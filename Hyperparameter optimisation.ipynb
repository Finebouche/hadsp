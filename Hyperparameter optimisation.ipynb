{
 "cells": [
  {
   "cell_type": "code",
   "execution_count": null,
   "id": "754c1d64",
   "metadata": {
    "ExecuteTime": {
     "end_time": "2023-10-23T14:04:18.159981Z",
     "start_time": "2023-10-23T14:04:18.158428Z"
    }
   },
   "outputs": [],
   "source": [
    "import sys\n",
    "from pathlib import Path\n",
    "\n",
    "# Add the root project folder to the python path in order to use the packages\n",
    "path_root = Path( '/project_ghent/HADSP/hadsp/')\n",
    "sys.path.append(str(path_root))"
   ]
  },
  {
   "cell_type": "code",
   "execution_count": null,
   "id": "88f790cf",
   "metadata": {
    "ExecuteTime": {
     "end_time": "2023-10-23T14:04:18.164863Z",
     "start_time": "2023-10-23T14:04:18.160678Z"
    },
    "tags": []
   },
   "outputs": [],
   "source": [
    "import numpy as np\n",
    "from scipy import sparse\n",
    "from tqdm import tqdm\n",
    "from importlib import reload\n",
    "\n",
    "# SEED\n",
    "SEED = 49387\n",
    "\n",
    "from matplotlib import pyplot as plt\n",
    "from seaborn import heatmap, color_palette"
   ]
  },
  {
   "cell_type": "markdown",
   "id": "eb44384e-7cbc-4611-a015-e1c073f61aa9",
   "metadata": {},
   "source": [
    "# Datasets loading\n",
    "\n",
    "Lots of different on availabale : https://towardsdatascience.com/a-data-lakes-worth-of-audio-datasets-b45b88cd4ad\n",
    "\n",
    "Classification: \n",
    "https://arxiv.org/abs/1803.07870\n",
    "\n",
    "https://github.com/FilippoMB/Time-series-classification-and-clustering-with-Reservoir-Computing\n",
    "\n",
    "Multivariate:\n",
    "https://www.timeseriesclassification.com/dataset.php"
   ]
  },
  {
   "cell_type": "markdown",
   "id": "9ceb81c7-9923-4fee-a6ed-98a84b3b7b6f",
   "metadata": {},
   "source": [
    "## Torchaudio\n",
    "\n",
    "https://pytorch.org/audio/stable/datasets.html\n"
   ]
  },
  {
   "cell_type": "raw",
   "id": "bb76656a-1524-43db-b431-e80fcee53dc5",
   "metadata": {
    "collapsed": false,
    "jupyter": {
     "outputs_hidden": false
    }
   },
   "source": [
    "# load dataset using torchaudio\n",
    "from sklearn.model_selection import StratifiedShuffleSplit\n",
    "from torchaudio.datasets import VoxCeleb1Identification, SPEECHCOMMANDS\n",
    "from torch.utils.data import random_split, DataLoader\n",
    "\n",
    "dataset = SPEECHCOMMANDS(root=\"datasets/\", download=True)\n",
    "\n",
    "sampling_rate = dataset[0][1]\n",
    "X = [sample[0][0] for sample in dataset]\n",
    "Y = [sample[2] for sample in dataset]\n",
    "\n",
    "dataset_size = len(dataset)  # Total number of samples in the dataset\n",
    "\n",
    "split = int(np.floor(test_split * dataset_size))\n",
    "\n",
    "# Use StratifiedShuffleSplit to get train/test indices\n",
    "sss = StratifiedShuffleSplit(n_splits=1, test_size=0.2, random_state=SEED)\n",
    "train_index, test_index = next(sss.split(X, Y))\n",
    "\n",
    "# Split data and labels using the indices\n",
    "X_train = X[train_index]\n",
    "Y_train = Y[train_index]\n",
    "X_test = X[test_index]\n",
    "Y_test = Y[test_index]\n",
    "\n",
    "\n",
    "is_multivariate = False"
   ]
  },
  {
   "cell_type": "markdown",
   "id": "2a8d6272-708d-4709-8e35-5a84268bed64",
   "metadata": {},
   "source": [
    "## Prediction ahead\n",
    "\n",
    "Datasets available :\n",
    "\n",
    "* MackeyGlass\n",
    "* Lorenz"
   ]
  },
  {
   "cell_type": "code",
   "execution_count": null,
   "id": "8878a4d0-e0e3-452c-8390-ce9c11fc6592",
   "metadata": {
    "scrolled": true
   },
   "outputs": [],
   "source": [
    "from datasets.load_datasets import load_dataset_prediction\n",
    "is_instances_classification = False\n",
    "dataset_name = \"MackeyGlass\"\n",
    "step_ahead=5\n",
    "\n",
    "is_multivariate, sampling_rate, X_train, X_test, Y_train, Y_test = load_dataset_prediction(dataset_name, step_ahead, visualize=True)\n"
   ]
  },
  {
   "cell_type": "markdown",
   "id": "a94b219b-eb64-4715-b983-7de3c392f088",
   "metadata": {
    "collapsed": false,
    "editable": true,
    "jupyter": {
     "outputs_hidden": false
    },
    "slideshow": {
     "slide_type": ""
    },
    "tags": []
   },
   "source": [
    "## Classification\n",
    "\n",
    "Datasets available :\n",
    "\n",
    "* FSDD\n",
    "* HAART\n",
    "* JapaneseVowels"
   ]
  },
  {
   "cell_type": "raw",
   "id": "433cace0-bcb3-4b2f-bcd2-58254c72c693",
   "metadata": {
    "execution": {
     "iopub.execute_input": "2024-04-29T13:14:37.052412Z",
     "iopub.status.busy": "2024-04-29T13:14:37.052240Z",
     "iopub.status.idle": "2024-04-29T13:14:38.127780Z",
     "shell.execute_reply": "2024-04-29T13:14:38.127546Z",
     "shell.execute_reply.started": "2024-04-29T13:14:37.052404Z"
    },
    "scrolled": true
   },
   "source": [
    "from datasets.load_datasets import load_dataset_classification\n",
    "is_instances_classification = True\n",
    "dataset_name = \"JapaneseVowels\"\n",
    "\n",
    "is_multivariate, sampling_rate, X_train, X_test, Y_train, Y_test, groups = load_dataset_classification(dataset_name)"
   ]
  },
  {
   "cell_type": "markdown",
   "id": "f7c53119-545f-4673-8104-cd0e1f69a4c7",
   "metadata": {},
   "source": [
    "## Formating"
   ]
  },
  {
   "cell_type": "markdown",
   "id": "4de14329-d74e-4ac2-823c-e0eefbf7ebaa",
   "metadata": {},
   "source": [
    "### Multivariate Naming"
   ]
  },
  {
   "cell_type": "code",
   "execution_count": null,
   "id": "0e1b103f-4247-4f30-b588-70c32c1d5c3c",
   "metadata": {},
   "outputs": [],
   "source": [
    "if is_multivariate:\n",
    "    X_train_band, X_test_band = X_train, X_test\n",
    "    del X_train, X_test"
   ]
  },
  {
   "cell_type": "markdown",
   "id": "6f49c2d5-3902-42cb-92e2-15506b523954",
   "metadata": {},
   "source": [
    "### Check data formating"
   ]
  },
  {
   "cell_type": "code",
   "execution_count": null,
   "id": "c8dab936-68c4-4abf-8a71-719bb3989931",
   "metadata": {},
   "outputs": [],
   "source": [
    "if is_instances_classification:\n",
    "    common_index = 1\n",
    "else:\n",
    "    common_index = 0\n",
    "\n",
    "if is_multivariate:\n",
    "    if is_instances_classification:\n",
    "        print(\"Common index for multivariate classification should be 1\")\n",
    "        print(\"\\nCheck it ! \\nFirst array \", X_train_band[0].shape, \" and second array\", X_train_band[2].shape)\n",
    "        common_size = X_train_band[0].shape[common_index]\n",
    "    else:\n",
    "        print(\"Common index for multivariate prediction should be 0\")\n",
    "        common_size = X_train_band.shape[common_index]\n"
   ]
  },
  {
   "cell_type": "markdown",
   "id": "86961904-ad36-4af8-ad21-6d51f491da61",
   "metadata": {},
   "source": [
    "# Reservoir parameters"
   ]
  },
  {
   "cell_type": "markdown",
   "id": "8ed459f0-7f4b-40e9-b32c-441769100be2",
   "metadata": {
    "collapsed": false,
    "jupyter": {
     "outputs_hidden": false
    }
   },
   "source": [
    "## Activation function"
   ]
  },
  {
   "cell_type": "code",
   "execution_count": null,
   "id": "615a38d2df41a727",
   "metadata": {
    "collapsed": false,
    "jupyter": {
     "outputs_hidden": false
    }
   },
   "outputs": [],
   "source": [
    "from reservoir.activation_functions import tanh, heaviside, sigmoid\n",
    "\n",
    "# the activation function choosen for the rest of the experiment\n",
    "# activation_function = lambda x : sigmoid(2*(x-0.5))tanh(x)\n",
    "activation_function = lambda x : tanh(x)\n",
    "\n",
    "plt.plot(np.linspace(0, 1.1, 100), activation_function(np.linspace(0, 1.1, 100)))\n",
    "plt.grid()"
   ]
  },
  {
   "cell_type": "markdown",
   "id": "f7cbe486-d170-441d-b06b-b8ae78900814",
   "metadata": {},
   "source": [
    "## Reservoir size"
   ]
  },
  {
   "cell_type": "code",
   "execution_count": null,
   "id": "b0f44547",
   "metadata": {
    "is_executing": true,
    "tags": []
   },
   "outputs": [],
   "source": [
    "RESERVOIR_SIZE = 500"
   ]
  },
  {
   "cell_type": "markdown",
   "id": "a0708a58-1fd0-4e71-af44-a1d5f8aa5602",
   "metadata": {},
   "source": [
    "# Cross validation"
   ]
  },
  {
   "cell_type": "code",
   "execution_count": null,
   "id": "19507da3-45fc-425b-9c54-9a6405ce4bcc",
   "metadata": {},
   "outputs": [],
   "source": [
    "from sklearn.model_selection import train_test_split, GroupShuffleSplit\n",
    "\n",
    "# Split\n",
    "val_size=0.2\n",
    "if is_multivariate:\n",
    "    X_train_band, X_val_band, Y_train, Y_val = train_test_split(X_train_band, Y_train, test_size=val_size, shuffle=False, random_state=SEED)\n",
    "else:\n",
    "    X_train, X_val, Y_train, Y_val = train_test_split(X_train, Y_train, test_size=val_size, shuffle=False, random_state=SEED)\n"
   ]
  },
  {
   "cell_type": "markdown",
   "id": "077c0280-4742-421c-b52a-40567511608b",
   "metadata": {
    "collapsed": false,
    "jupyter": {
     "outputs_hidden": false
    }
   },
   "source": [
    "# Preprocessing\n",
    "\n",
    "Spectrograms_vs_Cochleagrams : https://www.researchgate.net/publication/340510607_Speech_recognition_using_very_deep_neural_networks_Spectrograms_vs_Cochleagrams"
   ]
  },
  {
   "cell_type": "markdown",
   "id": "98a1405c-d01a-4d1a-8764-cd0624d51f79",
   "metadata": {},
   "source": [
    "Attention ! For multivariate shape should be : (nb_of_timeseries, nb_of_timesteps)"
   ]
  },
  {
   "cell_type": "markdown",
   "id": "59b05b48-0913-44b8-83a8-bfbceb2cdca4",
   "metadata": {},
   "source": [
    "## Multivariate generation (if not multivariate) and train_validation split"
   ]
  },
  {
   "cell_type": "code",
   "execution_count": null,
   "id": "c727961f-11f5-4c22-be16-1375d1f79000",
   "metadata": {
    "ExecuteTime": {
     "end_time": "2023-10-20T11:11:39.227368Z",
     "start_time": "2023-10-20T11:11:19.130705Z"
    },
    "editable": true,
    "slideshow": {
     "slide_type": ""
    },
    "tags": []
   },
   "outputs": [],
   "source": [
    "from datasets.multivariate_generation import generate_multivariate_dataset, extract_peak_frequencies\n",
    "\n",
    "freq_train_data = X_train_band if is_multivariate else X_train\n",
    "flat_train_data = np.concatenate(freq_train_data, axis=0) if is_instances_classification else freq_train_data\n",
    "filtered_peak_freqs = extract_peak_frequencies(flat_train_data, sampling_rate, threshold=1e-5, nperseg=1024, visualize=False)\n",
    "\n",
    "if not is_multivariate:\n",
    "    common_size = len(filtered_peak_freqs)\n",
    "    X_train_band = generate_multivariate_dataset(\n",
    "        filtered_peak_freqs, X_train, sampling_rate, is_instances_classification, nb_jobs=-1\n",
    "    )\n",
    "    X_val_band = generate_multivariate_dataset(\n",
    "        filtered_peak_freqs, X_val, sampling_rate, is_instances_classification, nb_jobs=-1\n",
    "    )\n",
    "    X_test_band = generate_multivariate_dataset(\n",
    "        filtered_peak_freqs, X_test, sampling_rate, is_instances_classification, nb_jobs=-1\n",
    "    )\n"
   ]
  },
  {
   "cell_type": "markdown",
   "id": "41ac1066-6a2b-42ca-a8df-b5113744526d",
   "metadata": {
    "editable": true,
    "slideshow": {
     "slide_type": ""
    },
    "tags": []
   },
   "source": [
    "## Standardizing the amplitudes"
   ]
  },
  {
   "cell_type": "code",
   "execution_count": null,
   "id": "45720c4e-8bdd-4b99-8cbd-8033e08ad915",
   "metadata": {
    "ExecuteTime": {
     "end_time": "2023-10-20T11:12:00.856649Z",
     "start_time": "2023-10-20T11:11:39.230512Z"
    }
   },
   "outputs": [],
   "source": [
    "from sklearn.preprocessing import MinMaxScaler\n",
    "from datasets.preprocessing import scale_data\n",
    "\n",
    "scaler_multi = MinMaxScaler(feature_range=(0, 1))\n",
    "X_train_band, X_val_band, X_test_band = scale_data(X_train_band, X_val_band, X_test_band, scaler_multi, is_instances_classification)\n",
    "            \n",
    "if not is_multivariate:\n",
    "    scaler_x_uni = MinMaxScaler(feature_range=(0, 1))\n",
    "    X_train, X_val, X_test = scale_data(X_train, X_val, X_test, scaler_multi, is_instances_classification)       \n"
   ]
  },
  {
   "cell_type": "markdown",
   "id": "bc2f6c87-69f8-4caa-b51f-0e471e7a48c2",
   "metadata": {
    "collapsed": false,
    "editable": true,
    "jupyter": {
     "outputs_hidden": false
    },
    "slideshow": {
     "slide_type": ""
    },
    "tags": []
   },
   "source": [
    "## Formating"
   ]
  },
  {
   "cell_type": "markdown",
   "id": "c5923c31-23c8-4450-b014-3fcfce94a32b",
   "metadata": {},
   "source": [
    "### noise level"
   ]
  },
  {
   "cell_type": "code",
   "execution_count": null,
   "id": "b49a01ef-7b49-4493-aa96-3ea65b18b118",
   "metadata": {},
   "outputs": [],
   "source": [
    "# Define noise parameter\n",
    "noise_std = 0.001"
   ]
  },
  {
   "cell_type": "markdown",
   "id": "f2b73bdf-78fa-4525-a587-59dbdfa989d2",
   "metadata": {},
   "source": [
    "### common size"
   ]
  },
  {
   "cell_type": "markdown",
   "id": "e69057a7-9a34-4a92-a37f-23d6ac6e3b76",
   "metadata": {},
   "source": [
    "**common_size** : the number of different dimensions in the input data\n",
    "\n",
    "**K** : the number of neurons that will receive a particular time serie as input "
   ]
  },
  {
   "cell_type": "code",
   "execution_count": null,
   "id": "a98b7a99-3f6f-404a-858a-429e90fb51d7",
   "metadata": {},
   "outputs": [],
   "source": [
    "import math \n",
    "\n",
    "# We want the size of the reservoir to be at least RESERVOIR_SIZE\n",
    "K = math.ceil(RESERVOIR_SIZE / common_size)\n",
    "n = common_size * K\n",
    "print(\"Dimension of our reservoir :\", n)\n",
    "print(\"Copy of each time serie :\", K)"
   ]
  },
  {
   "cell_type": "markdown",
   "id": "92409732-7c73-4f7f-93ad-356e831def33",
   "metadata": {},
   "source": [
    "## noizing and duplication"
   ]
  },
  {
   "cell_type": "code",
   "execution_count": null,
   "id": "51ab577a-d763-4ad4-99a3-e62d9139a3a2",
   "metadata": {},
   "outputs": [],
   "source": [
    "from datasets.preprocessing import add_noise, duplicate_data\n",
    "\n",
    "# PRETRAIN NOISE\n",
    "# UNI\n",
    "if not is_multivariate:\n",
    "    X_pretrain_uni = X_train.flatten()\n",
    "    X_pretrain_noisy = (add_noise(instance, noise_std)).flatten()\n",
    "\n",
    "# MULTI\n",
    "X_pretrain_band = X_train_band\n",
    "X_pretrain_band_noisy = [add_noise(instance, noise_std) for instance in X_pretrain_band]\n",
    "\n",
    "\n",
    "#Train/Val/Test\n",
    "if is_instances_classification:\n",
    "    # NOISE\n",
    "    # UNI\n",
    "    if not is_multivariate:\n",
    "        X_train_noisy = [add_noise(instance, noise_std) for instance in tqdm(X_train, desc=\"TRAIN\")]\n",
    "        X_val_noisy = [add_noise(instance, noise_std) for instance in tqdm(X_val, desc=\"VAL\")]\n",
    "        X_test_noisy = [add_noise(instance, noise_std) for instance in tqdm(X_test, desc=\"TEST\")]\n",
    "        \n",
    "    # MULTI\n",
    "    X_train_band_noisy = [add_noise(instance, noise_std) for instance in tqdm(X_train_band, desc=\"TRAIN\")]\n",
    "    X_val_band_noisy = [add_noise(instance, noise_std) for instance in tqdm(X_val_band, desc=\"VAL\")]\n",
    "    X_test_band_noisy = [add_noise(instance, noise_std) for instance in tqdm(X_test_band, desc=\"TEST\")]\n",
    "\n",
    "    # DUPLICATION\n",
    "    X_pretrain_multi = duplicate_data(X_train_band, K)\n",
    "    X_pretrain_multi_noisy = duplicate_data(X_pretrain_band_noisy, K)\n",
    "\n",
    "    X_train_band_duplicated = duplicate_data(X_train_band, K)\n",
    "    X_train_band_noisy_duplicated = duplicate_data(X_train_band_noisy, K)\n",
    "    X_val_band_duplicated = duplicate_data(X_val_band, K)\n",
    "    X_val_band_noisy_duplicated = duplicate_data(X_val_band_noisy, K)\n",
    "    X_test_band_duplicated = duplicate_data(X_test_band, K)\n",
    "    X_test_band_noisy_duplicated = duplicate_data(X_test_band_noisy, K)\n",
    "\n",
    "\n",
    "else:  #if prediction\n",
    "    # NOISE\n",
    "    # UNI\n",
    "    if not is_multivariate:\n",
    "        X_train_noisy = add_noise(X_train, noise_std)\n",
    "        X_test_noisy = add_noise(X_test, noise_std)\n",
    "        X_val_noisy = add_noise(X_val, noise_std)\n",
    "\n",
    "    # MULTI\n",
    "    X_train_band_noisy = add_noise(X_train_band, noise_std)\n",
    "    X_val_band_noisy = add_noise(X_val_band, noise_std)\n",
    "    X_test_band_noisy = add_noise(X_test_band, noise_std)\n",
    "\n",
    "    # DUPLICATION\n",
    "    X_pretrain_multi = np.repeat(X_pretrain_band, K, axis=1)\n",
    "    X_pretrain_multi_noisy = np.repeat(X_pretrain_band_noisy, K, axis=1)\n",
    "\n",
    "    X_train_band_duplicated = np.repeat(np.array(X_train_band), K, axis=1)\n",
    "    X_val_band_duplicated = np.repeat(np.array(X_val_band), K, axis=1)\n",
    "    X_test_band_duplicated = np.repeat(np.array(X_test_band), K, axis=1)\n",
    "    X_train_band_noisy_duplicated = np.repeat(np.array(X_train_band_noisy), K, axis=1)\n",
    "    X_val_band_noisy_duplicated = np.repeat(np.array(X_val_band_noisy), K, axis=1)    \n",
    "    X_test_band_noisy_duplicated = np.repeat(np.array(X_test_band_noisy), K, axis=1)\n",
    "\n",
    "del X_train_band, X_val_band, X_test_band, X_train_band_noisy, X_val_band_noisy, X_test_band_noisy"
   ]
  },
  {
   "cell_type": "markdown",
   "id": "5df206ba-36a2-4468-b719-7bc819114b1a",
   "metadata": {
    "collapsed": false,
    "jupyter": {
     "outputs_hidden": false
    }
   },
   "source": [
    "# Hyperparameter search"
   ]
  },
  {
   "cell_type": "markdown",
   "id": "a69c5610-8dad-4d05-8bbb-fa34031d9c9c",
   "metadata": {},
   "source": [
    "## Generated matrix"
   ]
  },
  {
   "cell_type": "code",
   "execution_count": null,
   "id": "4e821557-27b1-4f28-bd65-328bf5237921",
   "metadata": {},
   "outputs": [],
   "source": [
    "# Min window size to get all the dynamics ? \n",
    "min_window_size = sampling_rate/np.max(np.hstack(filtered_peak_freqs))\n",
    "max_window_size = sampling_rate/np.min(np.hstack(filtered_peak_freqs))\n",
    "\n",
    "print(min_window_size)\n",
    "print(max_window_size)"
   ]
  },
  {
   "cell_type": "code",
   "execution_count": null,
   "id": "f4957e6c-e0cc-4d90-a495-348a8bbab3cd",
   "metadata": {
    "scrolled": true
   },
   "outputs": [],
   "source": [
    "from performances.esn_model_evaluation import init_and_train_model_for_classification, predict_model_for_classification, compute_score\n",
    "from joblib import Parallel, delayed\n",
    "from reservoir.reservoir import init_matrices\n",
    "from connexion_generation.bounded_hadsp import run_hadsp_algorithm\n",
    "from performances.esn_model_evaluation import init_and_train_model_for_prediction\n",
    "from connexion_generation.desp import run_desp_algorithm\n",
    "import connexion_generation.desp\n",
    "reload(connexion_generation.desp)\n",
    "\n",
    "N_JOBS = -1\n",
    "\n",
    "# TO CALCULATE SCORE FOR PREDICTION\n",
    "START_STEP = 0\n",
    "END_STEP = 500\n",
    "slice_range = slice(START_STEP, END_STEP)\n",
    "\n",
    "function_name = \"hadsp\" # \"desp\" ou \"hadsp\"\n",
    "data_type = \"noisy\" # \"normal\" ou \"noisy\"\n",
    "\n",
    "def objective(trial):\n",
    "    # Suggest values for the parameters you want to optimize\n",
    "    # COMMON\n",
    "    input_scaling = trial.suggest_float('input_scaling', 0.01, 0.2, step=0.01)\n",
    "    bias_scaling = trial.suggest_float('bias_scaling', 0, 0.2, step=0.01)\n",
    "    leaky_rate = trial.suggest_float('leaky_rate', 1, 1)\n",
    "    connectivity = trial.suggest_float('connectivity', 0, 0)\n",
    "    input_connectivity = trial.suggest_float('input_connectivity', 1, 1)\n",
    "    network_size = trial.suggest_float('network_size', RESERVOIR_SIZE, RESERVOIR_SIZE)\n",
    "    weight_increment = trial.suggest_float('weight_increment', 0.01, 0.5, step=0.01)\n",
    "\n",
    "    ridge = trial.suggest_int('ridge', -10, 1)\n",
    "    RIDGE_COEF = 10**ridge\n",
    "\n",
    "    # HADSP\n",
    "    if function_name == \"hadsp\":\n",
    "        target_rate = trial.suggest_float('target_rate', 0.5, 1, step=0.01)\n",
    "        rate_spread = trial.suggest_float('rate_spread', 0.01, 0.4, step=0.01)\n",
    "        TIME_INCREMENT = int(min_window_size+1) # int(min_window_size+1) or int(max_window_size)\n",
    "        MAX_TIME_INCREMENT = int(max_window_size) #int(max_window_size) or None or TIME_INCREMENT\n",
    "    # DESP\n",
    "    else:\n",
    "        min_variance = trial.suggest_float('min_variance', 0.001, 0.01, step=0.001)\n",
    "        variance_window = trial.suggest_float('variance_window', 0.01, 0.02, step=0.005)\n",
    "        max_variance = min_variance + variance_window\n",
    "        TIME_INCREMENT = 100 # int(min_window_size+1) or int(max_window_size)\n",
    "        MAX_TIME_INCREMENT = TIME_INCREMENT #int(max_window_size) or None or TIME_INCREMENT\n",
    "\n",
    "\n",
    "    total_score = 0\n",
    "    average_nb = 3\n",
    "    for _ in range(average_nb):  # Repeat the process three times\n",
    "        # CROSS-VALIDATION\n",
    "\n",
    "        # PREPROCESSING\n",
    "        pretrain_data = X_pretrain_multi\n",
    "        train_data = X_train_band_duplicated # X_train_band_noisy_duplicated or X_train_band_duplicated\n",
    "        val_data = X_val_band_noisy_duplicated if data_type == \"noisy\" else X_val_band_duplicated\n",
    "\n",
    "        # UNSUPERVISED PRETRAINING \n",
    "        def initialise_and_train(input_scaling, n, input_connectivity, connectivity, bias_scaling, training_set):\n",
    "            Win, W, bias = init_matrices(n, input_connectivity, connectivity)\n",
    "            bias *= bias_scaling\n",
    "            Win *= input_scaling\n",
    "    \n",
    "            if function_name == \"hadsp\":\n",
    "                W, state_history = run_hadsp_algorithm(W, Win, bias, leaky_rate, activation_function, training_set, TIME_INCREMENT, weight_increment,\n",
    "                                        target_rate, rate_spread, max_increment=MAX_TIME_INCREMENT, mi_based=False, instances=is_instances_classification, common_index=common_index, visualize=False)\n",
    "            elif function_name == \"desp\":\n",
    "                W, state_history, _ = run_desp_algorithm(W, Win, bias, leaky_rate, activation_function, training_set, TIME_INCREMENT, weight_increment,\n",
    "                            min_variance, max_variance, max_increment=MAX_TIME_INCREMENT, mi_based=True, instances=is_instances_classification, common_index=common_index, n_jobs = 1, visualize=False)\n",
    "            else:\n",
    "                raise ValueError(f\"Invalid function: {function}\")\n",
    "            \n",
    "            return Win, W, bias\n",
    "        Win, W, bias= initialise_and_train(input_scaling, n, input_connectivity, connectivity, bias_scaling, pretrain_data)\n",
    "\n",
    "        \n",
    "        # EVALUATION\n",
    "        if is_instances_classification:\n",
    "            reservoir, readout = init_and_train_model_for_classification(W, np.diag(Win.A.T[0]), bias, leaky_rate, activation_function, train_data, Y_train, N_JOBS, RIDGE_COEF, mode=\"sequence-to-vector\")\n",
    "            \n",
    "            Y_pred = predict_model_for_classification(reservoir, readout, val_data, N_JOBS)\n",
    "            score = compute_score(Y_pred, Y_val, is_instances_classification)\n",
    "        else:\n",
    "            esn = init_and_train_model_for_prediction(W, np.diag(Win.A.T[0]), bias, leaky_rate, activation_function, train_data, Y_train, RIDGE_COEF)\n",
    "            \n",
    "            Y_pred =  esn.run(val_data, reset=False)\n",
    "            score = compute_score(Y_pred, Y_val, is_instances_classification)\n",
    "\n",
    "        total_score += score\n",
    "\n",
    "    average_score = total_score / average_nb  # Average the score\n",
    "\n",
    "    return average_score\n"
   ]
  },
  {
   "cell_type": "code",
   "execution_count": null,
   "id": "94a7cbad-31bd-49d2-a3c1-00d9ccb6aaab",
   "metadata": {
    "scrolled": true
   },
   "outputs": [],
   "source": [
    "import optuna\n",
    "from optuna.samplers import TPESampler\n",
    "import re\n",
    "\n",
    "def camel_to_snake(name):\n",
    "    str1 = re.sub('(.)([A-Z][a-z]+)', r'\\1_\\2', name)\n",
    "    return re.sub('([a-z0-9])([A-Z])', r'\\1_\\2', str1).lower()\n",
    "\n",
    "storage = optuna.storages.RDBStorage(\n",
    "    url=\"sqlite:///optuna_\" + camel_to_snake(dataset_name) + \"_db.≈\",\n",
    "    engine_kwargs={\"pool_size\": 20, \"connect_args\": {\"timeout\": 10}},\n",
    ")\n",
    "study_name = function_name + \"_\" + dataset_name + \"_\" + data_type\n",
    "direction = \"maximize\" if is_instances_classification else \"minimize\"\n",
    "sampler = TPESampler()\n",
    "\n",
    "def optimize_study(n_trials):\n",
    "    study = optuna.create_study(storage=storage, sampler=sampler, study_name=study_name, direction=direction, load_if_exists=True)\n",
    "    study.optimize(objective, n_trials=n_trials)\n",
    "\n",
    "N_TRIALS = 400\n",
    "n_jobs = 10\n",
    "trials_per_process = N_TRIALS // n_jobs\n",
    "\n",
    "# Use joblib to parallelize the optimization\n",
    "Parallel(n_jobs=n_jobs)(\n",
    "    delayed(optimize_study)(trials_per_process) for _ in range(n_jobs)\n",
    ")\n"
   ]
  },
  {
   "cell_type": "code",
   "execution_count": null,
   "id": "89a02052-e2b1-4a33-b40a-31961007efd1",
   "metadata": {},
   "outputs": [],
   "source": [
    "test_data_multi = X_test_band_noisy_duplicated if data_type == \"noisy\" else X_test_band_duplicated"
   ]
  },
  {
   "cell_type": "markdown",
   "id": "b0ce8fd1-b2e9-4e55-83d6-4c237fae652b",
   "metadata": {},
   "source": [
    "## Random matrix"
   ]
  },
  {
   "cell_type": "code",
   "execution_count": null,
   "id": "b5439cca-5b2b-4a62-883f-7b10f7351e64",
   "metadata": {},
   "outputs": [],
   "source": [
    "from performances.esn_model_evaluation import init_and_train_model_for_classification, predict_model_for_classification, compute_score\n",
    "from joblib import Parallel, delayed\n",
    "from reservoir.reservoir import init_matrices\n",
    "from connexion_generation.bounded_hadsp import run_hadsp_algorithm\n",
    "from connexion_generation.utility import TwoDimArrayWrapper\n",
    "from performances.esn_model_evaluation import init_and_train_model_for_prediction\n",
    "\n",
    "N_JOBS = -1\n",
    "\n",
    "def objective(trial):\n",
    "    # Suggest values for the parameters you want to optimize\n",
    "    input_scaling = trial.suggest_float('input_scaling', 0.01, 1.0, step=0.01)\n",
    "    bias_scaling = trial.suggest_float('bias_scaling', 0, 1, step=0.05)\n",
    "    leaky_rate = trial.suggest_float('leaky_rate', 1, 1)\n",
    "    connectivity = trial.suggest_float('connectivity', 0, 1)\n",
    "    input_connectivity = trial.suggest_float('input_connectivity', 1, 1)\n",
    "    network_size = trial.suggest_float('network_size', RESERVOIR_SIZE, RESERVOIR_SIZE)\n",
    "    sr = trial.suggest_float('spectral_radius', 0.4, 1.6, step=0.01)\n",
    "    ridge = trial.suggest_int('ridge', -10, 1)\n",
    "    RIDGE_COEF = 10**ridge\n",
    "\n",
    "\n",
    "    pretrain_data_multi = X_pretrain_multi\n",
    "    train_data_multi = X_train_band_duplicated # X_train_band_noisy_duplicated or X_train_band_duplicated\n",
    "    test_data_multi = X_test_band_noisy_duplicated if data_type == \"noisy\" else X_test_band_duplicated\n",
    "\n",
    "    \n",
    "    total_score = 0\n",
    "    average_nb=3\n",
    "    for _ in range(average_nb):  # Repeat the process three times\n",
    "        \n",
    "        # random + multi\n",
    "        Win_random_multi, W_random_multi, bias_random_multi =  init_matrices(n, 1, connectivity, sr)\n",
    "        bias_random_multi= bias_random_multi*bias_scaling\n",
    "        Win_random_multi= Win_random_multi*input_scaling    \n",
    "\n",
    "        if is_instances_classification:\n",
    "            reservoir_random_multi, readout_random_multi = init_and_train_model_for_classification(W_random_multi, np.diag(Win_random_multi.A.T[0]), bias_random_multi, leaky_rate, activation_function, train_data_multi, Y_train, N_JOBS, RIDGE_COEF, mode=\"sequence-to-vector\")\n",
    "            Y_pred = predict_model_for_classification(reservoir_random_multi, readout_random_multi, test_data_multi, N_JOBS)\n",
    "            score = compute_score(Y_pred, Y_test, is_instances_classification)\n",
    "        else:\n",
    "            esn_random_multi = init_and_train_model_for_prediction(W_random_multi, np.diag(Win_random_multi.A.T[0]), bias_random_multi, leaky_rate, activation_function, train_data_multi, Y_train, RIDGE_COEF)\n",
    "            Y_pred =  esn_random_multi.run(test_data_multi, reset=False)\n",
    "        \n",
    "            score = compute_score(Y_pred, Y_test, is_instances_classification)\n",
    "\n",
    "        total_score += score\n",
    "        \n",
    "    average_score = total_score / average_nb  # Average the score\n",
    "\n",
    "    \n",
    "    return average_score\n"
   ]
  },
  {
   "cell_type": "code",
   "execution_count": null,
   "id": "ecf8853a-8c8d-4eec-bb2e-fc66e2091eb9",
   "metadata": {
    "scrolled": true
   },
   "outputs": [],
   "source": [
    "import optuna\n",
    "from optuna.samplers import TPESampler\n",
    "import re\n",
    "\n",
    "def camel_to_snake(name):\n",
    "    str1 = re.sub('(.)([A-Z][a-z]+)', r'\\1_\\2', name)\n",
    "    return re.sub('([a-z0-9])([A-Z])', r'\\1_\\2', str1).lower()\n",
    "\n",
    "storage = optuna.storages.RDBStorage(\n",
    "    url=\"sqlite:///optuna_\" + camel_to_snake(dataset_name) + \"_db.sqlite3\",\n",
    "    engine_kwargs={\"pool_size\": 20, \"connect_args\": {\"timeout\": 10}},\n",
    ")\n",
    "study_name = \"random_\" + dataset_name + \"_\" + data_type\n",
    "direction = \"maximize\" if is_instances_classification else \"minimize\"\n",
    "sampler = TPESampler()\n",
    "\n",
    "\n",
    "def optimize_study(n_trials):\n",
    "    study = optuna.create_study(storage, sampler, study_name=study_name, direction=direction, load_if_exists=True)\n",
    "    study.optimize(objective, n_trials=n_trials)\n",
    "\n",
    "\n",
    "N_TRIALS = 400\n",
    "n_jobs = 10\n",
    "trials_per_process = N_TRIALS // n_jobs\n",
    "\n",
    "# Use joblib to parallelize the optimization\n",
    "Parallel(n_jobs=n_jobs)(\n",
    "    delayed(optimize_study)(trials_per_process) for _ in range(n_jobs)\n",
    ")\n"
   ]
  },
  {
   "cell_type": "markdown",
   "id": "afea5f7c-4fda-4977-b27a-be04731e9677",
   "metadata": {},
   "source": [
    "# Results"
   ]
  },
  {
   "cell_type": "markdown",
   "id": "e355b9b7-6625-47be-8a7e-8d388448e85b",
   "metadata": {},
   "source": [
    "\n",
    "\n",
    "## Mackey Glass\n",
    "### Ridge parameter\n",
    "| Dataset     | Algorithm | test   | Curve shape | Best value |\n",
    "|-------------|-----------|--------|-------------|------------|\n",
    "| MackeyGlass | DESP      | normal | no extremum | 10         |\n",
    "| MackeyGlass | HADSP     | normal | no extremum | 9,10       |\n",
    "| MackeyGlass | random    | normal | no extremum | 9,10       |\n",
    "| MackeyGlass | DESP      | noisy  | bell        | 7          |\n",
    "| MackeyGlass | HADSP     | noisy  | bell        | 6          |\n",
    "| MackeyGlass | random    | noisy  | no extremum | 10         |\n",
    "\n",
    "### Results, no validation/test\n",
    "\n",
    "|           |  HADSP |  DESP  | random |\n",
    "|-----------|--------|--------|--------|\n",
    "|  normal   | 0.0399 | 0.0379 | 0.0446 |\n",
    "|  noisy    | 0.119  | 0.109  | 0.104  | \n"
   ]
  },
  {
   "cell_type": "markdown",
   "id": "b9cf04a0-7ee8-44fd-a8e0-cbf632a9a2c9",
   "metadata": {},
   "source": [
    "## Japanese vowels\n",
    "\n",
    "### Ridge parameter\n",
    "\n",
    "| Dataset        | Algorithm | test   | Curve shape | Best value |\n",
    "|----------------|-----------|--------|-------------|------------|\n",
    "| JapaneseVowels | DESP      | normal | bell        | 2          |\n",
    "| JapaneseVowels | HADSP     | normal | bell        | 4          |\n",
    "| JapaneseVowels | random    | normal | bell        | 4          |\n",
    "| JapaneseVowels | DESP      | noisy  | bell        | 2          |\n",
    "| JapaneseVowels | HADSP     | noisy  | bell        | 5          |\n",
    "| JapaneseVowels | random    | noisy  | bell        | 5          |\n",
    "\n",
    "### Results, no validation/test\n",
    "\n",
    "|           |  HADSP |  DESP  | random |\n",
    "|-----------|--------|--------|--------|\n",
    "|  normal   | 0.641  | 0.649  | 0.612  |\n",
    "|  noisy    | 0.621  | 0.623  | 0.610  | "
   ]
  },
  {
   "cell_type": "code",
   "execution_count": null,
   "id": "49ee3d4e-e3c6-43fd-9ef8-cf41c858ebac",
   "metadata": {},
   "outputs": [],
   "source": []
  }
 ],
 "metadata": {
  "kernelspec": {
   "display_name": "hadsp_env",
   "language": "python",
   "name": "hadsp_env"
  },
  "language_info": {
   "codemirror_mode": {
    "name": "ipython",
    "version": 3
   },
   "file_extension": ".py",
   "mimetype": "text/x-python",
   "name": "python",
   "nbconvert_exporter": "python",
   "pygments_lexer": "ipython3",
   "version": "3.11.5"
  }
 },
 "nbformat": 4,
 "nbformat_minor": 5
}
