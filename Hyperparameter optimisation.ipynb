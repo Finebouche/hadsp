{
 "cells": [
  {
   "cell_type": "code",
   "execution_count": 1,
   "id": "754c1d64",
   "metadata": {
    "execution": {
     "iopub.execute_input": "2024-05-15T14:54:31.838457Z",
     "iopub.status.busy": "2024-05-15T14:54:31.837870Z",
     "iopub.status.idle": "2024-05-15T14:54:31.856224Z",
     "shell.execute_reply": "2024-05-15T14:54:31.855479Z",
     "shell.execute_reply.started": "2024-05-15T14:54:31.838409Z"
    },
    "is_executing": true
   },
   "outputs": [],
   "source": [
    "import sys\n",
    "from pathlib import Path\n",
    "\n",
    "# Add the root project folder to the python path in order to use the packages\n",
    "#path_root = Path( '/project_ghent/HADSP/hadsp/')\n",
    "#sys.path.append(str(path_root))"
   ]
  },
  {
   "cell_type": "code",
   "execution_count": 2,
   "id": "88f790cf",
   "metadata": {
    "ExecuteTime": {
     "end_time": "2023-10-23T14:04:18.164863Z",
     "start_time": "2023-10-23T14:04:18.160678Z"
    },
    "execution": {
     "iopub.execute_input": "2024-05-15T14:54:32.366109Z",
     "iopub.status.busy": "2024-05-15T14:54:32.365397Z",
     "iopub.status.idle": "2024-05-15T14:54:33.156550Z",
     "shell.execute_reply": "2024-05-15T14:54:33.156304Z",
     "shell.execute_reply.started": "2024-05-15T14:54:32.366073Z"
    },
    "tags": []
   },
   "outputs": [],
   "source": [
    "import numpy as np\n",
    "from tqdm import tqdm\n",
    "\n",
    "from matplotlib import pyplot as plt\n",
    "from seaborn import heatmap, color_palette"
   ]
  },
  {
   "cell_type": "markdown",
   "id": "eb44384e-7cbc-4611-a015-e1c073f61aa9",
   "metadata": {},
   "source": [
    "# Datasets loading\n",
    "\n",
    "Lots of different on availabale : https://towardsdatascience.com/a-data-lakes-worth-of-audio-datasets-b45b88cd4ad\n",
    "\n",
    "Classification: \n",
    "https://arxiv.org/abs/1803.07870\n",
    "\n",
    "https://github.com/FilippoMB/Time-series-classification-and-clustering-with-Reservoir-Computing\n",
    "\n",
    "Multivariate:\n",
    "https://www.timeseriesclassification.com/dataset.php"
   ]
  },
  {
   "cell_type": "markdown",
   "id": "9ceb81c7-9923-4fee-a6ed-98a84b3b7b6f",
   "metadata": {},
   "source": [
    "## Torchaudio\n",
    "\n",
    "https://pytorch.org/audio/stable/datasets.html\n"
   ]
  },
  {
   "cell_type": "raw",
   "id": "bb76656a-1524-43db-b431-e80fcee53dc5",
   "metadata": {
    "collapsed": false,
    "jupyter": {
     "outputs_hidden": false
    }
   },
   "source": [
    "# load dataset using torchaudio\n",
    "from sklearn.model_selection import StratifiedShuffleSplit\n",
    "from torchaudio.datasets import VoxCeleb1Identification, SPEECHCOMMANDS\n",
    "from torch.utils.data import random_split, DataLoader\n",
    "\n",
    "dataset = SPEECHCOMMANDS(root=\"datasets/\", download=True)\n",
    "\n",
    "sampling_rate = dataset[0][1]\n",
    "X = [sample[0][0] for sample in dataset]\n",
    "Y = [sample[2] for sample in dataset]\n",
    "\n",
    "dataset_size = len(dataset)  # Total number of samples in the dataset\n",
    "\n",
    "split = int(np.floor(test_split * dataset_size))\n",
    "\n",
    "# Use StratifiedShuffleSplit to get train/test indices\n",
    "sss = StratifiedShuffleSplit(n_splits=1, test_size=0.2, random_state=SEED)\n",
    "train_index, test_index = next(sss.split(X, Y))\n",
    "\n",
    "# Split data and labels using the indices\n",
    "X_train = X[train_index]\n",
    "Y_train = Y[train_index]\n",
    "X_test = X[test_index]\n",
    "Y_test = Y[test_index]\n",
    "\n",
    "\n",
    "is_multivariate = False"
   ]
  },
  {
   "cell_type": "markdown",
   "id": "2a8d6272-708d-4709-8e35-5a84268bed64",
   "metadata": {},
   "source": [
    "## Prediction ahead\n",
    "\n",
    "Datasets available :\n",
    "\n",
    "* MackeyGlass\n",
    "* Lorenz"
   ]
  },
  {
   "cell_type": "raw",
   "id": "bee95f6c-898c-4136-97f0-887e0a8efb72",
   "metadata": {
    "scrolled": true
   },
   "source": [
    "from datasets.load_datasets import load_dataset_prediction\n",
    "is_instances_classification = False\n",
    "dataset_name = \"MackeyGlass\"\n",
    "step_ahead=5\n",
    "\n",
    "is_multivariate, sampling_rate, X_train_raw, X_test_raw, Y_train_raw, Y_test = load_dataset_prediction(dataset_name, step_ahead, visualize=True)\n"
   ]
  },
  {
   "cell_type": "markdown",
   "id": "a94b219b-eb64-4715-b983-7de3c392f088",
   "metadata": {
    "collapsed": false,
    "editable": true,
    "jupyter": {
     "outputs_hidden": false
    },
    "slideshow": {
     "slide_type": ""
    },
    "tags": []
   },
   "source": [
    "## Classification\n",
    "\n",
    "Datasets available :\n",
    "\n",
    "* FSDD\n",
    "* HAART\n",
    "* JapaneseVowels"
   ]
  },
  {
   "cell_type": "code",
   "execution_count": 3,
   "id": "95586d8c-0525-4b8c-9937-34226691ce63",
   "metadata": {
    "execution": {
     "iopub.execute_input": "2024-05-15T14:54:33.506781Z",
     "iopub.status.busy": "2024-05-15T14:54:33.506313Z",
     "iopub.status.idle": "2024-05-15T14:54:35.371530Z",
     "shell.execute_reply": "2024-05-15T14:54:35.369232Z",
     "shell.execute_reply.started": "2024-05-15T14:54:33.506760Z"
    },
    "scrolled": true
   },
   "outputs": [
    {
     "name": "stdout",
     "output_type": "stream",
     "text": [
      "Number of audio files: 3000\n"
     ]
    },
    {
     "name": "stderr",
     "output_type": "stream",
     "text": [
      "  0%|                                                                          | 0/3000 [00:00<?, ?it/s]2024-05-15 16:54:34.996150: I tensorflow/core/common_runtime/executor.cc:1197] [/device:CPU:0] (DEBUG INFO) Executor start aborting (this does not indicate an error and you can ignore this message): INVALID_ARGUMENT: You must feed a value for placeholder tensor 'Placeholder/_0' with dtype string and shape [3000]\n",
      "\t [[{{node Placeholder/_0}}]]\n",
      "2024-05-15 16:54:35.007902: W tensorflow/tsl/platform/profile_utils/cpu_utils.cc:128] Failed to get CPU frequency: 0 Hz\n",
      "100%|████████████████████████████████████████████████████████████| 3000/3000 [00:00<00:00, 11688.65it/s]"
     ]
    },
    {
     "name": "stdout",
     "output_type": "stream",
     "text": [
      "Mean sampling rate: 8000.0\n"
     ]
    },
    {
     "name": "stderr",
     "output_type": "stream",
     "text": [
      "\n"
     ]
    },
    {
     "data": {
      "image/png": "[encoded data removed]",
      "text/plain": [
       "<Figure size 640x480 with 2 Axes>"
      ]
     },
     "metadata": {},
     "output_type": "display_data"
    }
   ],
   "source": [
    "from datasets.load_datasets import load_dataset_classification\n",
    "is_instances_classification = True\n",
    "dataset_name = \"FSDD\"\n",
    "\n",
    "is_multivariate, sampling_rate, X_train_raw, X_test_raw, Y_train_raw, Y_test, groups = load_dataset_classification(dataset_name)"
   ]
  },
  {
   "cell_type": "markdown",
   "id": "86961904-ad36-4af8-ad21-6d51f491da61",
   "metadata": {},
   "source": [
    "# Activation function"
   ]
  },
  {
   "cell_type": "code",
   "execution_count": 6,
   "id": "615a38d2df41a727",
   "metadata": {
    "collapsed": false,
    "execution": {
     "iopub.execute_input": "2024-05-15T14:55:04.142236Z",
     "iopub.status.busy": "2024-05-15T14:55:04.141489Z",
     "iopub.status.idle": "2024-05-15T14:55:04.218029Z",
     "shell.execute_reply": "2024-05-15T14:55:04.217604Z",
     "shell.execute_reply.started": "2024-05-15T14:55:04.142190Z"
    },
    "jupyter": {
     "outputs_hidden": false
    }
   },
   "outputs": [
    {
     "data": {
      "image/png": "[encoded data removed]",
      "text/plain": [
       "<Figure size 640x480 with 1 Axes>"
      ]
     },
     "metadata": {},
     "output_type": "display_data"
    }
   ],
   "source": [
    "from reservoir.activation_functions import tanh, heaviside, sigmoid\n",
    "\n",
    "# the activation function choosen for the rest of the experiment\n",
    "# activation_function = lambda x : sigmoid(2*(x-0.5))tanh(x)\n",
    "activation_function = lambda x : tanh(x)\n",
    "\n",
    "plt.plot(np.linspace(0, 3, 100), activation_function(np.linspace(0, 3, 100)))\n",
    "plt.grid()"
   ]
  },
  {
   "cell_type": "markdown",
   "id": "6f892fb1cccd7511",
   "metadata": {
    "collapsed": false,
    "jupyter": {
     "outputs_hidden": false
    }
   },
   "source": [
    "# Preprocessing"
   ]
  },
  {
   "cell_type": "code",
   "execution_count": null,
   "id": "4fca76d0e06f936c",
   "metadata": {
    "collapsed": false,
    "jupyter": {
     "outputs_hidden": false
    }
   },
   "outputs": [],
   "source": [
    "import math \n",
    " \n",
    "# Cross validation\n",
    "from sklearn.model_selection import StratifiedKFold, TimeSeriesSplit, StratifiedGroupKFold\n",
    "from datasets.preprocessing import flexible_indexing\n",
    "\n",
    "#Preprocessing\n",
    "from datasets.multivariate_generation import generate_multivariate_dataset, extract_peak_frequencies\n",
    "from sklearn.preprocessing import MinMaxScaler\n",
    "from datasets.preprocessing import scale_data\n",
    "from datasets.preprocessing import add_noise, duplicate_data\n",
    "\n",
    "# Define noise parameter\n",
    "noise_std = 0.001\n",
    "\n",
    "# SEED\n",
    "SEED = 49387\n",
    "\n",
    "nb_splits=3\n",
    "if is_instances_classification:\n",
    "    if groups is None:\n",
    "        splits = StratifiedKFold(n_splits=nb_splits, shuffle=True, random_state=SEED).split(X_train_raw, np.argmax(Y_train_raw, axis=1))\n",
    "    else:\n",
    "        splits = StratifiedGroupKFold(n_splits=nb_splits, shuffle=True, random_state=SEED).split(X_train_raw, np.argmax(Y_train_raw, axis=1), groups)\n",
    "else: #prediction\n",
    "    splits = TimeSeriesSplit(n_splits=nb_splits).split(X_train_raw)\n",
    "\n",
    "X_pretrain = []\n",
    "X_pretrain_noisy  = []\n",
    "X_train = []\n",
    "X_train_noisy = []\n",
    "X_val = []\n",
    "X_val_noisy = []\n",
    "X_pretrain_band = []\n",
    "X_pretrain_band_noisy = []\n",
    "X_train_band = []\n",
    "X_train_band_noisy = []\n",
    "X_val_band = []\n",
    "X_val_band_noisy = []\n",
    "\n",
    "Y_train = []\n",
    "Y_val = []\n",
    "\n",
    "WINDOW_LENGTH = 10\n",
    "freq_train_data = X_train_raw\n",
    "flat_train_data = np.concatenate(freq_train_data, axis=0) if is_instances_classification else freq_train_data\n",
    "extract_peak_frequencies(flat_train_data, sampling_rate, smooth=True, window_length=WINDOW_LENGTH, threshold=1e-5, nperseg=1024, visualize=True)\n",
    "\n",
    "for i, (train_index, val_index) in enumerate(splits):\n",
    "    x_train = flexible_indexing(X_train_raw, train_index)\n",
    "    x_val = flexible_indexing(X_train_raw, val_index)\n",
    "    Y_train.append(flexible_indexing(Y_train_raw, train_index))\n",
    "    Y_val.append(flexible_indexing(Y_train_raw, val_index))\n",
    "    # SPLITS\n",
    "    if is_multivariate:\n",
    "        x_train_band, x_val_band = x_train, x_val\n",
    "        del x_train, x_val\n",
    "\n",
    "        \n",
    "    # PREPROCESSING        \n",
    "    freq_train_data = x_train_band if is_multivariate else x_train\n",
    "    flat_train_data = np.concatenate(freq_train_data, axis=0) if is_instances_classification else freq_train_data\n",
    "    filtered_peak_freqs = extract_peak_frequencies(flat_train_data, sampling_rate, smooth=True, window_length=WINDOW_LENGTH, threshold=1e-5, nperseg=1024, visualize=False)\n",
    "    \n",
    "    if not is_multivariate:\n",
    "        common_size = len(filtered_peak_freqs)\n",
    "        x_train_band = generate_multivariate_dataset(\n",
    "            filtered_peak_freqs, x_train, sampling_rate, is_instances_classification, nb_jobs=-1\n",
    "        )\n",
    "        x_val_band = generate_multivariate_dataset(\n",
    "            filtered_peak_freqs, x_val, sampling_rate, is_instances_classification, nb_jobs=-1\n",
    "        )\n",
    "\n",
    "    if not is_multivariate:\n",
    "        scaler_x_uni = MinMaxScaler(feature_range=(0, 1))\n",
    "        x_train, x_val, _ = scale_data(x_train, x_val, None, scaler_x_uni, is_instances_classification)       \n",
    "        X_train.append(x_train)\n",
    "        X_val.append(x_val)\n",
    "\n",
    "    scaler_multi = MinMaxScaler(feature_range=(0, 1))\n",
    "    x_train_band, x_val_band, _ = scale_data(x_train_band, x_val_band, None, scaler_multi, is_instances_classification)\n",
    "    X_train_band.append(x_train_band)\n",
    "    X_val_band.append(x_val_band)\n",
    "             \n",
    "    # PRETRAIN NOISE\n",
    "    # UNI\n",
    "    if not is_multivariate:\n",
    "        X_pretrain.append(x_train.flatten())\n",
    "        X_pretrain_noisy.append((add_noise(x_train, noise_std)).flatten())\n",
    "    \n",
    "    # MULTI\n",
    "    X_pretrain_band.append(x_train_band)\n",
    "    X_pretrain_band_noisy.append([add_noise(instance, noise_std) for instance in X_pretrain_band[i]])\n",
    "    \n",
    "    #Train/Val/Test\n",
    "    if is_instances_classification:\n",
    "        # NOISE\n",
    "        # UNI\n",
    "        if not is_multivariate:\n",
    "            X_train_noisy.append([add_noise(instance, noise_std) for instance in x_train])\n",
    "            X_val_noisy.append([add_noise(instance, noise_std) for instance in x_val])\n",
    "            \n",
    "        # MULTI\n",
    "        X_train_band_noisy.append([add_noise(instance, noise_std) for instance in x_train_band])\n",
    "        X_val_band_noisy.append([add_noise(instance, noise_std) for instance in x_val_band])\n",
    "    \n",
    "    else:  #if prediction\n",
    "        # NOISE\n",
    "        # UNI\n",
    "        if not is_multivariate:\n",
    "            X_train_noisy.append(add_noise(x_train, noise_std))\n",
    "            X_val_noisy.append(add_noise(x_val, noise_std))\n",
    "    \n",
    "        # MULTI\n",
    "        X_train_band_noisy.append(add_noise(x_train_band, noise_std))\n",
    "        X_val_band_noisy.append(add_noise(x_val_band, noise_std))\n",
    "        \n"
   ]
  },
  {
   "cell_type": "markdown",
   "id": "a69c5610-8dad-4d05-8bbb-fa34031d9c9c",
   "metadata": {},
   "source": [
    "# Hyperparameter search"
   ]
  },
  {
   "cell_type": "code",
   "execution_count": null,
   "id": "f4957e6c-e0cc-4d90-a495-348a8bbab3cd",
   "metadata": {
    "scrolled": true
   },
   "outputs": [],
   "source": [
    "from joblib import Parallel, delayed\n",
    "\n",
    "#Pretraining\n",
    "from reservoir.reservoir import init_matrices\n",
    "from connexion_generation.bounded_hadsp import run_hadsp_algorithm\n",
    "from connexion_generation.desp import run_desp_algorithm\n",
    "\n",
    "# Evaluating\n",
    "from performances.esn_model_evaluation import init_and_train_model_for_classification, predict_model_for_classification, compute_score\n",
    "from performances.esn_model_evaluation import init_and_train_model_for_prediction\n",
    "\n",
    "\n",
    "# score for prediction\n",
    "start_step = 30\n",
    "end_step = 500\n",
    "SLICE_RANGE = slice(start_step, end_step)\n",
    "RESERVOIR_SIZE = 500\n",
    "\n",
    "function_name = \"desp\" # \"desp\" ou \"hadsp\" or \"random\"\n",
    "data_type = \"normal\" # \"normal\" ou \"noisy\"\n",
    "variate_type = \"multi\" # \"multi\" ou \"uni\"\n",
    "if variate_type == \"uni\" and is_multivariate:\n",
    "    raise ValueError(f\"Invalid variable type: {variate_type}\")\n",
    "    \n",
    "\n",
    "def objective(trial):\n",
    "    # Suggest values for the parameters you want to optimize\n",
    "    # COMMON\n",
    "    input_scaling = trial.suggest_float('input_scaling', 0.01, 0.2, step=0.005)\n",
    "    bias_scaling = trial.suggest_float('bias_scaling', 0, 0.2, step=0.01)\n",
    "    leaky_rate = trial.suggest_float('leaky_rate', 1, 1)\n",
    "    input_connectivity = trial.suggest_float('input_connectivity', 1, 1)\n",
    "    network_size = trial.suggest_int('network_size', RESERVOIR_SIZE, RESERVOIR_SIZE)\n",
    "    weight_increment = trial.suggest_float('weight_increment', 0.01, 0.5, step=0.01)\n",
    "    max_partners = trial.suggest_int('network_size', 12, 20)\n",
    "\n",
    "    ridge = trial.suggest_int('ridge', -15, 1)\n",
    "    RIDGE_COEF = 10**ridge\n",
    "\n",
    "    min_window_size = sampling_rate/np.max(np.hstack(filtered_peak_freqs))\n",
    "    max_window_size = sampling_rate/np.min(np.hstack(filtered_peak_freqs))\n",
    "\n",
    "    # HADSP\n",
    "    if function_name == \"hadsp\":\n",
    "        connectivity = trial.suggest_float('connectivity', 0, 0)\n",
    "        target_rate = trial.suggest_float('target_rate', 0.5, 1, step=0.01)\n",
    "        rate_spread = trial.suggest_float('rate_spread', 0.01, 0.4, step=0.005)\n",
    "        TIME_INCREMENT = int(min_window_size+1) # int(min_window_size+1) or int(max_window_size)\n",
    "        MAX_TIME_INCREMENT = int(max_window_size) #int(max_window_size) or None or TIME_INCREMENT\n",
    "    # DESP\n",
    "    elif function_name == \"desp\":\n",
    "        connectivity = trial.suggest_float('connectivity', 0, 0)\n",
    "        variance_target = trial.suggest_float('min_variance', 0.001, 0.02, step=0.001)\n",
    "        variance_spread = trial.suggest_float('variance_window', 0.01, 0.05, step=0.002)\n",
    "        TIME_INCREMENT = 50 # int(min_window_size+1) or int(max_window_size)\n",
    "        MAX_TIME_INCREMENT = TIME_INCREMENT #int(max_window_size) or None or TIME_INCREMENT\n",
    "    elif function_name == \"random\":\n",
    "        connectivity = trial.suggest_float('connectivity', 0, 1)\n",
    "        sr = trial.suggest_float('spectral_radius', 0.4, 1.6, step=0.01)\n",
    "    else:\n",
    "        raise ValueError(f\"Invalid function name: {function_name}\")\n",
    "        \n",
    "    if int(max_window_size) < TIME_INCREMENT or TIME_INCREMENT < min_window_size:\n",
    "        raise ValueError(f\"INCREMENT must be greater than {min_window_size} and smaller than {max_window_size}. Current INCREMENT is {TIME_INCREMENT}.\")\n",
    "\n",
    "\n",
    "    # CROSS-VALIDATION METHODS\n",
    "    total_score = 0\n",
    "    for i in range(nb_splits):\n",
    "        if variate_type == \"multi\":\n",
    "            if is_instances_classification:\n",
    "                common_index = 1\n",
    "                common_size = X_train_band[i][0].shape[common_index]\n",
    "            else:\n",
    "                common_index = 1\n",
    "                common_size = X_train_band[i].shape[common_index]\n",
    "        else:\n",
    "            common_size = len(filtered_peak_freqs)\n",
    "            \n",
    "        # We want the size of the reservoir to be at least network_size\n",
    "        K = math.ceil(network_size / common_size)\n",
    "        n = common_size * K\n",
    "\n",
    "\n",
    "        pretrain_data = X_pretrain_band[i]\n",
    "        train_data = X_train_band[i]  # X_train_band_noisy_duplicated or X_train_band_duplicated\n",
    "        val_data = X_val_band_noisy[i] if data_type == \"noisy\" else X_val_band[i]\n",
    "\n",
    "        # UNSUPERVISED PRETRAINING \n",
    "        Win, W, bias = init_matrices(n, input_connectivity, connectivity,  K)\n",
    "        bias *= bias_scaling\n",
    "        Win *= input_scaling\n",
    "\n",
    "        if function_name == \"hadsp\":\n",
    "            W, _ = run_hadsp_algorithm(W, Win, bias, leaky_rate, activation_function, training_set, TIME_INCREMENT, WEIGHT_INCREMENT,\n",
    "                            target_rate, rate_spread, instances=is_instances_classification, max_increment=MAX_TIME_INCREMENT, max_partners=max_partners, method = \"random\", n_jobs = 1)\n",
    "        elif function_name == \"desp\":\n",
    "            W, _, _ = run_desp_algorithm(W, Win, bias, leaky_rate, activation_function, training_set, TIME_INCREMENT, WEIGHT_INCREMENT,\n",
    "                            variance_target, variance_spread, instances=is_instances_classification, max_increment=MAX_TIME_INCREMENT, max_partners=12, method = \"mi\", n_jobs = 4)\n",
    "        elif function_name == \"random\":\n",
    "            eigen = sparse.linalg.eigs(W, k=1, which=\"LM\", maxiter=W.shape[0] * 20, tol=0.1, return_eigenvectors=False)\n",
    "            W *= spectral_radius / max(abs(eigen))\n",
    "        else:\n",
    "            raise ValueError(f\"Invalid function: {function_name}\")\n",
    "        \n",
    "\n",
    "        # TRAINING and EVALUATION\n",
    "        if is_instances_classification:\n",
    "            reservoir, readout = init_and_train_model_for_classification(W, Win, bias, leaky_rate, activation_function, train_data, Y_train[i], n_jobs = 4, ridge_coef=RIDGE_COEF, mode=\"sequence-to-vector\")\n",
    "            \n",
    "            Y_pred = predict_model_for_classification(reservoir, readout, val_data, n_jobs = 4)\n",
    "            score = compute_score(Y_pred, Y_val[i], is_instances_classification)\n",
    "        else:\n",
    "            esn = init_and_train_model_for_prediction(W, Win, bias, leaky_rate, activation_function, train_data, Y_train[i], RIDGE_COEF)\n",
    "            \n",
    "            Y_pred =  esn.run(val_data, reset=False)\n",
    "            score = compute_score(Y_pred, Y_val[i], is_instances_classification)\n",
    "\n",
    "        total_score += score\n",
    "\n",
    "    average_score = total_score / nb_splits  # Average the score\n",
    "\n",
    "    return average_score\n"
   ]
  },
  {
   "cell_type": "code",
   "execution_count": null,
   "id": "94a7cbad-31bd-49d2-a3c1-00d9ccb6aaab",
   "metadata": {},
   "outputs": [],
   "source": [
    "import optuna\n",
    "from optuna.samplers import TPESampler\n",
    "import re\n",
    "\n",
    "def camel_to_snake(name):\n",
    "    str1 = re.sub('(.)([A-Z][a-z]+)', r'\\1_\\2', name)\n",
    "    return re.sub('([a-z0-9])([A-Z])', r'\\1_\\2', str1).lower()\n",
    "\n",
    "url= \"sqlite:///optuna_\" + camel_to_snake(dataset_name) + \"_db.sqlite3\"\n",
    "print(url)\n",
    "storage = optuna.storages.RDBStorage(\n",
    "    url=url,\n",
    "    engine_kwargs={\"pool_size\": 20, \"connect_args\": {\"timeout\": 10}},\n",
    ")\n",
    "study_name = function_name + \"_\" + dataset_name + \"_\" + data_type + \"_\" + variate_type\n",
    "print(study_name)\n",
    "direction = \"maximize\" if is_instances_classification else \"minimize\"\n",
    "sampler = TPESampler()\n",
    "\n",
    "def optimize_study(n_trials):\n",
    "    study = optuna.create_study(storage=storage, sampler=sampler, study_name=study_name, direction=direction, load_if_exists=True)\n",
    "    study.optimize(objective, n_trials=n_trials)\n",
    "\n",
    "N_TRIALS = 400\n",
    "n_parallel_studies = 2\n",
    "trials_per_process = N_TRIALS // n_parallel_studies\n",
    "\n",
    "# Use joblib to parallelize the optimization\n",
    "Parallel(n_jobs=n_parallel_studies)(\n",
    "    delayed(optimize_study)(trials_per_process) for _ in range(n_parallel_studies)\n",
    ")\n"
   ]
  },
  {
   "cell_type": "markdown",
   "id": "afea5f7c-4fda-4977-b27a-be04731e9677",
   "metadata": {},
   "source": [
    "# Results"
   ]
  },
  {
   "cell_type": "markdown",
   "id": "e355b9b7-6625-47be-8a7e-8d388448e85b",
   "metadata": {},
   "source": [
    "\n",
    "\n",
    "## Mackey Glass\n",
    "### Ridge parameter\n",
    "| Dataset     | Algorithm | test   | Curve shape | Best value |\n",
    "|-------------|-----------|--------|-------------|------------|\n",
    "| MackeyGlass | DESP      | normal | no extremum | 10         |\n",
    "| MackeyGlass | HADSP     | normal | no extremum | 9,10       |\n",
    "| MackeyGlass | random    | normal | no extremum | 9,10       |\n",
    "| MackeyGlass | DESP      | noisy  | bell        | 7          |\n",
    "| MackeyGlass | HADSP     | noisy  | bell        | 6          |\n",
    "| MackeyGlass | random    | noisy  | no extremum | 10         |\n",
    "\n",
    "### Results, no validation/test\n",
    "\n",
    "|           |  HADSP |  DESP  | random |\n",
    "|-----------|--------|--------|--------|\n",
    "|  normal   | 0.0399 | 0.0379 | 0.0446 |\n",
    "|  noisy    | 0.119  | 0.109  | 0.104  | \n"
   ]
  },
  {
   "cell_type": "markdown",
   "id": "b9cf04a0-7ee8-44fd-a8e0-cbf632a9a2c9",
   "metadata": {},
   "source": [
    "## Japanese vowels\n",
    "\n",
    "### Ridge parameter\n",
    "\n",
    "| Dataset        | Algorithm | test   | Curve shape | Best value |\n",
    "|----------------|-----------|--------|-------------|------------|\n",
    "| JapaneseVowels | DESP      | normal | bell        | 2          |\n",
    "| JapaneseVowels | HADSP     | normal | bell        | 4          |\n",
    "| JapaneseVowels | random    | normal | bell        | 4          |\n",
    "| JapaneseVowels | DESP      | noisy  | bell        | 2          |\n",
    "| JapaneseVowels | HADSP     | noisy  | bell        | 5          |\n",
    "| JapaneseVowels | random    | noisy  | bell        | 5          |\n",
    "\n",
    "### Results, no validation/test\n",
    "\n",
    "|           |  HADSP |  DESP  | random |\n",
    "|-----------|--------|--------|--------|\n",
    "|  normal   | 0.641  | 0.649  | 0.612  |\n",
    "|  noisy    | 0.621  | 0.623  | 0.610  | "
   ]
  },
  {
   "cell_type": "code",
   "execution_count": null,
   "id": "49ee3d4e-e3c6-43fd-9ef8-cf41c858ebac",
   "metadata": {},
   "outputs": [],
   "source": []
  }
 ],
 "metadata": {
  "kernelspec": {
   "display_name": "hadsp_env",
   "language": "python",
   "name": "hadsp_env"
  },
  "language_info": {
   "codemirror_mode": {
    "name": "ipython",
    "version": 3
   },
   "file_extension": ".py",
   "mimetype": "text/x-python",
   "name": "python",
   "nbconvert_exporter": "python",
   "pygments_lexer": "ipython3",
   "version": "3.11.5"
  }
 },
 "nbformat": 4,
 "nbformat_minor": 5
}
