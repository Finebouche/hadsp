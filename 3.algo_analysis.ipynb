{
 "cells": [
  {
   "cell_type": "code",
   "execution_count": null,
   "id": "c464b219",
   "metadata": {
    "editable": true,
    "slideshow": {
     "slide_type": ""
    },
    "tags": []
   },
   "outputs": [],
   "source": [
    "import sys\n",
    "from pathlib import Path\n",
    "\n",
    "#path_root = Path( '/project_ghent/HADSP/reservoirpy/')\n",
    "#sys.path.append(str(path_root))\n",
    "#path_root = Path( '/project_ghent/HADSP/hadsp/')\n",
    "#sys.path.append(str(path_root))"
   ]
  },
  {
   "cell_type": "code",
   "execution_count": null,
   "id": "ce6cd6b9",
   "metadata": {
    "editable": true,
    "slideshow": {
     "slide_type": ""
    },
    "tags": []
   },
   "outputs": [],
   "source": [
    "import numpy as np\n",
    "from scipy import sparse\n",
    "\n",
    "from matplotlib import pyplot as plt\n",
    "from seaborn import heatmap, color_palette\n",
    "\n",
    "# Utility functions\n",
    "from plots.connectivity import show_matrice, show_ei_matrix"
   ]
  },
  {
   "cell_type": "markdown",
   "id": "47901348",
   "metadata": {
    "tags": []
   },
   "source": [
    "# Reservoir functions"
   ]
  },
  {
   "cell_type": "code",
   "execution_count": null,
   "id": "61ad3526",
   "metadata": {
    "ExecuteTime": {
     "end_time": "2022-06-10T09:31:36.544255Z",
     "start_time": "2022-06-10T09:31:36.544249Z"
    },
    "init_cell": true,
    "tags": []
   },
   "outputs": [],
   "source": [
    "from importlib import reload\n",
    "import reservoir.reservoir\n",
    "\n",
    "from reservoir.reservoir import update_reservoir, ridge_regression, train, run\n",
    "from reservoir.activation_functions import tanh, heaviside, sigmoid\n",
    "\n",
    "reload(reservoir.reservoir)\n",
    "\n",
    "# SEED\n",
    "SEED = 3789\n",
    "\n",
    "# the activation function choosen for the rest of the experiment\n",
    "# activation_function = lambda x : sigmoid(2*(x-0.5))\n",
    "activation_function = lambda x : tanh(x)\n",
    "\n",
    "plt.plot(np.linspace(0, 2, 100), activation_function(np.linspace(0, 2, 100)))\n",
    "plt.grid()"
   ]
  },
  {
   "cell_type": "code",
   "execution_count": null,
   "id": "f9c538a0",
   "metadata": {
    "ExecuteTime": {
     "end_time": "2022-06-01T09:14:38.151636Z",
     "start_time": "2022-06-01T09:14:38.026170Z"
    },
    "tags": []
   },
   "outputs": [],
   "source": [
    "from scipy.stats import poisson\n",
    "\n",
    "mu = 100\n",
    "timesteps = 20000\n",
    "n_e=100\n",
    "\n",
    "U = poisson.rvs(mu, size=[timesteps, n_e], random_state = SEED)[np.newaxis].T\n",
    "\n",
    "# rescale between 0 and 1\n",
    "inputs1 = (U - U.min()) / (U.max() - U.min())"
   ]
  },
  {
   "cell_type": "code",
   "execution_count": null,
   "id": "64c1f35e",
   "metadata": {
    "tags": []
   },
   "outputs": [],
   "source": [
    "plt.figure(figsize=(24,5))\n",
    "plt.plot(range(1000), inputs1[4,16000:17000])\n",
    "plt.show()"
   ]
  },
  {
   "cell_type": "code",
   "execution_count": null,
   "id": "0d261a23",
   "metadata": {
    "tags": []
   },
   "outputs": [],
   "source": [
    "from scipy import signal\n",
    "\n",
    "# Apply a low-pass filter on with scipy.signal.filtfilt\n",
    "def band_pass_filter(data, lowcut, highcut, fs, order=5):\n",
    "    b, a = signal.butter(3, [lowcut, highcut], btype='band', fs=fs)\n",
    "    return signal.filtfilt(b, a, data)\n"
   ]
  },
  {
   "cell_type": "markdown",
   "id": "9727daa3",
   "metadata": {
    "tags": []
   },
   "source": [
    "# Algorithm\n",
    "https://www.nature.com/articles/s41598-018-22077-3#Fig1\n",
    "\n",
    "$ \\Delta z_i =  \\frac {1}{\\beta}(target\\_r - r_i) $"
   ]
  },
  {
   "cell_type": "code",
   "execution_count": null,
   "id": "b9ddd5e3",
   "metadata": {
    "tags": []
   },
   "outputs": [],
   "source": [
    "# helper function\n",
    "def count_incoming_connexions(W):\n",
    "    incoming_connexion = W.nonzero()[0]\n",
    "    incoming_connexion_count = np.zeros(W.shape[0])\n",
    "    for i in incoming_connexion:\n",
    "        incoming_connexion_count[i] +=1\n",
    "    return incoming_connexion_count"
   ]
  },
  {
   "cell_type": "markdown",
   "id": "8714539d",
   "metadata": {
    "tags": []
   },
   "source": [
    "## Matrice initialization\n",
    "\n",
    "https://www.nature.com/articles/s41598-018-22077-3\n",
    "Based initialy on : \n",
    "\n",
    "    https://www.nature.com/articles/s41598-018-22077-3/tables/1\n",
    "    N = 125 (12500 in the paper)\n",
    "    Ratio of ne% = 0.8 -> ne = 100; ni% = 0.2  -> ni=25\n",
    "    \n",
    "    W_ei : Incoming excitatory connections per inhibitory neuron :10, with synaptic weight = 0.1mV\n",
    "    W_ie : Incoming inhibitory connections per neuron :2,5, with synamtic weight : -0.8mV"
   ]
  },
  {
   "cell_type": "code",
   "execution_count": null,
   "id": "0bb72238",
   "metadata": {
    "ExecuteTime": {
     "end_time": "2022-06-01T09:14:31.126035Z",
     "start_time": "2022-06-01T09:14:31.119784Z"
    },
    "tags": []
   },
   "outputs": [],
   "source": [
    "from reservoir.reservoir import init_matrices\n",
    "\n",
    "# Parameters\n",
    "n_e = 100 # number of neurons for excitatory pool\n",
    "n_i = 0 # number of neurons for inhibitory pool\n",
    "SEED = 65718 # previous 3789\n",
    "leaky_rate = 1\n",
    "\n",
    "spectral_radius = 1\n",
    "input_connectivity = 1\n",
    "connectivity = 0.1 # from the article\n",
    "\n",
    "# HYPERPARAMETERS\n",
    "INTERVAL_CONSTANT = 100\n",
    "VALUE = 0.1\n",
    "bias_scaling = 1\n",
    "input_scaling = 0.1\n",
    "\n",
    "\n",
    "# Initialisation EE\n",
    "Win_e, W_ee, bias_e =  init_matrices(n_e, input_connectivity, connectivity, spectral_radius, seed=SEED)\n",
    "bias_e = bias_e*bias_scaling\n",
    "Win_e = Win_e*input_scaling\n",
    "\n",
    "# last_state\n",
    "last_state_e = np.random.uniform(0, 1, n_e)\n"
   ]
  },
  {
   "cell_type": "code",
   "execution_count": null,
   "id": "d082c95a",
   "metadata": {
    "tags": []
   },
   "outputs": [],
   "source": [
    "heatmap(W_ee.todense(), cmap=color_palette(\"Greys\", as_cmap=True))"
   ]
  },
  {
   "cell_type": "markdown",
   "id": "3efcbda0",
   "metadata": {},
   "source": [
    "## Parameters grid exploration\n",
    "From an existing matrice"
   ]
  },
  {
   "cell_type": "code",
   "execution_count": null,
   "id": "28e17638-4645-44aa-90d8-4faa68850aeb",
   "metadata": {},
   "outputs": [],
   "source": [
    "%matplotlib inline\n",
    "import matplotlib.pyplot as plt\n",
    "from connexion_generation.bounded_hadsp import bounded_hadsp, compute_synaptic_change\n",
    "from joblib import Parallel, delayed\n",
    "import numpy as np\n",
    "\n",
    "# These seem like module reloads in IPython\n",
    "# reload(connexion_generation.bounded_adsp)\n",
    "# reload(connexion_generation.utility)\n",
    "\n",
    "GROWTH_PARAMETER_ARRAY = [0.001, 0.01, 0.1, 0.3, 0.5]\n",
    "TARGET_RATE_ARRAY = [0.1, 0.5, 0.7, 0.8, 0.95]\n",
    "\n",
    "# Function to run the simulation for a given set of parameters\n",
    "def run_simulation(growth_parameter, target_rate):\n",
    "    # (Place here all the required initializations and constant definitions)\n",
    "    \n",
    "    # For instance:\n",
    "    W_ee_adsp = W_ee.copy()\n",
    "    u_train_adsp1 = inputs1.copy()\n",
    "    state_e = last_state_e\n",
    "    Win_adsp = Win_e\n",
    "    step = 0\n",
    "    total_add = 0\n",
    "    total_prun = 0\n",
    "    add = []\n",
    "    prun = []\n",
    "    state_history_e = []\n",
    "\n",
    "    for i in range(INTERVAL_CONSTANT * 5):\n",
    "        state_e = update_reservoir(W_ee_adsp, Win_adsp, u_train_adsp1[:,i], state_e, leaky_rate, bias_e, activation_function)\n",
    "        state_history_e.append(state_e)\n",
    "    u_train_adsp1 = u_train_adsp1[:, INTERVAL_CONSTANT * 5:]\n",
    "    train_length = len(u_train_adsp1[1, :])\n",
    "\n",
    "    while train_length > 5000:\n",
    "        # For excitatory neurons (We and Wie)\n",
    "        delta_z = compute_synaptic_change(state_history_e[-INTERVAL_CONSTANT:], target_rate, growth_parameter, average=\"QUEUE\")\n",
    "        W_ee_adsp, _, nb_new_add_e, nb_new_prun_e = bounded_hadsp(W_ee_adsp, state_e, delta_z, VALUE)\n",
    "\n",
    "        # For inhibitory neurons (Wi)\n",
    "        # delta_z_i = compute_synaptic_change(state_history_i[-INTERVAL_CONSTANT:], target_rate, growth_parameter, average=\"QUEUE\")\n",
    "        # W_ei_adsp, _, nb_new_add_i, nb_new_prun_i = bounded_adsp(W_ei_adsp, state_i, delta_z_i, VALUE)\n",
    "\n",
    "        for i in range(INTERVAL_CONSTANT):\n",
    "            state_e = update_reservoir(W_ee_adsp, Win_adsp, u_train_adsp1[:,i], state_e, leaky_rate, bias_e, activation_function)\n",
    "            state_history_e.append(state_e)\n",
    "        u_train_adsp1 = u_train_adsp1[:, INTERVAL_CONSTANT:]\n",
    "        train_length = len(u_train_adsp1[1, :])\n",
    "\n",
    "        total_add += nb_new_add_e  # + nb_new_add_i\n",
    "        total_prun += nb_new_prun_e # + nb_new_prun_i\n",
    "        add.append(total_add)\n",
    "        prun.append(total_prun)\n",
    "\n",
    "        step += 1\n",
    "    add = np.array(add)\n",
    "    prun = np.array(prun)    \n",
    "    # At the end, return the results you're interested in\n",
    "    return add, prun\n",
    "\n",
    "# Parallel computation of the results\n",
    "results = Parallel(n_jobs=-1, verbose=True)(delayed(run_simulation)(growth_parameter, target_rate) for growth_parameter in GROWTH_PARAMETER_ARRAY for target_rate in TARGET_RATE_ARRAY)\n",
    "\n",
    "# Reshape results into a matrix\n",
    "results = np.array(results).reshape(len(GROWTH_PARAMETER_ARRAY), len(TARGET_RATE_ARRAY), 2, 145)\n",
    "\n",
    "# Create the plot\n",
    "fig, ax = plt.subplots(len(GROWTH_PARAMETER_ARRAY), len(TARGET_RATE_ARRAY), figsize=(30, 25))\n",
    "\n",
    "# Iterate over the results\n",
    "for k in range(len(GROWTH_PARAMETER_ARRAY)):\n",
    "    for j in range(len(TARGET_RATE_ARRAY)):\n",
    "        add, prun = results[k, j]\n",
    "        ax[k][j].plot(np.arange(len(add)), add, linewidth=4, label=\"total number of added connexion\")\n",
    "        ax[k][j].plot(np.arange(len(prun)), prun, linewidth=4, label=\"total number of prunned connexion\")\n",
    "        ax[k][j].plot(np.arange(len(add)), np.array(add) - np.array(prun), linewidth=4, label=\"difference\")\n",
    "        ax[k][j].plot(np.arange(len(add)), [0] * len(add), linestyle=(0, (1, 10)))\n",
    "        ax[k][j].tick_params(axis='both', labelsize=20)\n",
    "        ax[k][j].spines['top'].set_visible(False)\n",
    "        ax[k][j].spines['right'].set_visible(False)\n",
    "\n",
    "plt.show()"
   ]
  },
  {
   "cell_type": "markdown",
   "id": "8d37480a-6c59-4f7d-a789-0dfb0ab03df9",
   "metadata": {},
   "source": [
    "From an empty matrice"
   ]
  },
  {
   "cell_type": "code",
   "execution_count": null,
   "id": "2212fac9",
   "metadata": {},
   "outputs": [],
   "source": [
    "%matplotlib inline\n",
    "from connexion_generation.bounded_adsp import bounded_adsp, compute_synaptic_change\n",
    "import tqdm\n",
    "\n",
    "GROWTH_PARAMETER_ARRAY = [0.001, 0.01, 0.1, 0.3, 0.5]\n",
    "TARGET_RATE_ARRAY = [0.1, 0.5, 0.7, 0.8, 0.95]\n",
    "\n",
    "\n",
    "# Initialisation EE\n",
    "Win_e, W_ee, bias_e =  init_matrices(n_e, input_connectivity, 0, spectral_radius, seed=SEED)\n",
    "bias_e = bias_e*bias_scaling\n",
    "Win_e = Win_e*input_scaling\n",
    "\n",
    "# last_state\n",
    "last_state_e = np.random.uniform(0, 1, n_e)\n",
    "\n",
    "# The parameters you want to see the influence\n",
    "fig, ax = plt.subplots(len(GROWTH_PARAMETER_ARRAY), len(TARGET_RATE_ARRAY), figsize=(30, 25))\n",
    "\n",
    "\n",
    "k = 0\n",
    "for growth_parameter in tqdm(GROWTH_PARAMETER_ARRAY):\n",
    "    j = 0\n",
    "    for target_rate in tqdm(TARGET_RATE_ARRAY):\n",
    "        # Initialisation\n",
    "        W_ee_adsp = W_ee.copy()\n",
    "        u_train_adsp1 = inputs1.copy()\n",
    "        state_e = last_state_e\n",
    "        Win_adsp = Win_e\n",
    "\n",
    "        step = 0\n",
    "\n",
    "        total_add = 0\n",
    "        total_prun = 0\n",
    "        add = []\n",
    "        prun = []\n",
    "\n",
    "        state_history_e = []\n",
    "        \n",
    "        for i in range(INTERVAL_CONSTANT * 5):\n",
    "            state_e = update_reservoir(W_ee_adsp, Win_adsp, u_train_adsp1[:,i], state_e, leaky_rate, bias_e, activation_function)\n",
    "            state_history_e.append(state_e)\n",
    "        u_train_adsp1 = u_train_adsp1[:, INTERVAL_CONSTANT * 5:]\n",
    "        train_length = len(u_train_adsp1[1, :])\n",
    "\n",
    "        while train_length > 5000:\n",
    "            # For excitatory neurons (We and Wie)\n",
    "            delta_z = compute_synaptic_change(state_history_e[-INTERVAL_CONSTANT:], target_rate, growth_parameter, average=\"QUEUE\")\n",
    "            W_ee_adsp, _, nb_new_add_e, nb_new_prun_e = bounded_adsp(W_ee_adsp, state_e, delta_z, VALUE)\n",
    "\n",
    "            # For inhibitory neurons (Wi)\n",
    "            # delta_z_i = compute_synaptic_change(state_history_i[-INTERVAL_CONSTANT:], target_rate, growth_parameter, average=\"QUEUE\")\n",
    "            # W_ei_adsp, _, nb_new_add_i, nb_new_prun_i = bounded_adsp(W_ei_adsp, state_i, delta_z_i, VALUE)\n",
    "\n",
    "            for i in range(INTERVAL_CONSTANT):\n",
    "                state_e = update_reservoir(W_ee_adsp, Win_adsp, u_train_adsp1[:,i], state_e, leaky_rate, bias_e, activation_function)\n",
    "                state_history_e.append(state_e)\n",
    "            u_train_adsp1 = u_train_adsp1[:, INTERVAL_CONSTANT:]\n",
    "            train_length = len(u_train_adsp1[1, :])\n",
    "\n",
    "            total_add += nb_new_add_e  # + nb_new_add_i\n",
    "            total_prun += nb_new_prun_e # + nb_new_prun_i\n",
    "            add.append(total_add)\n",
    "            prun.append(total_prun)\n",
    "\n",
    "            step += 1\n",
    "            \n",
    "\n",
    "        add = np.array(add)\n",
    "        prun = np.array(prun)\n",
    "        ax[k][j].plot(np.arange(step) * INTERVAL_CONSTANT, add, linewidth=4, label=\"total number of added connexion\")\n",
    "        ax[k][j].plot(np.arange(step) * INTERVAL_CONSTANT, prun, linewidth=4, label=\"total number of prunned connexion\")\n",
    "        ax[k][j].plot(np.arange(step) * INTERVAL_CONSTANT, add - prun, linewidth=4, label=\"difference\")\n",
    "        ax[k][j].plot(np.arange(step) * INTERVAL_CONSTANT, [0] * step, linestyle=(0, (1, 10)))\n",
    "        # ax[k][j].set_title(f'\\u03B2 :{growth_parameter}     \\u03C1 :{target_rate}', fontsize= 20, fontweight= 'bold')\n",
    "        ax[k][j].tick_params(axis='both', labelsize=20)\n",
    "        ax[k][j].spines['top'].set_visible(False)\n",
    "        ax[k][j].spines['right'].set_visible(False)\n",
    "        j += 1\n",
    "    k += 1\n"
   ]
  },
  {
   "cell_type": "markdown",
   "id": "90084fc2",
   "metadata": {},
   "source": [
    "### for spectral radius"
   ]
  },
  {
   "cell_type": "code",
   "execution_count": null,
   "id": "cf3e93ac-bc19-4fb9-a93e-90ba33e44527",
   "metadata": {},
   "outputs": [],
   "source": [
    "import numpy as np\n",
    "from joblib import Parallel, delayed\n",
    "import scipy.sparse as sparse\n",
    "\n",
    "GROWTH_PARAMETER_ARRAY = [0.001, 0.01, 0.1, 0.3, 0.5]\n",
    "TARGET_RATE_ARRAY = [0.1, 0.5, 0.7, 0.8, 0.95]\n",
    "spr = np.zeros((len(GROWTH_PARAMETER_ARRAY), len(TARGET_RATE_ARRAY), 10))\n",
    "\n",
    "def run_simulation(growth_parameter, target_rate, l):\n",
    "    # Initialisation EE\n",
    "    Win_e, W_ee, bias_e =  init_matrices(n_e, input_connectivity, connectivity, spectral_radius)\n",
    "    bias_e = bias_e*bias_scaling\n",
    "    Win_e = Win_e*input_scaling\n",
    "\n",
    "    # last_state\n",
    "    last_state_e = np.random.uniform(0, 1, n_e)\n",
    "    last_state_i = np.random.uniform(0, 1, n_i)\n",
    "    \n",
    "    # Initialisation\n",
    "    W_ee_adsp = W_ee.copy()\n",
    "    u_train_adsp1 = inputs1.copy()\n",
    "    state_e = last_state_e\n",
    "    Win_adsp = Win_e\n",
    "\n",
    "    step = 0\n",
    "\n",
    "    state_history_e = []\n",
    "\n",
    "    for i in range(INTERVAL_CONSTANT * 5):\n",
    "        state_e = update_reservoir(W_ee_adsp, Win_adsp, u_train_adsp1[:,i], state_e, leaky_rate, bias_e, activation_function)\n",
    "        state_history_e.append(state_e)\n",
    "    u_train_adsp1 = u_train_adsp1[:, INTERVAL_CONSTANT * 5:]\n",
    "    train_length = len(u_train_adsp1[1, :])\n",
    "\n",
    "    while train_length > 5000:\n",
    "        # For excitatory neurons (We and Wie)\n",
    "        delta_z = compute_synaptic_change(state_history_e[-INTERVAL_CONSTANT:], target_rate, growth_parameter, average=\"QUEUE\")\n",
    "        W_ee_adsp, _, nb_new_add_e, nb_new_prun_e = bounded_adsp(W_ee_adsp, state_e, delta_z, VALUE)\n",
    "\n",
    "        for i in range(INTERVAL_CONSTANT):\n",
    "            state_e = update_reservoir(W_ee_adsp, Win_adsp, u_train_adsp1[:,i], state_e, leaky_rate, bias_e, activation_function)\n",
    "            state_history_e.append(state_e)\n",
    "        u_train_adsp1 = u_train_adsp1[:, INTERVAL_CONSTANT:]\n",
    "        train_length = len(u_train_adsp1[1, :])\n",
    "\n",
    "        step += 1\n",
    "\n",
    "    eigen = sparse.linalg.eigs(W_ee_adsp, k=1, which=\"LM\", maxiter=W_ee_adsp.shape[0] * 20, tol=0.1, return_eigenvectors=False)\n",
    "    sr  = max(abs(eigen))\n",
    "\n",
    "    return sr\n",
    "\n",
    "results = Parallel(n_jobs=-1, verbose=True)(delayed(run_simulation)(growth_parameter, target_rate, l) \n",
    "                              for growth_parameter in GROWTH_PARAMETER_ARRAY \n",
    "                              for target_rate in TARGET_RATE_ARRAY \n",
    "                              for l in range(10))\n",
    "\n",
    "# Reshape the results\n",
    "spr1 = np.array(results).reshape(len(GROWTH_PARAMETER_ARRAY), len(TARGET_RATE_ARRAY), 10)"
   ]
  },
  {
   "cell_type": "markdown",
   "id": "ade05cd8",
   "metadata": {},
   "source": [
    "## Simulation from blank matrice"
   ]
  },
  {
   "cell_type": "markdown",
   "id": "620cf483",
   "metadata": {},
   "source": [
    "Excitatory neuron evolution is given by : \n",
    "\n",
    "$ r_E^{t+1} = W_{EE}r_E^{t} - W_{IE}r_I^{t} + W_{in}u^{t} + bias_E $\n",
    "\n",
    "Inhibitory neurons evolution is given by : \n",
    "\n",
    "$ r_I^{t+1} = W_{EI}r_E^{t} + bias_I $\n"
   ]
  },
  {
   "cell_type": "code",
   "execution_count": null,
   "id": "945d462d",
   "metadata": {
    "tags": []
   },
   "outputs": [],
   "source": [
    "from reservoir.reservoir import init_matrices\n",
    "\n",
    "# Parameters\n",
    "n_e = 100 # number of neurons for excitatory pool\n",
    "n_i = 0 # number of neurons for inhibitory pool\n",
    "SEED = 65718 # previous 3789\n",
    "leaky_rate = 1\n",
    "\n",
    "spectral_radius = 1\n",
    "input_connectivity =  1\n",
    "connectivity_e = 0 # from the article\n",
    "connectivity = 0 # from the article\n",
    "\n",
    "# HYPERPARAMETERS\n",
    "bias_scaling = 1\n",
    "input_scaling = 0.1\n",
    "\n",
    "\n",
    "# Initialisation EE\n",
    "Win_e, W_ee, bias_e =  init_matrices(n_e, input_connectivity, connectivity_e, spectral_radius, seed=SEED)\n",
    "bias_e = bias_e*bias_scaling\n",
    "Win_e = Win_e*input_scaling\n",
    "\n",
    "# Initialisation EI\n",
    "_, W_ei, _ =  init_matrices((n_i, n_e), 0, connectivity, 1, seed=SEED)\n",
    "\n",
    "# Initialisation IE\n",
    "_, W_ie, _ =  init_matrices((n_e, n_i), 0, connectivity, 1, seed=SEED)\n",
    "\n",
    "# Initialisation II\n",
    "_, _, bias_i =  init_matrices(n_i, 0, connectivity, 1, seed=SEED)\n",
    "bias_i = bias_i*bias_scaling\n",
    "\n",
    "# last_state\n",
    "last_state_e = np.random.uniform(0, 1, n_e)\n",
    "last_state_i = np.random.uniform(0, 1, n_i)"
   ]
  },
  {
   "cell_type": "code",
   "execution_count": null,
   "id": "2a4e9820",
   "metadata": {
    "tags": []
   },
   "outputs": [],
   "source": [
    "show_ei_matrix(W_ee, W_ei, W_ie, palette=\"cividis\")"
   ]
  },
  {
   "cell_type": "code",
   "execution_count": null,
   "id": "c8eef0c6",
   "metadata": {
    "tags": []
   },
   "outputs": [],
   "source": [
    "import connexion_generation.bounded_adsp\n",
    "from connexion_generation.bounded_adsp import bounded_adsp, compute_synaptic_change\n",
    "\n",
    "\n",
    "# Parameters\n",
    "# The parameters you want to see the influence\n",
    "growth_parameter = 0.1\n",
    "target_rate=0.8\n",
    "\n",
    "INTERVAL_CONSTANT = 50\n",
    "VALUE = 0.05\n",
    "\n",
    "# Initialisation\n",
    "W_ee_adsp = W_ee.copy()\n",
    "u_train1 = inputs1[:n_e].copy()\n",
    "state_e = last_state_e\n",
    "Win_e_adsp = Win_e\n",
    "\n",
    "step=0\n",
    "\n",
    "total_add = 0\n",
    "total_prun = 0\n",
    "add = []\n",
    "prun = []\n",
    "mean_prun = []\n",
    "\n",
    "incoming_connexion_count_history = []\n",
    "state_history_e = []\n",
    "delta_z_e_history = []\n",
    "\n",
    "for i in range(INTERVAL_CONSTANT*5):\n",
    "    state_e = update_reservoir(W_ee_adsp, Win_e_adsp, u_train1[:, i], state_e, leaky_rate, bias_e, activation_function)\n",
    "    state_history_e.append(state_e)\n",
    "u_train1 = u_train1[:, INTERVAL_CONSTANT * 5:]"
   ]
  },
  {
   "cell_type": "code",
   "execution_count": null,
   "id": "2cc3b2dc",
   "metadata": {
    "tags": []
   },
   "outputs": [],
   "source": [
    "train_length = len(u_train1[1, :])\n",
    "\n",
    "while train_length > 10000:\n",
    "\n",
    "    incoming_connexion_count_history.append(count_incoming_connexions(W_ee_adsp))\n",
    "\n",
    "     # For excitatory neurons (We and Wie)\n",
    "    delta_z_e = compute_synaptic_change(state_history_e[-INTERVAL_CONSTANT:], target_rate, growth_parameter, average=\"QUEUE\")\n",
    "    W_ee_adsp, _, nb_new_add_e, nb_new_prun_e = bounded_adsp(W_ee_adsp, state_e, delta_z_e, VALUE)\n",
    "    delta_z_e_history.append(delta_z_e)\n",
    "    \n",
    "    # For inhibitory neurons (Wei)\n",
    "    # delta_z_i = compute_synaptic_change(state_history_i[-INTERVAL_CONSTANT:], target_rate, growth_parameter, average=\"QUEUE\")\n",
    "    # W_ei_adsp, _, nb_new_add_i, nb_new_prun_i = adsp(W_ei_adsp, state_i, delta_z_i, VALUE)\n",
    "\n",
    "    for i in range(INTERVAL_CONSTANT):\n",
    "        state_e = update_reservoir(W_ee_adsp, Win_e_adsp, u_train1[:, i], state_e, leaky_rate, bias_e, activation_function)\n",
    "        state_history_e.append(state_e)\n",
    "    u_train1 = u_train1[:, INTERVAL_CONSTANT:]\n",
    "    train_length = len(u_train1[1, :])\n",
    "\n",
    "\n",
    "    total_add += nb_new_add_e # + nb_new_add_i\n",
    "    total_prun += nb_new_prun_e # + nb_new_prun_i\n",
    "    add.append(total_add)\n",
    "    prun.append(total_prun)\n",
    "    step +=1\n",
    "add = np.array(add)\n",
    "prun = np.array(prun)"
   ]
  },
  {
   "cell_type": "code",
   "execution_count": null,
   "id": "fce4f823",
   "metadata": {
    "editable": true,
    "slideshow": {
     "slide_type": ""
    },
    "tags": []
   },
   "outputs": [],
   "source": [
    "# NEURON ACTIVITY PLOT \n",
    "plt.figure(figsize=(24,5))\n",
    "random_neurons_indices =  np.sort(np.random.randint(n_e, size=4)) #Size max is 19 because there is not enough colors\n",
    "random_neurons_indices = np.append(random_neurons_indices, 9)\n",
    "colors = color_palette(\"cividis\")\n",
    "# NUMBER_OF_STEP_TO_WATCH \n",
    "WATCH_FROM = 0\n",
    "WATCH_TO = 3000\n",
    "neurons_evolution = np.array(state_history_e)[WATCH_FROM:WATCH_TO]\n",
    "x =range(len(state_history_e))[WATCH_FROM:WATCH_TO]\n",
    "j = 0\n",
    "for i in random_neurons_indices:\n",
    "    plt.plot(x, neurons_evolution[: ,i], label=None, color=colors[j]) # Can set label to None or str(i)\n",
    "    plt.text(-3+WATCH_FROM, neurons_evolution[0, i],  str(i), color=\"black\", fontsize=12)\n",
    "    j += 1\n",
    "plt.plot(x, [target_rate]*(WATCH_TO-WATCH_FROM), linestyle = \"--\", label=\"target rate\")\n",
    "plt.plot(x, [target_rate+growth_parameter]*(WATCH_TO-WATCH_FROM), color=\"red\", linestyle = \"--\", label=\"boundaries\")\n",
    "plt.plot(x, [target_rate-growth_parameter]*(WATCH_TO-WATCH_FROM), color=\"red\", linestyle = \"--\")\n",
    "plt.gca().spines['top'].set_visible(False)\n",
    "plt.gca().spines['right'].set_visible(False)\n",
    "plt.gca().tick_params(axis='both', labelsize=20)\n",
    "\n",
    "# to watch the inputs simultaneously\n",
    "# ax0.plot(x, inputs1[0, WATCH_FROM:WATCH_TO], color=\"blue\", linestyle = \"--\")\n",
    "\n",
    "plt.legend(fontsize=16, loc=\"right\")\n"
   ]
  },
  {
   "cell_type": "markdown",
   "id": "d527d302",
   "metadata": {
    "editable": true,
    "slideshow": {
     "slide_type": ""
    },
    "tags": []
   },
   "source": [
    "### Analysis"
   ]
  },
  {
   "cell_type": "code",
   "execution_count": null,
   "id": "d9a01fa3",
   "metadata": {
    "tags": []
   },
   "outputs": [],
   "source": [
    "from math import copysign\n",
    "from analysis.richness import pearson \n",
    "from matplotlib.colors import Normalize\n",
    "\n",
    "plt.figure(figsize=(30,14))\n",
    "plt.suptitle(f'Dynamics for growth_parameter = {growth_parameter} and  target = {target_rate}', fontsize=16)\n",
    "\n",
    "# NEURON ACTIVITY PLOT \n",
    "ax0 = plt.subplot2grid((4, 3), (0, 0), colspan=3, rowspan=2)\n",
    "random_neurons_indices =  np.sort(np.random.randint(n_e, size=4)) #Size max is 19 because there is not enough colors\n",
    "random_neurons_indices = np.append(random_neurons_indices, 9)\n",
    "colors = color_palette(\"cividis\")\n",
    "# NUMBER_OF_STEP_TO_WATCH \n",
    "WATCH_FROM = 0\n",
    "WATCH_TO = 4000\n",
    "neurons_evolution = np.array(state_history_e)[WATCH_FROM:WATCH_TO]\n",
    "x =range(len(state_history_e))[WATCH_FROM:WATCH_TO]\n",
    "j = 0\n",
    "for i in random_neurons_indices:\n",
    "    ax0.plot(x, neurons_evolution[: ,i], label=str(i), color=colors[j])\n",
    "    ax0.text(-3+WATCH_FROM, neurons_evolution[0, i],  str(i), color=\"black\", fontsize=12)\n",
    "    j += 1\n",
    "ax0.plot(x, [target_rate]*(WATCH_TO-WATCH_FROM), linestyle = \"--\", label=\"target rate\")\n",
    "ax0.plot(x, [target_rate+growth_parameter]*(WATCH_TO-WATCH_FROM), color=\"red\", linestyle = \"--\", label=\"boundaries\")\n",
    "ax0.plot(x, [target_rate-growth_parameter]*(WATCH_TO-WATCH_FROM), color=\"red\", linestyle = \"--\")\n",
    "# to watch the inputs simultaneously\n",
    "# ax0.plot(x, inputs1[0, WATCH_FROM:WATCH_TO], color=\"blue\", linestyle = \"--\")\n",
    "\n",
    "plt.legend(fontsize=16, loc=\"right\")\n",
    "\n",
    "\n",
    "# TOTAL ADDITION AND PRUNING OF CONNEXIONS \n",
    "ax1 = plt.subplot2grid((4, 3), (2, 0), colspan=2, rowspan=2)\n",
    "ax1.plot(np.arange(step)*INTERVAL_CONSTANT, add, label=\"total number of added connexion\", color='red')\n",
    "ax1.plot(np.arange(step)*INTERVAL_CONSTANT, prun, label=\"total number of prunned connexion\", color='blue')\n",
    "ax1.plot(np.arange(step)*INTERVAL_CONSTANT, add-prun, label=\"difference\", color='green')\n",
    "ax1.plot(np.arange(step)*INTERVAL_CONSTANT, [0]*step, linestyle=(0, (1, 10)))\n",
    "ax1.legend()\n",
    "\n",
    "# CONNEXION MATRICE\n",
    "ax2 = plt.subplot2grid((4, 3), (2, 2), rowspan=2)\n",
    "heatmap(W_ee_adsp.todense(), cmap=color_palette(\"cividis\", as_cmap=True), ax = ax2)\n",
    "ax2.text(27, -1, 'Final connectivity',fontsize=20)\n",
    "\n",
    "#ax3 = plt.subplot2grid((4, 3), (3, 0))\n",
    "#ax3.text(0.5, 0.5, 'Win and incoming connexion correlation :',fontsize=20,horizontalalignment='center',\n",
    "#        transform=ax3.transAxes)\n",
    "#ax3.text(0.5, 0.3, pearson(Win_e.A, incoming_connexion_count_history[-1]),fontsize=20,horizontalalignment='center',\n",
    "#        transform=ax3.transAxes)\n",
    "#ax3.axis('off')\n",
    "\n",
    "#ax4 = plt.subplot2grid((4, 3), (3, 1))\n",
    "#ax4.text(0.5, 0.5, 'Bias and incoming connexion correlation :',fontsize=20,horizontalalignment='center',\n",
    "#        transform=ax4.transAxes)\n",
    "#ax4.text(0.5, 0.3, pearson(bias_e, incoming_connexion_count_history[-1]),fontsize=20,horizontalalignment='center',\n",
    "#        transform=ax4.transAxes)\n",
    "#ax4.axis('off')\n",
    "\n",
    "plt.show()"
   ]
  },
  {
   "cell_type": "code",
   "execution_count": null,
   "id": "c8da77a6",
   "metadata": {
    "tags": []
   },
   "outputs": [],
   "source": [
    "heatmap(W_ee_adsp.todense(), cmap=color_palette(\"Greys\", as_cmap=True))"
   ]
  },
  {
   "cell_type": "markdown",
   "id": "c1bfc851-1258-4b52-9031-bdadd00a3212",
   "metadata": {
    "editable": true,
    "slideshow": {
     "slide_type": ""
    },
    "tags": []
   },
   "source": [
    "### Animations"
   ]
  },
  {
   "cell_type": "code",
   "execution_count": null,
   "id": "7b00e91b",
   "metadata": {
    "tags": []
   },
   "outputs": [],
   "source": [
    "import analysis.topology\n",
    "from importlib import reload\n",
    "reload(analysis.topology)\n",
    "\n",
    "from graph_tool.all import graph_draw\n",
    "from analysis.topology import create_network, animate_network\n",
    "\n",
    "activity = np.array(state_history_e)[0:100]\n",
    "g = create_network(W_ee_adsp)\n",
    "animate_network(g, activity)"
   ]
  },
  {
   "cell_type": "code",
   "execution_count": null,
   "id": "234b8625",
   "metadata": {
    "tags": []
   },
   "outputs": [],
   "source": [
    "import matplotlib.animation as animation\n",
    "from IPython.display import HTML\n",
    "import matplotlib.pyplot as plt\n",
    "import numpy as np\n",
    "\n",
    "fig, ax = plt.subplots(figsize=(4,1))\n",
    "activity = np.array(state_history_e)[0:20*INTERVAL_CONSTANT]\n",
    "\n",
    "# Define a function to draw each frame of the animation\n",
    "def draw_frame(i):\n",
    "    ax.clear()\n",
    "    activities = activity[i]\n",
    "    a_max = activity.max()\n",
    "    normalized_activities = activities / a_max  # Normalize between 0 and 1\n",
    "    colors = plt.cm.viridis(normalized_activities)  # Map to colors using a colormap\n",
    "    \n",
    "    x_positions = np.arange(len(activities))\n",
    "    size = 100  # Modify this to change dot size\n",
    "    sc = ax.scatter(x_positions, np.zeros_like(activities), c=colors, s=size) \n",
    "    ax.set_xlim(-1, len(activities))  # Set x limits to show all nodes\n",
    "    \n",
    "    # Add numbers to dots\n",
    "    for j in range(len(x_positions)):\n",
    "        ax.text(x_positions[j], 0, str(j+1), ha='center', va='center', color='w', size=5)\n",
    "        \n",
    "    ax.axis('off')  # This line turns off the x and y axes\n",
    "    \n",
    "# Ensure ani is a global variable\n",
    "global ani \n",
    "ani = animation.FuncAnimation(fig, draw_frame, frames=len(activity), interval=200)\n",
    "plt.close()\n",
    "ani.save('animation_states.gif', writer='pillow', fps=30)\n",
    "HTML(ani.to_jshtml())\n"
   ]
  },
  {
   "cell_type": "code",
   "execution_count": null,
   "id": "6670c2b8-e384-44e3-b9f7-2ac1dcf01f91",
   "metadata": {
    "tags": []
   },
   "outputs": [],
   "source": [
    "import matplotlib.animation as animation\n",
    "from IPython.display import HTML\n",
    "import matplotlib.pyplot as plt\n",
    "import numpy as np\n",
    "\n",
    "fig, ax = plt.subplots(figsize=(4,1))\n",
    "activity = np.repeat(np.array(delta_z_e_history)[0:20], INTERVAL_CONSTANT, axis=0)\n",
    "# Define a function to draw each frame of the animation\n",
    "def draw_frame(i):\n",
    "    ax.clear()\n",
    "    activities = activity[i]\n",
    "    # Shift all values to be positive\n",
    "    activities_positive_shifted = activities - activities.min()\n",
    "\n",
    "    # Normalize between 0 and 1\n",
    "    a_min = activities_positive_shifted.min()\n",
    "    a_max = activities_positive_shifted.max()\n",
    "    normalized_activities = (activities_positive_shifted - a_min) / (a_max - a_min)\n",
    "    colors = plt.cm.inferno(normalized_activities)\n",
    "    \n",
    "    x_positions = np.arange(len(activities))\n",
    "    size = 100  # Modify this to change dot size\n",
    "    sc = ax.scatter(x_positions, np.zeros_like(activities), c=colors, s=size, marker=\"s\") \n",
    "    ax.set_xlim(-1, len(activities))  # Set y limits to show all nodes\n",
    "    \n",
    "    # Add numbers to dots\n",
    "    for j in range(len(x_positions)):\n",
    "        ax.text(x_positions[j], 0, str(j+1), ha='center', va='center', color='w', size=5)\n",
    "        \n",
    "    ax.axis('off')  # This line turns off the x and y axes\n",
    "    \n",
    "# Ensure ani is a global variable\n",
    "global ani \n",
    "ani = animation.FuncAnimation(fig, draw_frame, frames=len(activity), interval=200)\n",
    "plt.close()\n",
    "ani.save('animation_deltas.gif', writer='pillow', fps=30)\n",
    "HTML(ani.to_jshtml())"
   ]
  },
  {
   "cell_type": "code",
   "execution_count": null,
   "id": "7f87fd9a-fda1-47da-ad8e-edfb6545aee8",
   "metadata": {
    "tags": []
   },
   "outputs": [],
   "source": [
    "import matplotlib.animation as animation\n",
    "from IPython.display import HTML\n",
    "import matplotlib.pyplot as plt\n",
    "import numpy as np\n",
    "\n",
    "fig, ax = plt.subplots(figsize=(4,1))\n",
    "delta_z = np.array(delta_z_e_history)[0:20]\n",
    "\n",
    "# Define your conditions and corresponding choices\n",
    "conditions = [\n",
    "    delta_z >= 1, \n",
    "    delta_z <= -1, \n",
    "    np.logical_and(delta_z > -1, delta_z < 1)  # between -1 and 1\n",
    "]\n",
    "choices = [1, -1, 0]\n",
    "\n",
    "# Create the new array using np.select\n",
    "new_array = np.select(conditions, choices)\n",
    "\n",
    "activity = np.repeat(new_array, INTERVAL_CONSTANT, axis=0)\n",
    "\n",
    "# Define a function to draw each frame of the animation\n",
    "def draw_frame(i):\n",
    "    ax.clear()\n",
    "    activities = activity[i]\n",
    "    y_positions = np.arange(len(activities))\n",
    "    size = 100  # Modify this to change dot size\n",
    "    \n",
    "    color_list = ['red' if a == 1 else 'blue' if a == -1 else 'black' for a in activities]\n",
    "    text_list = ['+1' if a == 1 else '-1' if a == -1 else '0' for a in activities]\n",
    "\n",
    "    x_positions = np.arange(len(activities))\n",
    "    size = 100  # Modify this to change dot size\n",
    "    sc = ax.scatter(x_positions, np.zeros_like(activities), c=\"white\", s=size) \n",
    "    ax.set_xlim(-1, len(activities))  # Set y limits to show all nodes\n",
    "       \n",
    "    # Add numbers to dots\n",
    "    for j in range(len(y_positions)):\n",
    "        ax.text(x_positions[j], 0, text_list[j], ha='center', va='center', color=color_list[j], size=10)\n",
    "\n",
    "    ax.axis('off')  # This line turns off the x and y axes\n",
    "    \n",
    "# Ensure ani is a global variable\n",
    "global ani \n",
    "ani = animation.FuncAnimation(fig, draw_frame, frames=len(activity), interval=200)\n",
    "plt.close()\n",
    "ani.save('animation_add_prune.gif', writer='pillow', fps=30)\n",
    "HTML(ani.to_jshtml())"
   ]
  },
  {
   "cell_type": "markdown",
   "id": "248327b7",
   "metadata": {},
   "source": [
    "## Hebbian learning exemple"
   ]
  },
  {
   "cell_type": "markdown",
   "id": "caaf0665",
   "metadata": {},
   "source": [
    "### Visualisation"
   ]
  },
  {
   "cell_type": "code",
   "execution_count": null,
   "id": "651ea193",
   "metadata": {},
   "outputs": [],
   "source": [
    "from scipy.stats import poisson\n",
    "\n",
    "mu = 100\n",
    "timesteps = 10000\n",
    "\n",
    "U = poisson.rvs(mu, size=[timesteps, n_e], random_state = SEED)[np.newaxis].T\n",
    "\n",
    "# rescale between 0 and 1\n",
    "inputs_visu = (U - U.min()) / (U.max() - U.min())/4\n",
    "\n",
    "inputs_visu[50:60,4000:7000] = inputs_visu[50:60,4000:7000]+1\n",
    "plt.figure(figsize=(24,10))\n",
    "\n",
    "ax = plt.subplots(3, 1,figsize=(24,12))\n",
    "ax[1][0].plot(range(10000), inputs_visu[53,0:10000], label=\"53\")\n",
    "ax[1][0].legend(fontsize=26)\n",
    "ax[1][1].plot(range(10000), inputs_visu[55,0:10000], label=\"55\", color = \"orange\")\n",
    "ax[1][1].legend(fontsize=26)\n",
    "ax[1][2].plot(range(10000), inputs_visu[98,0:10000], label=\"98\", color = \"green\")\n",
    "ax[1][2].legend(fontsize=26)\n",
    "ax[1][0].spines['top'].set_visible(False)\n",
    "ax[1][0].spines['right'].set_visible(False)\n",
    "ax[1][1].spines['top'].set_visible(False)\n",
    "ax[1][1].spines['right'].set_visible(False)\n",
    "ax[1][2].spines['top'].set_visible(False)\n",
    "ax[1][2].spines['right'].set_visible(False)\n",
    "ax[1][0].tick_params(axis='both', labelsize=26)\n",
    "ax[1][1].tick_params(axis='both', labelsize=26)\n",
    "ax[1][2].tick_params(axis='both', labelsize=26)\n",
    "\n",
    "plt.ylim(0, 1)\n",
    "\n",
    "plt.show()"
   ]
  },
  {
   "cell_type": "markdown",
   "id": "c742a0c6",
   "metadata": {},
   "source": [
    "### Scenario"
   ]
  },
  {
   "cell_type": "code",
   "execution_count": null,
   "id": "01fa7eba",
   "metadata": {},
   "outputs": [],
   "source": [
    "from scipy.stats import poisson\n",
    "\n",
    "mu = 100\n",
    "timesteps = 100000\n",
    "\n",
    "U = poisson.rvs(mu, size=[timesteps, n_e], random_state = SEED)[np.newaxis].T\n",
    "\n",
    "# rescale between 0 and 1\n",
    "inputs2 = (U - U.min()) / (U.max() - U.min())\n",
    "\n",
    "inputs2[50:60,:] = inputs2[50:60,:]*10\n",
    "plt.figure(figsize=(24,5))\n",
    "plt.plot(range(1000), inputs2[43,16000:17000], color=\"gold\")\n",
    "plt.axis(\"off\")\n",
    "plt.show()"
   ]
  },
  {
   "cell_type": "code",
   "execution_count": null,
   "id": "5bab91dc",
   "metadata": {},
   "outputs": [],
   "source": [
    "u_train2 = inputs2.copy()\n",
    "\n",
    "W_ee_adsp_hebbian = W_ee_adsp.copy()\n",
    "Win_e_adsp_hebbian = Win_e\n",
    "\n",
    "step=0\n",
    "state_hebbian = state_e\n",
    "\n",
    "total_add = 0\n",
    "total_prun = 0\n",
    "add = []\n",
    "prun = []\n",
    "mean_prun = []\n",
    "\n",
    "state_history_hebbian = []\n",
    "delta_z_e_history = []\n",
    "train_length = len(u_train2[1, :])"
   ]
  },
  {
   "cell_type": "code",
   "execution_count": null,
   "id": "1eebf45d-3f76-45eb-8fe3-cb71722c4eb5",
   "metadata": {},
   "outputs": [],
   "source": [
    "heatmap(W_ee_adsp_hebbian.todense(), cmap=color_palette(\"cividis\", as_cmap=True))"
   ]
  },
  {
   "cell_type": "code",
   "execution_count": null,
   "id": "64dddae0",
   "metadata": {},
   "outputs": [],
   "source": [
    "while train_length > 500:\n",
    "     # For excitatory neurons (We and Wie)\n",
    "    delta_z_e = compute_synaptic_change(state_history_hebbian[-INTERVAL_CONSTANT:], target_rate, growth_parameter, average=\"QUEUE\")\n",
    "    W_ee_adsp_hebbian, _, nb_new_add_e, nb_new_prun_e = bounded_adsp(W_ee_adsp_hebbian, state_hebbian, delta_z_e, VALUE)\n",
    "    delta_z_e_history.append(delta_z_e)\n",
    "    \n",
    "    # For inhibitory neurons (Wei)\n",
    "    # delta_z_i = compute_synaptic_change(state_history_i[-INTERVAL_CONSTANT:], target_rate, growth_parameter, average=\"QUEUE\")\n",
    "    # W_ei_adsp, _, nb_new_add_i, nb_new_prun_i = adsp(W_ei_adsp, state_i, delta_z_i, VALUE)\n",
    "\n",
    "    for i in range(INTERVAL_CONSTANT):\n",
    "        state_hebbian = update_reservoir(W_ee_adsp_hebbian, Win_e_adsp_hebbian, u_train2[:, i], state_hebbian, leaky_rate, bias_e, activation_function)\n",
    "        state_history_hebbian.append(state_hebbian)\n",
    "    u_train2 = u_train2[:, INTERVAL_CONSTANT:]\n",
    "    train_length = len(u_train2[1, :])\n",
    "\n",
    "\n",
    "    total_add += nb_new_add_e # + nb_new_add_i\n",
    "    total_prun += nb_new_prun_e # + nb_new_prun_i\n",
    "    add.append(total_add)\n",
    "    prun.append(total_prun)\n",
    "    step +=1\n",
    "add = np.array(add)\n",
    "prun = np.array(prun)"
   ]
  },
  {
   "cell_type": "code",
   "execution_count": null,
   "id": "8ef0d94a",
   "metadata": {},
   "outputs": [],
   "source": [
    "from math import copysign\n",
    "from analysis.metrics import pearson \n",
    "\n",
    "plt.figure(figsize=(30,14))\n",
    "plt.suptitle(f'Dynamics for growth_parameter = {growth_parameter} and  target = {target_rate}', fontsize=16)\n",
    "\n",
    "# NEURON ACTIVITY PLOT \n",
    "ax0 = plt.subplot2grid((4, 3), (0, 0), colspan=3, rowspan=2)\n",
    "random_neurons_indices =  np.sort(np.random.randint(n_e, size=8)) #Size max is 19 because there is not enough colors\n",
    "random_neurons_indices = np.append(random_neurons_indices, 51)\n",
    "colors = color_palette(\"tab20\")\n",
    "# NUMBER_OF_STEP_TO_WATCH \n",
    "WATCH_FROM = 7000\n",
    "WATCH_TO = 8000\n",
    "neurons_evolution = np.array(state_history_e)[WATCH_FROM:WATCH_TO]\n",
    "x =range(len(state_history_e))[WATCH_FROM:WATCH_TO]\n",
    "j = 0\n",
    "for i in random_neurons_indices:\n",
    "    ax0.plot(x, neurons_evolution[: ,i], label=str(i), color=colors[j])\n",
    "    ax0.text(-3+WATCH_FROM, neurons_evolution[0, i],  str(i), color=\"black\", fontsize=12)\n",
    "    j += 1\n",
    "ax0.plot(x, [target_rate]*(WATCH_TO-WATCH_FROM), linestyle = \"--\", label=\"target connectivity\")\n",
    "ax0.plot(x, [target_rate+growth_parameter]*(WATCH_TO-WATCH_FROM), color=\"red\", linestyle = \"--\", label=\"boundaries\")\n",
    "ax0.plot(x, [target_rate-growth_parameter]*(WATCH_TO-WATCH_FROM), color=\"red\", linestyle = \"--\")\n",
    "# to watch the inputs simultaneously\n",
    "# ax0.plot(x, inputs1[0, WATCH_FROM:WATCH_TO], color=\"blue\", linestyle = \"--\")\n",
    "\n",
    "plt.legend(fontsize=16, loc=\"right\")\n",
    "\n",
    "\n",
    "# TOTAL ADDITION AND PRUNING OF CONNEXIONS \n",
    "ax1 = plt.subplot2grid((4, 3), (2, 0), colspan=2)\n",
    "ax1.plot(np.arange(step)*INTERVAL_CONSTANT, add, label=\"total number of added connexion\")\n",
    "ax1.plot(np.arange(step)*INTERVAL_CONSTANT, prun, label=\"total number of prunned connexion\")\n",
    "ax1.plot(np.arange(step)*INTERVAL_CONSTANT, add-prun, label=\"difference\")\n",
    "ax1.plot(np.arange(step)*INTERVAL_CONSTANT, [0]*step, linestyle=(0, (1, 10)))\n",
    "ax1.legend()\n",
    "\n",
    "# CONNEXION MATRICE\n",
    "ax2 = plt.subplot2grid((4, 3), (2, 2), rowspan=2)\n",
    "heatmap(W_ee_adsp_hebbian.todense(), cmap=color_palette(\"vlag\", as_cmap=True), ax = ax2)\n",
    "ax2.text(15,0, 'Final connectivity',fontsize=20)\n",
    "\n",
    "ax3 = plt.subplot2grid((4, 3), (3, 0))\n",
    "ax3.text(0.5, 0.5, 'Win and incoming connexion correlation :',fontsize=20,horizontalalignment='center',\n",
    "        transform=ax3.transAxes)\n",
    "ax3.text(0.5, 0.3, pearson(Win_e.A, incoming_connexion_count_history[-1]),fontsize=20,horizontalalignment='center',\n",
    "        transform=ax3.transAxes)\n",
    "ax3.axis('off')\n",
    "\n",
    "ax4 = plt.subplot2grid((4, 3), (3, 1))\n",
    "ax4.text(0.5, 0.5, 'Bias and incoming connexion correlation :',fontsize=20,horizontalalignment='center',\n",
    "        transform=ax4.transAxes)\n",
    "ax4.text(0.5, 0.3, pearson(bias_e, incoming_connexion_count_history[-1]),fontsize=20,horizontalalignment='center',\n",
    "        transform=ax4.transAxes)\n",
    "ax4.axis('off')\n",
    "\n",
    "plt.show()"
   ]
  },
  {
   "cell_type": "code",
   "execution_count": null,
   "id": "8a115660",
   "metadata": {},
   "outputs": [],
   "source": [
    "heatmap(W_ee_adsp_hebbian.todense(), cmap=color_palette(\"cividis\", as_cmap=True))"
   ]
  },
  {
   "cell_type": "code",
   "execution_count": null,
   "id": "d8ad69d5",
   "metadata": {},
   "outputs": [],
   "source": [
    "from scipy.stats import poisson\n",
    "\n",
    "mu = 100\n",
    "timesteps = 100000\n",
    "\n",
    "U = poisson.rvs(mu, size=[timesteps, n_e], random_state = SEED)[np.newaxis].T\n",
    "\n",
    "# rescale between 0 and 1\n",
    "inputs3 = (U - U.min()) / (U.max() - U.min())\n",
    "\n",
    "plt.figure(figsize=(24,5))\n",
    "plt.plot(range(1000), inputs3[52,16000:17000])\n",
    "plt.show()"
   ]
  },
  {
   "cell_type": "code",
   "execution_count": null,
   "id": "f78e3574",
   "metadata": {},
   "outputs": [],
   "source": [
    "u_train3 = inputs3.copy()\n",
    "\n",
    "step=0\n",
    "\n",
    "total_add = 0\n",
    "total_prun = 0\n",
    "add = []\n",
    "prun = []\n",
    "mean_prun = []\n",
    "\n",
    "state_history_e = []\n",
    "delta_z_e_history = []\n",
    "train_length = len(u_train3[1, :])\n",
    "\n",
    "while train_length > 500:\n",
    "     # For excitatory neurons (We and Wie)\n",
    "    delta_z_e = compute_synaptic_change(state_history_e[-INTERVAL_CONSTANT:], target_rate, growth_parameter, average=\"QUEUE\")\n",
    "    W_ee_adsp_hebbian, _, nb_new_add_e, nb_new_prun_e = bounded_adsp(W_ee_adsp_hebbian, state_e, delta_z_e, VALUE)\n",
    "    delta_z_e_history.append(delta_z_e)\n",
    "    \n",
    "    # For inhibitory neurons (Wei)\n",
    "    # delta_z_i = compute_synaptic_change(state_history_i[-INTERVAL_CONSTANT:], target_rate, growth_parameter, average=\"QUEUE\")\n",
    "    # W_ei_adsp, _, nb_new_add_i, nb_new_prun_i = adsp(W_ei_adsp, state_i, delta_z_i, VALUE)\n",
    "\n",
    "    for i in range(INTERVAL_CONSTANT):\n",
    "        state_e = update_reservoir(W_ee_adsp_hebbian, Win_e_adsp_hebbian, u_train3[:, i], state_e, leaky_rate, bias_e, activation_function)\n",
    "        state_history_e.append(state_e)\n",
    "    u_train3 = u_train3[:, INTERVAL_CONSTANT:]\n",
    "    train_length = len(u_train3[1, :])\n",
    "\n",
    "\n",
    "    total_add += nb_new_add_e # + nb_new_add_i\n",
    "    total_prun += nb_new_prun_e # + nb_new_prun_i\n",
    "    add.append(total_add)\n",
    "    prun.append(total_prun)\n",
    "    step +=1\n",
    "add = np.array(add)\n",
    "prun = np.array(prun)"
   ]
  },
  {
   "cell_type": "code",
   "execution_count": null,
   "id": "bbcf85a2",
   "metadata": {},
   "outputs": [],
   "source": [
    "from math import copysign\n",
    "from analysis.metrics import pearson \n",
    "\n",
    "plt.figure(figsize=(30,14))\n",
    "plt.suptitle(f'Dynamics for growth_parameter = {growth_parameter} and  target = {target_rate}', fontsize=16)\n",
    "\n",
    "# NEURON ACTIVITY PLOT \n",
    "ax0 = plt.subplot2grid((4, 3), (0, 0), colspan=3, rowspan=2)\n",
    "random_neurons_indices =  np.sort(np.random.randint(n_e, size=8)) #Size max is 19 because there is not enough colors\n",
    "random_neurons_indices = np.append(random_neurons_indices, 51)\n",
    "colors = color_palette(\"tab20\")\n",
    "# NUMBER_OF_STEP_TO_WATCH \n",
    "WATCH_FROM = 7000\n",
    "WATCH_TO = 8000\n",
    "neurons_evolution = np.array(state_history_e)[WATCH_FROM:WATCH_TO]\n",
    "x =range(len(state_history_e))[WATCH_FROM:WATCH_TO]\n",
    "j = 0\n",
    "for i in random_neurons_indices:\n",
    "    ax0.plot(x, neurons_evolution[: ,i], label=str(i), color=colors[j])\n",
    "    ax0.text(-3+WATCH_FROM, neurons_evolution[0, i],  str(i), color=\"black\", fontsize=12)\n",
    "    j += 1\n",
    "ax0.plot(x, [target_rate]*(WATCH_TO-WATCH_FROM), linestyle = \"--\", label=\"target connectivity\")\n",
    "ax0.plot(x, [target_rate+growth_parameter]*(WATCH_TO-WATCH_FROM), color=\"red\", linestyle = \"--\", label=\"boundaries\")\n",
    "ax0.plot(x, [target_rate-growth_parameter]*(WATCH_TO-WATCH_FROM), color=\"red\", linestyle = \"--\")\n",
    "# to watch the inputs simultaneously\n",
    "# ax0.plot(x, inputs1[0, WATCH_FROM:WATCH_TO], color=\"blue\", linestyle = \"--\")\n",
    "\n",
    "plt.legend(fontsize=16, loc=\"right\")\n",
    "\n",
    "\n",
    "# TOTAL ADDITION AND PRUNING OF CONNEXIONS \n",
    "ax1 = plt.subplot2grid((4, 3), (2, 0), colspan=2)\n",
    "ax1.plot(np.arange(step)*INTERVAL_CONSTANT, add, label=\"total number of added connexion\")\n",
    "ax1.plot(np.arange(step)*INTERVAL_CONSTANT, prun, label=\"total number of prunned connexion\")\n",
    "ax1.plot(np.arange(step)*INTERVAL_CONSTANT, add-prun, label=\"difference\")\n",
    "ax1.plot(np.arange(step)*INTERVAL_CONSTANT, [0]*step, linestyle=(0, (1, 10)))\n",
    "ax1.legend()\n",
    "\n",
    "# CONNEXION MATRICE\n",
    "ax2 = plt.subplot2grid((4, 3), (2, 2), rowspan=2)\n",
    "heatmap(W_ee_adsp_hebbian.todense(), cmap=color_palette(\"vlag\", as_cmap=True), ax = ax2)\n",
    "ax2.text(15,0, 'Final connectivity',fontsize=20)\n",
    "\n",
    "ax3 = plt.subplot2grid((4, 3), (3, 0))\n",
    "ax3.text(0.5, 0.5, 'Win and incoming connexion correlation :',fontsize=20,horizontalalignment='center',\n",
    "        transform=ax3.transAxes)\n",
    "ax3.text(0.5, 0.3, pearson(Win_e.A, incoming_connexion_count_history[-1]),fontsize=20,horizontalalignment='center',\n",
    "        transform=ax3.transAxes)\n",
    "ax3.axis('off')\n",
    "\n",
    "ax4 = plt.subplot2grid((4, 3), (3, 1))\n",
    "ax4.text(0.5, 0.5, 'Bias and incoming connexion correlation :',fontsize=20,horizontalalignment='center',\n",
    "        transform=ax4.transAxes)\n",
    "ax4.text(0.5, 0.3, pearson(bias_e, incoming_connexion_count_history[-1]),fontsize=20,horizontalalignment='center',\n",
    "        transform=ax4.transAxes)\n",
    "ax4.axis('off')\n",
    "\n",
    "plt.show()"
   ]
  },
  {
   "cell_type": "code",
   "execution_count": null,
   "id": "0006fbe8",
   "metadata": {},
   "outputs": [],
   "source": [
    "heatmap(W_ee_adsp_hebbian.todense(), cmap=color_palette(\"cividis\", as_cmap=True))"
   ]
  },
  {
   "cell_type": "markdown",
   "id": "6788cc1e",
   "metadata": {
    "tags": []
   },
   "source": [
    "# Measurement\n",
    "We create a comparable matrice for measurment"
   ]
  },
  {
   "cell_type": "code",
   "execution_count": null,
   "id": "b9455df5",
   "metadata": {},
   "outputs": [],
   "source": [
    "eigen_adsp = sparse.linalg.eigs(W_ee_adsp, k=1, which=\"LM\", maxiter=W_ee_adsp.shape[0] * 20, tol=0.1, return_eigenvectors=False)\n",
    "sr_adsp = max(abs(eigen_adsp))\n",
    "sr_adsp"
   ]
  },
  {
   "cell_type": "markdown",
   "id": "ffc97be7",
   "metadata": {
    "tags": []
   },
   "source": [
    "## Richness in reservoir"
   ]
  },
  {
   "cell_type": "markdown",
   "id": "56dec338",
   "metadata": {},
   "source": [
    "### Memory capacity"
   ]
  },
  {
   "cell_type": "markdown",
   "id": "a392501b",
   "metadata": {},
   "source": [
    "$$  y_{d_i} = \\prod_i{P_{d_i}(u(t-i))}$$"
   ]
  },
  {
   "cell_type": "markdown",
   "id": "c56b96cc",
   "metadata": {},
   "source": [
    "#### Without adsp"
   ]
  },
  {
   "cell_type": "code",
   "execution_count": null,
   "id": "56972bcf",
   "metadata": {},
   "outputs": [],
   "source": [
    "import analysis.capacities as CAP\n",
    "# Helper function to use the capacities data structure coming out of the iterator\n",
    "# cap2vec collates all capacities with same maximal delay and degree up to given maximal values\n",
    "def cap2vec(capacities,maxdel=1000,maxdeg=10):\n",
    "    vec = np.zeros((maxdel,maxdeg))\n",
    "    for idx in range(len(capacities)):\n",
    "        delay=capacities[idx]['delay']\n",
    "        degree=capacities[idx]['degree']\n",
    "        if (delay<=maxdel) and (degree<=maxdeg):\n",
    "            vec[delay-1,degree-1]+=capacities[idx]['score']\n",
    "    return vec\n",
    "\n",
    "maxdel = 15\n",
    "maxdeg = 7\n",
    "\n",
    "TRYOUT = 10\n",
    "V = np.zeros((maxdel, maxdeg))\n",
    "for i in range(TRYOUT):\n",
    "    print(\"\\nRound :\", i)\n",
    "    # We generate a network randomly with same spectral radius and same connectivity as the ADSP generated one\n",
    "    connectivity_desired =  W_ee_adsp.count_nonzero() / (W_ee_adsp.shape[0] * W_ee_adsp.shape[1])\n",
    "    _, W_ee_w, _ =  init_matrices(n_e, input_connectivity, connectivity_desired, spectral_radius)\n",
    "    eigen_adsp = sparse.linalg.eigs(W_ee_adsp, k=1, which=\"LM\", maxiter=W_ee_adsp.shape[0] * 20, tol=0.1, return_eigenvectors=False)\n",
    "    sr_adsp = max(abs(eigen_adsp))\n",
    "    eigen_w = sparse.linalg.eigs(W_ee_w, k=1, which=\"LM\", maxiter=W_ee_w.shape[0] * 20, tol=0.1, return_eigenvectors=False)\n",
    "    sr_w = max(abs(eigen_w))\n",
    "    W_ee_w = W_ee_w*sr_adsp/sr_w\n",
    "\n",
    "    # Number of time steps: you can use 1e5 for quick-and-dirty, but 1e6 is better\n",
    "    warmup_steps = 500\n",
    "    warmups = 2.0*np.random.rand(warmup_steps,1)-1.0\n",
    "\n",
    "    # Important: capacity theory with Legendre polynomials assumes uniform random inputs in [-1,1]\n",
    "    steps = 1000000\n",
    "    inputs = 2.0*np.random.rand(steps,1)-1.0\n",
    "\n",
    "    for i in range(warmup_steps):\n",
    "        state_e = update_reservoir(W_ee_w, Win_e, warmups[i], state_e, leaky_rate, bias_e, activation_function)\n",
    "\n",
    "    capa_history_e = []\n",
    "    for i in range(steps):\n",
    "        state_e = update_reservoir(W_ee_w, Win_e, inputs[i], state_e, leaky_rate, bias_e, activation_function)\n",
    "        capa_history_e.append(state_e)\n",
    "    capa_history_e = np.array(capa_history_e)\n",
    "    connectivity_desired\n",
    "    \n",
    "    # Measallcapsure capacities on inputs and states after removing a \"warmup period\"\n",
    "    # If you require more extensive printed output of individual capacities:\n",
    "    # set verbose = 1\n",
    "    Citer=CAP.capacity_iterator(maxdeg=7, maxdel=100)#, verbose = 1)\n",
    "    totalcap,allcaps,numcaps,nodes = Citer.collect(inputs,capa_history_e)\n",
    "\n",
    "    print(\"\\nMeasured \",numcaps,\" capacities above threshold.\\nTotal capacity = \",totalcap)\n",
    "\n",
    "    V = V  + cap2vec(allcaps,maxdel = maxdel, maxdeg = maxdeg)\n",
    "V = V/TRYOUT\n",
    "    "
   ]
  },
  {
   "cell_type": "code",
   "execution_count": null,
   "id": "a5a884f9",
   "metadata": {},
   "outputs": [],
   "source": [
    "heatmap(W_ee_w.todense(), cmap=color_palette(\"vlag\", as_cmap=True))"
   ]
  },
  {
   "cell_type": "code",
   "execution_count": null,
   "id": "0e8dd40c",
   "metadata": {
    "tags": []
   },
   "outputs": [],
   "source": [
    "plt.figure(figsize=(2,4))\n",
    "\n",
    "values = np.sum(V, axis=0)\n",
    "height = 0\n",
    "for i, v in enumerate(values):\n",
    "    plt.bar(0, v, bottom=height, color=plt.cm.tab10(i))\n",
    "    height = height + v\n",
    "\n",
    "plt.xticks([0, 1], ('normal', 'adsp'))\n",
    "plt.show()"
   ]
  },
  {
   "cell_type": "raw",
   "id": "74c012ea",
   "metadata": {},
   "source": [
    "Estimated rank of state covariance matrix =  100\n",
    "Total score for degree  1  =  5.900011764631748 (cumulative total =  5.900011764631748 )\n",
    "Total score for degree  2  =  8.132919874824022 (cumulative total =  14.03293163945577 )\n",
    "Total score for degree  3  =  21.970670741197193 (cumulative total =  36.00360238065297 )\n",
    "Total score for degree  4  =  7.97461066986781 (cumulative total =  43.978213050520786 )\n",
    "Total score for degree  5  =  20.041443081158324 (cumulative total =  64.01965613167907 )\n",
    "Total score for degree  6  =  5.044511570010771 (cumulative total =  69.06416770168978 )\n",
    "Total score for degree  7  =  9.38057116896423 (cumulative total =  78.44473887065409 )\n",
    "Total capacity=78.445 (78.44 percent)\n",
    "Measured  21962  capacities above threshold.\n",
    "Total capacity =  78.44473887065409"
   ]
  },
  {
   "cell_type": "code",
   "execution_count": null,
   "id": "b562136e",
   "metadata": {
    "collapsed": false,
    "jupyter": {
     "outputs_hidden": false
    }
   },
   "outputs": [],
   "source": [
    "\n",
    "# maxdel = 15\n",
    "# maxdeg = 10\n",
    "# V = cap2vec(allcaps,maxdel = maxdel, maxdeg = maxdeg)\n",
    "\n",
    "delrange = np.arange(1,maxdel+1)\n",
    "totcap = np.sum(V,axis=1)\n",
    "plt.figure(figsize=(3,4))\n",
    "plt.semilogy(delrange,V[:,0],label='Linear')\n",
    "plt.plot(delrange,V[:,1],label='Qadratic')\n",
    "plt.plot(delrange,V[:,2],label='Qubic')\n",
    "plt.plot(delrange,V[:,3],label='4')\n",
    "plt.plot(delrange,V[:,4],label='5')\n",
    "\n",
    "plt.xlabel('Maximal delay')\n",
    "plt.ylabel('Total capacity')\n",
    "\n",
    "plt.show()\n",
    "\n"
   ]
  },
  {
   "cell_type": "markdown",
   "id": "37a1d0df",
   "metadata": {},
   "source": [
    "#### With adsp"
   ]
  },
  {
   "cell_type": "code",
   "execution_count": 1,
   "id": "264353ce",
   "metadata": {
    "execution": {
     "iopub.execute_input": "2024-07-16T15:34:28.051764Z",
     "iopub.status.busy": "2024-07-16T15:34:28.051589Z",
     "iopub.status.idle": "2024-07-16T15:34:28.327428Z",
     "shell.execute_reply": "2024-07-16T15:34:28.326832Z",
     "shell.execute_reply.started": "2024-07-16T15:34:28.051750Z"
    },
    "tags": []
   },
   "outputs": [
    {
     "ename": "ModuleNotFoundError",
     "evalue": "No module named 'connexion_generation.bounded_adsp'",
     "output_type": "error",
     "traceback": [
      "\u001b[0;31m---------------------------------------------------------------------------\u001b[0m",
      "\u001b[0;31mModuleNotFoundError\u001b[0m                       Traceback (most recent call last)",
      "Cell \u001b[0;32mIn[1], line 1\u001b[0m\n\u001b[0;32m----> 1\u001b[0m \u001b[38;5;28;01mimport\u001b[39;00m \u001b[38;5;21;01mconnexion_generation\u001b[39;00m\u001b[38;5;21;01m.\u001b[39;00m\u001b[38;5;21;01mbounded_adsp\u001b[39;00m\n\u001b[1;32m      2\u001b[0m \u001b[38;5;28;01mimport\u001b[39;00m \u001b[38;5;21;01mconnexion_generation\u001b[39;00m\u001b[38;5;21;01m.\u001b[39;00m\u001b[38;5;21;01mutility\u001b[39;00m\n\u001b[1;32m      4\u001b[0m \u001b[38;5;28;01mimport\u001b[39;00m \u001b[38;5;21;01mreservoir\u001b[39;00m\u001b[38;5;21;01m.\u001b[39;00m\u001b[38;5;21;01mreservoir\u001b[39;00m\n",
      "\u001b[0;31mModuleNotFoundError\u001b[0m: No module named 'connexion_generation.bounded_adsp'"
     ]
    }
   ],
   "source": [
    "import connexion_generation.bounded_adsp\n",
    "import connexion_generation.utility\n",
    "\n",
    "import reservoir.reservoir\n",
    "from reservoir.reservoir import update_reservoir\n",
    "reload(reservoir.reservoir)\n",
    "\n",
    "# Parameters\n",
    "# The parameters you want to see the influence\n",
    "growth_parameter = 0.1\n",
    "target_rate=0.7\n",
    "\n",
    "INTERVAL_CONSTANT = 100\n",
    "VALUE = 0.05\n",
    "\n",
    "V_adsp = []\n",
    "\n",
    "W_ee_adsp_history = []\n",
    "\n",
    "MAX_NUMBERS_CONNECTIONS = [2, 8, 12, 20]\n",
    "TRYOUT = 1\n",
    "MAX_DEG = 6\n",
    "MAX_DEL = 20\n",
    "j = 0 \n",
    "for max_number_connection in MAX_NUMBERS_CONNECTIONS:\n",
    "    V_adsp.append(np.zeros((maxdel, maxdeg)))\n",
    "    for i in range(TRYOUT):\n",
    "        print(\"\\nRound :\", i)\n",
    "        # Initialisation\n",
    "        W_ee_adsp = W_ee.copy()\n",
    "        u_train1 = inputs1.copy()\n",
    "        state_e = last_state_e\n",
    "        Win_e_adsp = Win_e\n",
    "\n",
    "        # last_state\n",
    "        last_state_e = np.random.uniform(0, 1, n_e)\n",
    "        step=0\n",
    "\n",
    "        state_history_e = []\n",
    "        delta_z_e_history = []\n",
    "\n",
    "        for i in range(INTERVAL_CONSTANT*5):\n",
    "            state_e = update_reservoir(W_ee_adsp, Win_e_adsp, u_train1[:, i], state_e, leaky_rate, bias_e, activation_function)\n",
    "            state_history_e.append(state_e)\n",
    "        u_train1 = u_train1[:, INTERVAL_CONSTANT * 5:]\n",
    "\n",
    "\n",
    "        train_length = len(u_train1[1, :])\n",
    "        \n",
    "\n",
    "        while train_length > 10000:\n",
    "             # For excitatory neurons (We)\n",
    "            delta_z_e = compute_synaptic_change(state_history_e[-INTERVAL_CONSTANT:], target_rate, growth_parameter, average=\"QUEUE\")\n",
    "            W_ee_adsp, _, nb_new_add_e, nb_new_prun_e = bounded_adsp(W_ee_adsp, state_e, delta_z_e, VALUE, max_connections = max_number_connection)\n",
    "            delta_z_e_history.append(delta_z_e)\n",
    "\n",
    "            for i in range(INTERVAL_CONSTANT):\n",
    "                state_e = update_reservoir(W_ee_adsp, Win_e_adsp, u_train1[:, i], state_e, leaky_rate, bias_e, activation_function)\n",
    "                state_history_e.append(state_e)\n",
    "            u_train1 = u_train1[:, INTERVAL_CONSTANT:]\n",
    "            train_length = len(u_train1[1, :])\n",
    "\n",
    "        W_ee_adsp_history.append(W_ee_adsp)\n",
    "        \n",
    "        warmup_steps = 500\n",
    "        warmups = 2.0*np.random.rand(warmup_steps,1)-1.0\n",
    "\n",
    "        # Important: capacity theory with Legendre polynomials assumes uniform random inputs in [-1,1]\n",
    "        steps = 1000000\n",
    "        inputs = 2.0*np.random.rand(steps,1)-1.0\n",
    "\n",
    "        state_e_adsp = last_state_e\n",
    "        for i in range(warmup_steps):\n",
    "            state_e_adsp = update_reservoir(W_ee_adsp, Win_e_adsp, warmups[i], state_e_adsp, leaky_rate, bias_e, activation_function)\n",
    "\n",
    "        capa_history_e_adsp = []\n",
    "        for i in range(steps):\n",
    "            state_e_adsp = update_reservoir(W_ee_adsp, Win_e_adsp, inputs[i], state_e_adsp, leaky_rate, bias_e, activation_function)\n",
    "            capa_history_e_adsp.append(state_e_adsp)\n",
    "        capa_history_e_adsp = np.array(capa_history_e_adsp)\n",
    "\n",
    "        # Measallcapsure capacities on inputs and states after removing a \"warmup period\"\n",
    "        # If you require more extensive printed output of individual capacities:\n",
    "        # set verbose = 1\n",
    "        Citer=CAP.capacity_iterator(maxdeg=MAX_DEG, maxdel=MAX_DEL)#, verbose = 1)\n",
    "        totalcap_adsp,allcaps_adsp,numcaps_adsp,nodes = Citer.collect(inputs,capa_history_e_adsp)\n",
    "\n",
    "        print(\"\\nMeasured \",numcaps_adsp,\" capacities above threshold.\\nTotal capacity = \",totalcap_adsp)\n",
    "        V_adsp[j] = V_adsp[j]  + cap2vec(allcaps_adsp,maxdel = MAX_DEL, maxdeg = MAX_DEG)\n",
    "    V_adsp[j] = V_adsp[j]/TRYOUT\n",
    "    j = j+1"
   ]
  },
  {
   "cell_type": "code",
   "execution_count": null,
   "id": "8e261f55",
   "metadata": {},
   "outputs": [],
   "source": [
    "heatmap(W_ee_adsp_history[-1].todense(), cmap=color_palette(\"vlag\", as_cmap=True))\n",
    "\n",
    "eigen_w = sparse.linalg.eigs(W_ee_adsp_history[3], k=1, which=\"LM\", maxiter=W_ee_w.shape[0] * 20, tol=0.1, return_eigenvectors=False)\n",
    "sr_w = max(abs(eigen_w))\n",
    "sr_w"
   ]
  },
  {
   "cell_type": "code",
   "execution_count": null,
   "id": "ec0d6747",
   "metadata": {},
   "outputs": [],
   "source": [
    "plt.figure(figsize=(6,4))\n",
    "V_adsp_array = np.array(V_adsp)\n",
    "\n",
    "for j, m in enumerate(MAX_NUMBERS_CONNECTIONS):\n",
    "    values_adsp = np.sum(V_adsp_array[:, :, :6][j], axis=0)\n",
    "    values_adsp = np.append(values_adsp, 100-np.sum(values_adsp)) \n",
    "    height = 0\n",
    "    for i, v in enumerate(values_adsp):\n",
    "        plt.bar(j, v, bottom=height, color=plt.cm.tab10(i))\n",
    "        plt.text(j-0.05, height+v/2-1, str(int(v)))\n",
    "        height = height + v\n",
    "\n",
    "plt.xticks(range(len(MAX_NUMBERS_CONNECTIONS)), MAX_NUMBERS_CONNECTIONS)\n",
    "plt.ylim(0, 100)\n",
    "plt.show()\n",
    "maxdel"
   ]
  },
  {
   "cell_type": "raw",
   "id": "53a1cf02",
   "metadata": {},
   "source": [
    "Estimated rank of state covariance matrix =  100\n",
    "Total score for degree  1  =  6.1456719794468775 (cumulative total =  6.1456719794468775 )\n",
    "Total score for degree  2  =  11.351632366322837 (cumulative total =  17.49730434576971 )\n",
    "Total score for degree  3  =  24.629868642861716 (cumulative total =  42.127172988631415 )\n",
    "Total score for degree  4  =  15.032730238764895 (cumulative total =  57.15990322739631 )\n",
    "Total score for degree  5  =  24.125260033270308 (cumulative total =  81.28516326066651 )\n",
    "Total score for degree  6  =  6.363692469314617 (cumulative total =  87.64885572998114 )\n",
    "Total score for degree  7  =  8.684241820482447 (cumulative total =  96.33309755046362 )\n",
    "Total capacity=96.333 (96.33 percent)\n",
    "\n",
    "Measured  5590  capacities above threshold.\n",
    "Total capacity =  96.33309755046362\n"
   ]
  },
  {
   "cell_type": "code",
   "execution_count": null,
   "id": "5eefde76",
   "metadata": {},
   "outputs": [],
   "source": [
    "\n",
    "delrange = np.arange(1,maxdel+1)\n",
    "totcap = np.sum(V_adsp,axis=1)\n",
    "plt.figure(figsize=(3,4))\n",
    "plt.semilogy(delrange,V_adsp[:,0],llabel='Linear')\n",
    "plt.plot(delrange,V_adsp[:,1],label='Qadratic')\n",
    "plt.plot(delrange,V_adsp[:,2],label='Qubic')\n",
    "plt.plot(delrange,V_adsp[:,3],label='4')\n",
    "plt.plot(delrange,V_adsp[:,4],label='5')\n",
    "\n",
    "# legend_elements = [plt.Line2D([0], [0], color='tab:blue', label='linear'),\n",
    "#                    plt.Line2D([0], [0], color='tab:orange', label='Qadratic'),\n",
    "#                    plt.Line2D([0], [0], color='tab:green', label='Qubic'),\n",
    "#                    plt.Line2D([0], [0], color='tab:red', label='4'),\n",
    "#                    plt.Line2D([0], [0], color='tab:purple', label='5'),\n",
    "#                    plt.Line2D([0], [0], color='tab:brown', label='6'),\n",
    "#                    plt.Line2D([0], [0], color='tab:pink', label='7'),\n",
    "#                    plt.Line2D([0], [0], color='tab:gray', label='8 and above')]\n",
    "\n",
    "\n",
    "plt.xlabel('Maximal delay')\n",
    "# plt.legend(handles=legend_elements, loc='upper center', bbox_to_anchor=(0.1,1.6))\n",
    "plt.show()"
   ]
  },
  {
   "cell_type": "markdown",
   "id": "b42afa46",
   "metadata": {},
   "source": [
    "#### Comparaison"
   ]
  },
  {
   "cell_type": "code",
   "execution_count": null,
   "id": "6ecb48b4",
   "metadata": {},
   "outputs": [],
   "source": [
    "print(values)\n",
    "print(values_adsp)"
   ]
  },
  {
   "cell_type": "code",
   "execution_count": null,
   "id": "a07501a8",
   "metadata": {},
   "outputs": [],
   "source": [
    "plt.figure(figsize=(2,4))\n",
    "\n",
    "values = np.sum(V, axis=0)\n",
    "values = np.append(values, 100-np.sum(values)) \n",
    "values_adsp = np.sum(V_adsp, axis=0)\n",
    "values_adsp = np.append(values_adsp, 100-np.sum(values_adsp)) \n",
    "\n",
    "height = 0\n",
    "for i, v in enumerate(values):\n",
    "    plt.bar(0, v, bottom=height, color=plt.cm.tab10(i))\n",
    "    height = height + v\n",
    "\n",
    "height = 0\n",
    "for i, v in enumerate(values_adsp):\n",
    "    plt.bar(1, v, bottom=height, color=plt.cm.tab10(i))\n",
    "    height = height + v\n",
    "\n",
    "plt.xticks([0, 1], ('normal', 'adsp'))\n",
    "plt.ylim(0, 100)\n",
    "plt.gca().spines['top'].set_visible(False)\n",
    "plt.gca().spines['right'].set_visible(False)\n",
    "plt.show()"
   ]
  },
  {
   "cell_type": "code",
   "execution_count": null,
   "id": "de03efeb",
   "metadata": {},
   "outputs": [],
   "source": [
    "plt.figure(figsize=(4,3))\n",
    "\n",
    "plt.plot(range(12),V[0:12,0],label='random', color=\"blue\", marker=\"X\")\n",
    "plt.plot(range(12),V_adsp[0:12,0],label='ADSP', marker=\".\")\n",
    "plt.grid()\n",
    "plt.xlabel('Delay')\n",
    "plt.ylabel('Capacity')\n",
    "plt.gca().spines['top'].set_visible(False)\n",
    "plt.gca().spines['right'].set_visible(False)\n",
    "plt.legend()\n"
   ]
  },
  {
   "cell_type": "markdown",
   "id": "55ba0677",
   "metadata": {
    "heading_collapsed": true,
    "tags": []
   },
   "source": [
    "### Spectral radius"
   ]
  },
  {
   "cell_type": "code",
   "execution_count": null,
   "id": "90bcbcf5",
   "metadata": {},
   "outputs": [],
   "source": [
    "eigen_adsp = sparse.linalg.eigs(W_ee_adsp, k=1, which=\"LM\", maxiter=W_ee_adsp.shape[0] * 20, tol=0.1, return_eigenvectors=False)\n",
    "sr_adsp = max(abs(eigen_adsp))\n",
    "sr_adsp"
   ]
  },
  {
   "cell_type": "code",
   "execution_count": null,
   "id": "4f1220ef",
   "metadata": {},
   "outputs": [],
   "source": [
    "eigen_w = sparse.linalg.eigs(W_ee_w, k=1, which=\"LM\", maxiter=W_ee_w.shape[0] * 20, tol=0.1, return_eigenvectors=False)\n",
    "sr_w = max(abs(eigen_w))\n",
    "sr_w"
   ]
  },
  {
   "cell_type": "markdown",
   "id": "ee5ae39c",
   "metadata": {},
   "source": [
    "### Uncoupled dynamics\n",
    "\n",
    "number of the principal components (i.e. orthogonal diretions of variability) that are able to explain the most of the variance in the reservoir state space\n",
    "\n",
    "https://arxiv.org/pdf/1903.05174.pdf\n",
    "\n",
    "$$ UD =  \\underset{d}{\\arg\\min} \\{ \\sum\\limits_{k=1}^d R_k|\\sum\\limits_{k=1}^dR_k ≥ A\\}$$\n",
    "\n",
    "with  $R_k = \\frac{σ_k}{\\sum\\limits_{j=1}^{N_R}σ_j} $"
   ]
  },
  {
   "cell_type": "code",
   "execution_count": null,
   "id": "7eea389d",
   "metadata": {
    "ExecuteTime": {
     "end_time": "2022-06-10T09:31:36.545366Z",
     "start_time": "2022-06-10T09:31:36.545356Z"
    },
    "hidden": true,
    "init_cell": true
   },
   "outputs": [],
   "source": [
    "from analysis.metrics import uncoupled_dynamics\n",
    "from reservoirpy.datasets import mackey_glass\n",
    "from reservoirpy.observables import nrmse, rsquare\n",
    "\n",
    "timesteps = 20000\n",
    "warmup_steps = 500\n",
    "steps = timesteps + warmup_steps\n",
    "tau = 17\n",
    "# X = mackey_glass(steps, tau=tau)\n",
    "X = 2.0*np.random.rand(steps,1)-1.0\n",
    "# rescale between -1 and 1\n",
    "inputs = 2 * (X - X.min()) / (X.max() - X.min()) - 1\n",
    "\n",
    "## Calculous for simple RNN\n",
    "state_e = last_state_e\n",
    "state_i = last_state_i\n",
    "history_e = []\n",
    "for i in range(steps):\n",
    "    state_e, state_i = update_ei_reservoir(W_ee_w, W_ie, W_ei, Win_e, inputs[i], state_e, state_i, leaky_rate, bias_e, bias_i, activation_function)\n",
    "    history_e.append(state_e)\n",
    "history_e = np.array(history_e)[warmup_steps:]\n",
    "UD = uncoupled_dynamics(history_e, temp = 5000, A= 0.9)\n",
    "print(UD)\n",
    "\n",
    "## Calculous for adsp RNN\n",
    "state_e_adsp = last_state_e\n",
    "state_i_adsp = last_state_i\n",
    "history_e_adsp = []\n",
    "for i in range(steps):\n",
    "    state_e_adsp, state_i_adsp = update_ei_reservoir(W_ee_adsp, W_ie_adsp, W_ei_adsp, Win_e, inputs[i], state_e_adsp, state_i_adsp, leaky_rate, bias_e, bias_i, activation_function)\n",
    "    history_e_adsp.append(state_e_adsp)\n",
    "history_e_adsp = np.array(history_e_adsp)[warmup_steps:]\n",
    "UD_adsp = uncoupled_dynamics(history_e_adsp, temp = 5000, A= 0.9)\n",
    "\n",
    "print(UD_adsp)\n"
   ]
  },
  {
   "cell_type": "markdown",
   "id": "7f7a521f",
   "metadata": {},
   "source": [
    "### Pearson coeffcients\n",
    "\n",
    "$$ corr(x_i(t), x_k(t+1))) = \\frac{\\sum\\limits_{t=1}^{T-1}{(x_i(t)-\\bar{x_i})(x_k(t)-\\bar{x_k})}} {\\sqrt{\\sum\\limits_{t=1}^{T-1}{(x_i(t)-\\bar{x_i})^2}}\\sqrt{\\sum\\limits_{t=1}^{T-1}{(x_k(t)-\\bar{x_k})^2}}} $$"
   ]
  },
  {
   "cell_type": "code",
   "execution_count": null,
   "id": "6da018a2",
   "metadata": {},
   "outputs": [],
   "source": [
    "from analysis.metrics import pearson_matrix\n",
    "\n",
    "plt.figure(figsize=(12,4))\n",
    "\n",
    "ax0 = plt.subplot2grid((1, 2), (0, 0), colspan=1, rowspan=1)\n",
    "Pearson = pearson_matrix(history_e[:20000,])\n",
    "heatmap(Pearson)\n",
    "\n",
    "ax1 = plt.subplot2grid((1, 2), (0, 1), colspan=1, rowspan=1)\n",
    "Pearson = pearson_matrix(history_e_adsp[:20000,])\n",
    "heatmap(Pearson)"
   ]
  },
  {
   "cell_type": "markdown",
   "id": "c7ce3585",
   "metadata": {},
   "source": [
    "The mean Pearson coefficient is given by\n",
    "\n",
    "$$ \\bar{Corr} = \\frac{1}{N^2} \\sum\\limits_{i=1}^{N}\\sum\\limits_{k=1}^{N}corr(x_i(t), x_k(t+1)) $$"
   ]
  },
  {
   "cell_type": "code",
   "execution_count": null,
   "id": "634bf1c5",
   "metadata": {},
   "outputs": [],
   "source": [
    "print(np.mean(pearson_matrix(history_e[:20000,])))\n",
    "print(np.mean(pearson_matrix(history_e_adsp[:20000,])))"
   ]
  },
  {
   "cell_type": "markdown",
   "id": "68bc6afa",
   "metadata": {},
   "source": [
    "### Average State Entropy\n",
    "\n",
    "efficient estimator of Renyi’s quadratic entropy \n",
    "\n",
    "https://arxiv.org/pdf/1903.05174.pdf\n",
    "\n",
    "https://www.researchgate.net/publication/2818138_Information-Theoretic_Learning_Using_Renyi's_Quadratic_Entropy4\n",
    "\n",
    "*\"H(t) which is the sum of all pairs of interactions can be regarded as an overall potential energy of the data set. We will call this potential energy an information potential (IP). So **maximizing entropy** becomes equivalent to **minimizing information potential**\"*\n"
   ]
  },
  {
   "cell_type": "markdown",
   "id": "ae9609bb",
   "metadata": {},
   "source": [
    "https://ia800704.us.archive.org/view_archive.php?archive=/24/items/wikipedia-scholarly-sources-corpus/10.1162.zip&file=10.1162%252Fneco.2007.19.1.111.pdf\n"
   ]
  },
  {
   "cell_type": "markdown",
   "id": "afb21afd",
   "metadata": {},
   "source": [
    "\n",
    "$$H(t) = −log( \\frac{1}{N_R^2}\\sum\\limits_{j=1}^{N_R}(\\sum\\limits_{i=1}^{N_R}G _{0.3}(x_j(t) - x_i (t))))$$"
   ]
  },
  {
   "cell_type": "code",
   "execution_count": null,
   "id": "274599cb",
   "metadata": {},
   "outputs": [],
   "source": [
    "from analysis.metrics import renyi_entropy"
   ]
  },
  {
   "cell_type": "code",
   "execution_count": null,
   "id": "389a3e74",
   "metadata": {},
   "outputs": [],
   "source": [
    "print(np.mean(renyi_entropy(history_e[:20000,])))\n",
    "print(\"adsp\", np.mean(renyi_entropy(history_e_adsp[:20000,])))"
   ]
  },
  {
   "cell_type": "markdown",
   "id": "4c8818bc",
   "metadata": {
    "tags": []
   },
   "source": [
    "## Topology"
   ]
  },
  {
   "cell_type": "code",
   "execution_count": null,
   "id": "f3feb6b4",
   "metadata": {},
   "outputs": [],
   "source": [
    "%matplotlib inline\n",
    "%matplotlib --list"
   ]
  },
  {
   "cell_type": "code",
   "execution_count": null,
   "id": "512e9166",
   "metadata": {
    "tags": []
   },
   "outputs": [],
   "source": [
    "from analysis.topology import create_network, draw_network\n",
    "\n",
    "g = create_network(W_ee_w, Win_e)\n",
    "draw_network(g, n_e)"
   ]
  },
  {
   "cell_type": "code",
   "execution_count": null,
   "id": "98c3f8f9",
   "metadata": {},
   "outputs": [],
   "source": [
    "g = create_network(W_ee_adsp)\n",
    "draw_network(g, n_e)"
   ]
  },
  {
   "cell_type": "markdown",
   "id": "62212ab2",
   "metadata": {},
   "source": [
    "### Connexion number histogram"
   ]
  },
  {
   "cell_type": "code",
   "execution_count": null,
   "id": "76d41126",
   "metadata": {},
   "outputs": [],
   "source": [
    "# Incoming connexions histogram\n",
    "def plot_incoming_co_histogram(W_ee, W_ei, W_ie, ax=None):\n",
    "    connections_ee = np.sum(np.where(W_ee <= 0, W_ee, 1), axis=1)\n",
    "    connections_ie = np.sum(np.where(W_ie <= 0, W_ie, 1), axis=1)\n",
    "    incoming_co = connections_ee + connections_ie\n",
    "#    print(incoming_co)\n",
    "    n_bins = int(np.max(incoming_co)+1)\n",
    "    if ax == None:\n",
    "        plt.figure()\n",
    "        ax = plt\n",
    "    ax.hist(incoming_co, bins=n_bins, ec=\"yellow\")\n",
    "\n",
    "# Incoming connexions histogram\n",
    "def plot_outcoming_co_histogram(W_ee, W_ei, W_ie, ax=ax1):\n",
    "    connections_ee = np.sum(np.where(W_ee <= 0, W_ee, 1), axis=0)\n",
    "    connections_ie = np.sum(np.where(W_ei <= 0, W_ei, 1), axis=0)\n",
    "    incoming_co = connections_ee + connections_ie\n",
    "#    print(incoming_co)\n",
    "    n_bins = int(np.max(incoming_co)+1)\n",
    "    if ax == None:\n",
    "        plt.figure()\n",
    "        ax = plt\n",
    "    ax.hist(incoming_co, bins=n_bins, ec=\"yellow\")\n",
    "\n",
    "fig = plt.figure(figsize=(16,8))\n",
    "\n",
    "gs = fig.add_gridspec(2, 2)\n",
    "ax1 = fig.add_subplot(gs[0, 0])\n",
    "plot_incoming_co_histogram(W_ee.A, W_ei.A, W_ie.A, ax=ax1)\n",
    "ax1.set_ylabel(\"connexions before adsp\")\n",
    "ax1.set_title(\"Incoming connexions\")\n",
    "\n",
    "\n",
    "ax2 = fig.add_subplot(gs[0, 1])\n",
    "plot_outcoming_co_histogram(W_ee.A, W_ei.A, W_ie.A, ax=ax2)\n",
    "ax2.set_title(\"Outcoming connexions\")\n",
    "\n",
    "ax3 = fig.add_subplot(gs[1, 0])\n",
    "plot_incoming_co_histogram(W_ee_adsp.A, W_ei_adsp.A, W_ie_adsp.A, ax=ax3)\n",
    "ax3.set_ylabel(\"connexions after adsp\")\n",
    "\n",
    "ax4 = fig.add_subplot(gs[1, 1])\n",
    "plot_outcoming_co_histogram(W_ee_adsp.A, W_ei_adsp.A, W_ie_adsp.A, ax=ax4)\n"
   ]
  },
  {
   "cell_type": "code",
   "execution_count": null,
   "id": "a368b427",
   "metadata": {},
   "outputs": [],
   "source": [
    "from graph_tool.all import GraphView, corr_hist\n",
    "g = create_network(W_ee_w)\n",
    "\n",
    "gv= GraphView(g, directed=False)\n",
    "h = corr_hist(g, \"out\", \"out\")\n",
    "\n",
    "plt.clf()\n",
    "plt.xlabel(\"Source out-degree\")\n",
    "\n",
    "plt.ylabel(\"Target out-degree\")\n",
    "\n",
    "plt.imshow(h[0].T, interpolation=\"nearest\", origin=\"lower\")\n",
    "\n",
    "plt.colorbar()\n"
   ]
  },
  {
   "cell_type": "markdown",
   "id": "cd9cbebd",
   "metadata": {},
   "source": [
    "### Centrality\n",
    "https://graph-tool.skewed.de/static/doc/centrality.html?highlight=eigentrust#graph_tool.centrality.eigentrust"
   ]
  },
  {
   "cell_type": "markdown",
   "id": "0819a2a9",
   "metadata": {},
   "source": [
    "#### Katz centrality"
   ]
  },
  {
   "cell_type": "code",
   "execution_count": null,
   "id": "fa6914e9",
   "metadata": {},
   "outputs": [],
   "source": [
    "# The Katz centrality is the solution of the nonhomogeneous linear system x = alpha * A * x + betha\n",
    "# https://en.wikipedia.org/wiki/Katz_centrality\n",
    "# https://graph-tool.skewed.de/static/doc/centrality.html#graph_tool.centrality.katz\n",
    "from graph_tool.all import katz, graph_draw, prop_to_size, arf_layout\n",
    "import matplotlib\n",
    "\n",
    "g = create_network(W_ee_w)\n",
    "\n",
    "x = katz(g, weight=g.ep[\"edge_pen_weight\"])\n",
    "pos = arf_layout(g)\n",
    "\n",
    "graph_draw(g, pos=pos, vertex_fill_color=x,\n",
    "              vertex_size=prop_to_size(x, mi=5, ma=15),\n",
    "              vcmap=matplotlib.cm.gist_heat,\n",
    "              vorder=x)"
   ]
  },
  {
   "cell_type": "markdown",
   "id": "9ce470d6",
   "metadata": {},
   "source": [
    "#### EigenTrust"
   ]
  },
  {
   "cell_type": "code",
   "execution_count": null,
   "id": "de606bbb",
   "metadata": {},
   "outputs": [],
   "source": [
    "# The Katz centrality is the solution of the nonhomogeneous linear system x = alpha * A * x + betha\n",
    "# https://en.wikipedia.org/wiki/EigenTrust\n",
    "# https://graph-tool.skewed.de/static/doc/centrality.html?highlight=eigentrust#graph_tool.centrality.eigentrust\n",
    "from graph_tool.all import eigentrust, graph_draw, prop_to_size\n",
    "import matplotlib\n",
    "\n",
    "g = create_network(W_ee_w)\n",
    "\n",
    "t = eigentrust(g, g.ep[\"edge_pen_weight\"])\n",
    "pos = arf_layout(g)\n",
    "\n",
    "graph_draw(g, pos=pos, vertex_fill_color=t,\n",
    "              vertex_size=prop_to_size(t, mi=5, ma=15),\n",
    "              vcmap=matplotlib.cm.gist_heat,\n",
    "              vorder=t)"
   ]
  },
  {
   "cell_type": "markdown",
   "id": "0fe5d83f",
   "metadata": {},
   "source": [
    "### Shortest path"
   ]
  },
  {
   "cell_type": "code",
   "execution_count": null,
   "id": "8ba6b672",
   "metadata": {},
   "outputs": [],
   "source": [
    "from graph_tool.all import count_shortest_paths\n",
    "\n",
    "g = create_network(W_ee_w)\n",
    "n_paths = count_shortest_paths(g, 12, 35)\n",
    "\n",
    "print(n_paths)"
   ]
  },
  {
   "cell_type": "markdown",
   "id": "307265a9",
   "metadata": {},
   "source": [
    "### Correlation\n",
    "https://graph-tool.skewed.de/static/doc/correlations.html#graph_tool.correlations.corr_hist"
   ]
  },
  {
   "cell_type": "code",
   "execution_count": null,
   "id": "6ecb2b48",
   "metadata": {},
   "outputs": [],
   "source": [
    "from graph_tool.all import GraphView, assortativity, scalar_assortativity\n",
    "g = create_network(W_ee_w)\n",
    "\n",
    "# Return the assortativity coefficient, and its variance.\n",
    "gv= GraphView(g, directed=False)\n",
    "print(assortativity(gv, \"out\"))\n",
    "print(scalar_assortativity(gv, \"out\"))"
   ]
  },
  {
   "cell_type": "code",
   "execution_count": null,
   "id": "85f32664",
   "metadata": {},
   "outputs": [],
   "source": []
  },
  {
   "cell_type": "code",
   "execution_count": null,
   "id": "f51f5f51",
   "metadata": {},
   "outputs": [],
   "source": []
  }
 ],
 "metadata": {
  "kernelspec": {
   "display_name": "hadsp_env",
   "language": "python",
   "name": "hadsp_env"
  },
  "language_info": {
   "codemirror_mode": {
    "name": "ipython",
    "version": 3
   },
   "file_extension": ".py",
   "mimetype": "text/x-python",
   "name": "python",
   "nbconvert_exporter": "python",
   "pygments_lexer": "ipython3",
   "version": "3.11.0"
  },
  "toc-autonumbering": true,
  "toc-showcode": false,
  "toc-showmarkdowntxt": false
 },
 "nbformat": 4,
 "nbformat_minor": 5
}
