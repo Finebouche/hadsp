{
 "cells": [
  {
   "cell_type": "code",
   "execution_count": null,
   "id": "88f790cf",
   "metadata": {
    "jupyter": {
     "is_executing": true
    },
    "tags": []
   },
   "outputs": [],
   "source": [
    "import numpy as np\n",
    "\n",
    "from matplotlib import pyplot as plt\n",
    "\n",
    "SEED = 923984"
   ]
  },
  {
   "cell_type": "markdown",
   "id": "eb44384e-7cbc-4611-a015-e1c073f61aa9",
   "metadata": {},
   "source": [
    "# Datasets loading\n",
    "\n",
    "Lots of different on availabale : https://towardsdatascience.com/a-data-lakes-worth-of-audio-datasets-b45b88cd4ad\n",
    "\n",
    "Regression : http://tseregression.org/ + https://arxiv.org/pdf/2012.02974"
   ]
  },
  {
   "cell_type": "markdown",
   "id": "a473ab10-185d-4ff3-a11c-b4e6e4ff750d",
   "metadata": {},
   "source": [
    "## Classification"
   ]
  },
  {
   "cell_type": "markdown",
   "id": "16b2d29d-7fff-4032-8b36-559c722818b8",
   "metadata": {},
   "source": [
    "### Aeon\n",
    "\n",
    "\n",
    "https://www.timeseriesclassification.com/dataset.php\n",
    "\n",
    "* SpokenArabicDigits\n",
    "* CatsDogs\n",
    "* LSST"
   ]
  },
  {
   "cell_type": "raw",
   "id": "acf3e3d3-52ac-44d9-b30d-81e142b0d1af",
   "metadata": {
    "execution": {
     "iopub.execute_input": "2024-07-10T18:48:10.250112Z",
     "iopub.status.busy": "2024-07-10T18:48:10.249885Z",
     "iopub.status.idle": "2024-07-10T18:48:13.977986Z",
     "shell.execute_reply": "2024-07-10T18:48:13.977642Z",
     "shell.execute_reply.started": "2024-07-10T18:48:10.250102Z"
    }
   },
   "source": [
    "from aeon.datasets import load_classification\n",
    "from sklearn.preprocessing import LabelEncoder, OneHotEncoder\n",
    "\n",
    "dataset_name = \"CatsDogs\"\n",
    "\n",
    "X_train_unprocessed, Y_train_raw, meta_data = load_classification(dataset_name, return_metadata=True, load_equal_length = False, split=\"train\")\n",
    "X_test_unprocessed, Y_test_raw, meta_data = load_classification(dataset_name, return_metadata=True, load_equal_length = False, split=\"test\")\n",
    "\n",
    "is_instances_classification = True\n",
    "sampling_rate = 10000\n",
    "\n",
    "\n",
    "groups = None\n",
    "\n",
    "X_train_raw = []\n",
    "for x in X_train_unprocessed:\n",
    "    X_train_raw.append(x.T)\n",
    "\n",
    "X_test_raw = []\n",
    "for x in X_test_unprocessed:\n",
    "    X_test_raw.append(x.T)\n",
    "\n",
    "if X_train_raw[0].shape[1] == 1:\n",
    "    is_multivariate = False\n",
    "    use_spectral_representation = False\n",
    "else:\n",
    "    is_multivariate = True\n",
    "    use_spectral_representation = True\n",
    "\n",
    "print(\" Number of instances = \", len(X_train_raw))\n",
    "print(\" Shape of X = \", X_train_raw[0].shape)\n",
    "print(\" Shape of y = \", Y_train_raw.shape)\n",
    "\n",
    "print(\" Meta data = \", meta_data)\n",
    "print(\"Multivariate = \", is_multivariate)\n",
    "\n",
    "le = LabelEncoder()\n",
    "Y_train_raw = le.fit_transform(Y_train_raw).reshape(-1, 1)\n",
    "Y_test = le.transform(Y_test_raw).reshape(-1, 1)\n",
    "\n",
    "# One-hot encode the labels\n",
    "ohe = OneHotEncoder(sparse_output=False)\n",
    "Y_train_raw = ohe.fit_transform(Y_train_raw.reshape(-1, 1))\n",
    "Y_test = ohe.transform(Y_test.reshape(-1, 1))\n"
   ]
  },
  {
   "cell_type": "markdown",
   "id": "9ceb81c7-9923-4fee-a6ed-98a84b3b7b6f",
   "metadata": {},
   "source": [
    "### Torchaudio\n",
    "\n",
    "https://pytorch.org/audio/stable/datasets.html\n"
   ]
  },
  {
   "cell_type": "raw",
   "id": "1ffd4150-5417-404f-9007-6904d195d81e",
   "metadata": {
    "collapsed": false,
    "execution": {
     "iopub.execute_input": "2024-07-08T13:07:51.212570Z",
     "iopub.status.busy": "2024-07-08T13:07:51.212344Z",
     "iopub.status.idle": "2024-07-08T13:09:00.139881Z",
     "shell.execute_reply": "2024-07-08T13:09:00.139209Z",
     "shell.execute_reply.started": "2024-07-08T13:07:51.212561Z"
    },
    "jupyter": {
     "outputs_hidden": false
    }
   },
   "source": [
    "# load dataset using torchaudio\n",
    "from sklearn.model_selection import StratifiedShuffleSplit\n",
    "from torchaudio.datasets import VoxCeleb1Identification, SPEECHCOMMANDS\n",
    "from torch.utils.data import ConcatDataset, random_split, DataLoader\n",
    "from sklearn.preprocessing import LabelEncoder, OneHotEncoder\n",
    "\n",
    "dataset_train = SPEECHCOMMANDS(root=\"datasets/\", download=True, subset=\"training\")\n",
    "dataset_val = SPEECHCOMMANDS(root=\"datasets/\", download=True, subset=\"validation\")\n",
    "dataset_test = SPEECHCOMMANDS(root=\"datasets/\", download=True, subset=\"testing\")\n",
    "\n",
    "sampling_rate = dataset_train[0][1]\n",
    "\n",
    "dataset = ConcatDataset([dataset_train, dataset_val])\n",
    "\n",
    "\n",
    "X_train_raw = [sample[0][0].numpy().reshape(-1, 1) for sample in dataset]\n",
    "Y_train_raw = [sample[2] for sample in dataset]\n",
    "X_test_raw = [sample[0][0].numpy().reshape(-1, 1) for sample in dataset_test]\n",
    "Y_test = [sample[2] for sample in dataset_test]\n",
    "\n",
    "is_multivariate = False\n",
    "use_spectral_representation = False\n",
    "\n",
    "groups = None\n",
    "\n",
    "is_instances_classification = True\n",
    "\n",
    "\n",
    "le = LabelEncoder()\n",
    "Y_train_raw = le.fit_transform(Y_train_raw).reshape(-1, 1)\n",
    "Y_test = le.transform(Y_test).reshape(-1, 1)\n",
    "\n",
    "# One-hot encode the labels\n",
    "ohe = OneHotEncoder(sparse_output=False)\n",
    "Y_train_raw = ohe.fit_transform(Y_train_raw.reshape(-1, 1))\n",
    "Y_test = ohe.transform(Y_test.reshape(-1, 1))\n"
   ]
  },
  {
   "cell_type": "markdown",
   "id": "a94b219b-eb64-4715-b983-7de3c392f088",
   "metadata": {
    "collapsed": false,
    "editable": true,
    "jupyter": {
     "outputs_hidden": false
    },
    "slideshow": {
     "slide_type": ""
    },
    "tags": []
   },
   "source": [
    "### Custom\n",
    "\n",
    "Datasets available :\n",
    "\n",
    "* FSDD\n",
    "* HAART\n",
    "* JapaneseVowels"
   ]
  },
  {
   "cell_type": "raw",
   "id": "8de8a9e8-1c14-47e3-bce5-31f354165d73",
   "metadata": {
    "execution": {
     "iopub.execute_input": "2024-07-25T12:38:18.479941Z",
     "iopub.status.busy": "2024-07-25T12:38:18.479788Z",
     "iopub.status.idle": "2024-07-25T12:38:20.419394Z",
     "shell.execute_reply": "2024-07-25T12:38:20.417383Z",
     "shell.execute_reply.started": "2024-07-25T12:38:18.479924Z"
    }
   },
   "source": [
    "from datasets.load_datasets import load_dataset_classification\n",
    "is_instances_classification = True\n",
    "dataset_name = \"FSDD\"\n",
    "\n",
    "is_multivariate, sampling_rate, X_train_raw, X_test_raw, Y_train_raw, Y_test, groups = load_dataset_classification(dataset_name)\n",
    "use_spectral_representation = False"
   ]
  },
  {
   "cell_type": "markdown",
   "id": "2a8d6272-708d-4709-8e35-5a84268bed64",
   "metadata": {},
   "source": [
    "## Prediction ahead\n",
    "\n",
    "Datasets available :\n",
    "\n",
    "* MackeyGlass\n",
    "* Lorenz"
   ]
  },
  {
   "cell_type": "code",
   "execution_count": null,
   "id": "59e0bf8c-4f99-4758-91b3-e2152ee65ed6",
   "metadata": {
    "scrolled": true
   },
   "outputs": [],
   "source": [
    "from datasets.load_datasets import load_dataset_prediction\n",
    "is_instances_classification = False\n",
    "dataset_name = \"Lorenz\"\n",
    "step_ahead=5\n",
    "\n",
    "is_multivariate, sampling_rate, X_train_raw, X_test_raw, Y_train_raw, Y_test = load_dataset_prediction(dataset_name, step_ahead, visualize=True)\n",
    "use_spectral_representation = False"
   ]
  },
  {
   "cell_type": "markdown",
   "id": "86961904-ad36-4af8-ad21-6d51f491da61",
   "metadata": {},
   "source": [
    "# Activation function"
   ]
  },
  {
   "cell_type": "code",
   "execution_count": null,
   "id": "615a38d2df41a727",
   "metadata": {
    "collapsed": false,
    "jupyter": {
     "outputs_hidden": false
    }
   },
   "outputs": [],
   "source": [
    "from reservoir.activation_functions import tanh, heaviside, sigmoid\n",
    "\n",
    "# the activation function choosen for the rest of the experiment\n",
    "# activation_function = lambda x : sigmoid(2*(x-0.5))tanh(x)\n",
    "activation_function = lambda x : tanh(x)\n",
    "\n",
    "plt.plot(np.linspace(0, 3, 100), activation_function(np.linspace(0, 3, 100)))\n",
    "plt.grid()"
   ]
  },
  {
   "cell_type": "markdown",
   "id": "6f892fb1cccd7511",
   "metadata": {
    "collapsed": false,
    "jupyter": {
     "outputs_hidden": false
    }
   },
   "source": [
    "# Preprocessing"
   ]
  },
  {
   "cell_type": "code",
   "execution_count": null,
   "id": "4fca76d0e06f936c",
   "metadata": {
    "collapsed": false,
    "jupyter": {
     "outputs_hidden": false
    }
   },
   "outputs": [],
   "source": [
    "import math \n",
    " \n",
    "# Cross validation\n",
    "from sklearn.model_selection import StratifiedKFold, TimeSeriesSplit, StratifiedGroupKFold\n",
    "from datasets.preprocessing import flexible_indexing\n",
    "\n",
    "#Preprocessing\n",
    "from datasets.multivariate_generation import generate_multivariate_dataset, extract_peak_frequencies\n",
    "from sklearn.preprocessing import MinMaxScaler\n",
    "from datasets.preprocessing import scale_data\n",
    "from datasets.preprocessing import add_noise, duplicate_data\n",
    "\n",
    "# Define noise parameter\n",
    "noise_std = 0.001\n",
    "\n",
    "\n",
    "data_type = \"normal\" # \"normal\" ou \"noisy\"\n",
    "\n",
    "WINDOW_LENGTH = 10\n",
    "freq_train_data = X_train_raw\n",
    "flat_train_data = np.concatenate(freq_train_data, axis=0) if is_instances_classification else freq_train_data\n",
    "extract_peak_frequencies(flat_train_data, sampling_rate, smooth=True, window_length=WINDOW_LENGTH, threshold=1e-5, nperseg=1024, visualize=True)\n",
    "\n",
    "if is_multivariate:\n",
    "    X_train_band, X_test_band = X_train_raw, X_test_raw\n",
    "    del X_train_raw, X_test_raw\n",
    "    X_val_band = None\n",
    "else:\n",
    "    X_test, X_train = X_test_raw, X_train_raw\n",
    "    X_val, X_val_band = None, None\n",
    "    del X_train_raw, X_test_raw\n",
    "Y_train = Y_train_raw\n",
    "del Y_train_raw\n",
    "        \n",
    "# PREPROCESSING    \n",
    "freq_train_data = X_train_band if is_multivariate else X_train\n",
    "flat_train_data = np.concatenate(freq_train_data, axis=0) if is_instances_classification else freq_train_data\n",
    "peak_freqs = extract_peak_frequencies(flat_train_data, sampling_rate, smooth=True, window_length=WINDOW_LENGTH, threshold=1e-5, nperseg=1024, visualize=False)\n",
    "\n",
    "spectral_representation = None # Can be None, \"stft\" or \"mfcc\"\n",
    "\n",
    "if not is_multivariate:\n",
    "    X_train_band = generate_multivariate_dataset(\n",
    "        X_train, sampling_rate, is_instances_classification, peak_freqs, spectral_representation, hop=100\n",
    "    )\n",
    "    \n",
    "    X_test_band = generate_multivariate_dataset(\n",
    "        X_test, sampling_rate, is_instances_classification, peak_freqs, spectral_representation, hop=100\n",
    "    )\n",
    "elif not use_spectral_representation:\n",
    "    X_train_band = generate_multivariate_dataset(\n",
    "        X_train_band, sampling_rate, is_instances_classification, peak_freqs, spectral_representation, hop=100\n",
    "    )\n",
    "    X_test_band = generate_multivariate_dataset(\n",
    "        X_test_band, sampling_rate, is_instances_classification, peak_freqs, spectral_representation, hop=100\n",
    "    )\n",
    "else:\n",
    "    print(\"Data is already spectral, nothing to do\")\n",
    "    \n",
    "scaler_multi = MinMaxScaler(feature_range=(0, 1))\n",
    "X_train_band, X_val_band, X_test_band = scale_data(X_train_band, X_val_band, X_test_band, scaler_multi, is_instances_classification)\n",
    "            \n",
    "if not is_multivariate:\n",
    "    scaler_x_uni = MinMaxScaler(feature_range=(0, 1))\n",
    "    X_train, X_val, X_test = scale_data(X_train, X_val, X_test, scaler_multi, is_instances_classification)       \n",
    "\n",
    "# NOISE\n",
    "if data_type == \"noisy\":\n",
    "    if is_instances_classification:\n",
    "        # UNI\n",
    "        if not is_multivariate:\n",
    "            X_train_noisy = [add_noise(instance, noise_std) for instance in tqdm(X_train, desc=\"TRAIN\")]\n",
    "            X_test_noisy = [add_noise(instance, noise_std) for instance in tqdm(X_test, desc=\"TEST\")]\n",
    "            \n",
    "        # MULTI\n",
    "        X_train_band_noisy = [add_noise(instance, noise_std) for instance in tqdm(X_train_band, desc=\"TRAIN\")]\n",
    "        X_test_band_noisy = [add_noise(instance, noise_std) for instance in tqdm(X_test_band, desc=\"TEST\")]\n",
    "    \n",
    "    else:  #if prediction\n",
    "        # UNI\n",
    "        if not is_multivariate:\n",
    "            X_train_noisy = add_noise(X_train, noise_std)\n",
    "            X_test_noisy = add_noise(X_test, noise_std)\n",
    "    \n",
    "        # MULTI\n",
    "        X_train_band_noisy = add_noise(X_train_band, noise_std)\n",
    "        X_test_band_noisy = add_noise(X_test_band, noise_std)\n",
    "\n",
    "# Define the number of instances you want to select\n",
    "# Define the number of instances you want to select\n",
    "x_size = len(X_train_band) if is_multivariate else len(X_train)\n",
    "num_samples_for_pretrain = 500 if x_size >= 500 else x_size\n",
    "if is_instances_classification:\n",
    "    indices = np.random.choice(x_size, num_samples_for_pretrain, replace=False)\n",
    "else:\n",
    "    indices = range(x_size)\n",
    "\n",
    "\n",
    "if data_type == \"noisy\":\n",
    "    # Defining pretrain   \n",
    "    if not is_multivariate:\n",
    "        X_pretrain_noisy = np.array(X_train_noisy)[indices]\n",
    "    X_pretrain_band_noisy = np.array(X_train_band_noisy)[indices]\n",
    "\n",
    "if not is_multivariate:\n",
    "    X_pretrain_uni = np.array(X_train)[indices]\n",
    "X_pretrain_band = np.array(X_train_band)[indices]"
   ]
  },
  {
   "cell_type": "markdown",
   "id": "a69c5610-8dad-4d05-8bbb-fa34031d9c9c",
   "metadata": {},
   "source": [
    "# Test data evaluation"
   ]
  },
  {
   "cell_type": "code",
   "execution_count": null,
   "id": "f92b07a8-db33-46d2-a52c-f9ce16a1985d",
   "metadata": {},
   "outputs": [],
   "source": [
    "import optuna\n",
    "import re\n",
    "\n",
    "def camel_to_snake(name):\n",
    "    str1 = re.sub('(.)([A-Z][a-z]+)', r'\\1_\\2', name)\n",
    "    return re.sub('([a-z0-9])([A-Z])', r'\\1_\\2', str1).lower()\n",
    "    \n",
    "function_name = \"random\" # \"desp\" ou \"hadsp\" or \"random\"\n",
    "variate_type = \"multi\" # \"multi\" ou \"uni\"\n",
    "if variate_type == \"uni\" and is_multivariate:\n",
    "    raise ValueError(f\"Invalid variable type: {variate_type}\")\n",
    "    \n",
    "study_name = function_name + \"_\" + dataset_name + \"_\" + data_type + \"_\" + variate_type\n",
    "url= \"sqlite:///optuna_\" + camel_to_snake(dataset_name) + \"_db.sqlite3\"\n",
    "\n",
    "study = optuna.load_study(study_name=study_name, storage=url) # To load an existing study\n",
    "\n",
    "# Get the best trial\n",
    "best_trial = study.best_trial\n",
    "\n",
    "# Print the best hyperparameters\n",
    "print(\"Best hyperparameters: \")\n",
    "# Loop through the hyperparameters and assign them to variables\n",
    "use_full_instance = True if is_instances_classification else False\n",
    "\n",
    "for param_name, param_value in best_trial.params.items():\n",
    "    globals()[param_name] = param_value\n",
    "    print(param_name, param_value)"
   ]
  },
  {
   "cell_type": "code",
   "execution_count": null,
   "id": "f4957e6c-e0cc-4d90-a495-348a8bbab3cd",
   "metadata": {},
   "outputs": [],
   "source": [
    "import random \n",
    "from scipy import sparse\n",
    "\n",
    "#Pretraining\n",
    "from reservoir.reservoir import init_matrices\n",
    "from connexion_generation.hadsp import run_algorithm\n",
    "\n",
    "# Evaluating\n",
    "from performances.esn_model_evaluation import init_and_train_model_for_classification, predict_model_for_classification, compute_score\n",
    "from performances.esn_model_evaluation import init_and_train_model_for_prediction\n",
    "\n",
    "nb_trials = 8\n",
    "nb_jobs = 8\n",
    "\n",
    "# score for prediction\n",
    "start_step, end_step = 30, 500\n",
    "SLICE_RANGE = slice(start_step, end_step)\n",
    "min_reservoir_size = 500\n",
    "min_window_size = sampling_rate/np.max(np.hstack(peak_freqs))\n",
    "max_window_size = sampling_rate/np.min(np.hstack(peak_freqs))\n",
    "RIDGE_COEF = 10**ridge\n",
    "\n",
    "if function_name == \"hadsp\" or function_name == \"desp\":\n",
    "    max_increment_span = int(max_window_size) if int(max_window_size) - 100 < 0 else int(max_window_size) - 100\n",
    "    MAX_TIME_INCREMENT = time_increment + time_increment_span #int(max_window_size) or None or TIME_INCREMENT\n",
    "\n",
    "total_score = 0\n",
    "for i in range(nb_trials):\n",
    "    if variate_type == \"multi\":\n",
    "        if is_instances_classification:\n",
    "            common_index = 1\n",
    "            common_size = X_train_band[0].shape[common_index]\n",
    "        else:\n",
    "            common_index = 1\n",
    "            common_size = X_train_band.shape[common_index]\n",
    "    else:\n",
    "        common_size = len(peak_freqs)\n",
    "        \n",
    "    # We want the size of the reservoir to be at least network_size\n",
    "    K = math.ceil(network_size / common_size)\n",
    "    n = common_size * K\n",
    "\n",
    "    pretrain_data = X_pretrain_band\n",
    "    train_data = X_train_band  # X_train_band_noisy_duplicated or X_train_band_duplicated\n",
    "    test_data = X_test_band\n",
    "\n",
    "    # UNSUPERVISED PRETRAINING \n",
    "    Win, W, bias = init_matrices(n, input_connectivity, connectivity,  K, seed=random.randint(0, 1000))\n",
    "    bias *= bias_scaling\n",
    "    Win *= input_scaling\n",
    "\n",
    "    if function_name == \"hadsp\":\n",
    "        W, (_, _, _) = run_algorithm(W, Win, bias, leaky_rate, activation_function, pretrain_data, time_increment, weight_increment,\n",
    "                             target_rate, rate_spread, function_name, is_instance=is_instances_classification, use_full_instance = use_full_instance, \n",
    "                             max_increment=MAX_TIME_INCREMENT, max_partners=max_partners, method = method, n_jobs = nb_jobs)\n",
    "    elif function_name == \"desp\":\n",
    "        W, (_, _, _) = run_algorithm(W, Win, bias, leaky_rate, activation_function, pretrain_data, time_increment, weight_increment,\n",
    "                                min_variance, variance_spread, function_name, is_instance=is_instances_classification, use_full_instance = use_full_instance, \n",
    "                                max_increment=MAX_TIME_INCREMENT, max_partners=max_partners, method = method, \n",
    "                                intrinsic_saturation=intrinsic_saturation, intrinsic_coef=intrinsic_coef, n_jobs = nb_jobs)\n",
    "    elif function_name == \"random\":\n",
    "        eigen = sparse.linalg.eigs(W, k=1, which=\"LM\", maxiter=W.shape[0] * 20, tol=0.1, return_eigenvectors=False)\n",
    "        W *= spectral_radius / max(abs(eigen))\n",
    "    else:\n",
    "        raise ValueError(f\"Invalid function: {function_name}\")\n",
    "    \n",
    "\n",
    "    # TRAINING and EVALUATION\n",
    "    if is_instances_classification:\n",
    "        reservoir, readout = init_and_train_model_for_classification(W, Win, bias, leaky_rate, activation_function, train_data, Y_train, n_jobs = nb_jobs, ridge_coef=RIDGE_COEF, mode=\"sequence-to-vector\")\n",
    "        \n",
    "        Y_pred = predict_model_for_classification(reservoir, readout, test_data, n_jobs = nb_jobs)\n",
    "        score = compute_score(Y_pred, Y_test, is_instances_classification)\n",
    "    else:\n",
    "        esn = init_and_train_model_for_prediction(W, Win, bias, leaky_rate, activation_function, train_data, Y_train, RIDGE_COEF)\n",
    "        \n",
    "        Y_pred =  esn.run(test_data, reset=False)\n",
    "        score = compute_score(Y_pred, Y_test, is_instances_classification)\n",
    "\n",
    "    total_score += score\n",
    "\n",
    "average_score = total_score / nb_trials  # Average the score\n",
    "\n",
    "if is_instances_classification:\n",
    "    print(average_score*100, \" %\")\n",
    "else:\n",
    "    print(average_score)"
   ]
  },
  {
   "cell_type": "code",
   "execution_count": null,
   "id": "152751e3-1830-4222-8567-c98b514092f1",
   "metadata": {},
   "outputs": [],
   "source": []
  }
 ],
 "metadata": {
  "kernelspec": {
   "display_name": "hadsp_env",
   "language": "python",
   "name": "hadsp_env"
  },
  "language_info": {
   "codemirror_mode": {
    "name": "ipython",
    "version": 3
   },
   "file_extension": ".py",
   "mimetype": "text/x-python",
   "name": "python",
   "nbconvert_exporter": "python",
   "pygments_lexer": "ipython3",
   "version": "3.11.0"
  }
 },
 "nbformat": 4,
 "nbformat_minor": 5
}
