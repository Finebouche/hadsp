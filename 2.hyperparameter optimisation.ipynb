{
 "cells": [
  {
   "cell_type": "code",
   "execution_count": null,
   "id": "88f790cf",
   "metadata": {
    "jupyter": {
     "is_executing": true
    },
    "tags": []
   },
   "outputs": [],
   "source": [
    "import numpy as np\n",
    "from joblib import Parallel, delayed\n",
    "from tqdm import tqdm\n",
    "\n",
    "from matplotlib import pyplot as plt\n",
    "\n",
    "SEED = 923984"
   ]
  },
  {
   "cell_type": "markdown",
   "id": "eb44384e-7cbc-4611-a015-e1c073f61aa9",
   "metadata": {},
   "source": [
    "# Datasets loading\n",
    "\n",
    "Lots of different on availabale : https://towardsdatascience.com/a-data-lakes-worth-of-audio-datasets-b45b88cd4ad\n",
    "\n",
    "Review: \n",
    "https://arxiv.org/abs/2012.02974\n",
    "\n",
    "Regression : http://tseregression.org/ + https://arxiv.org/pdf/2012.02974"
   ]
  },
  {
   "cell_type": "markdown",
   "id": "2a8d6272-708d-4709-8e35-5a84268bed64",
   "metadata": {},
   "source": [
    "## Prediction ahead\n",
    "\n",
    "Datasets available :\n",
    "\n",
    "\n",
    "* MackeyGlass\n",
    "* Lorenz\n",
    "* Sunspot"
   ]
  },
  {
   "cell_type": "code",
   "execution_count": null,
   "id": "d51c0238-e4c8-44e3-b93a-0ab2ad3691d5",
   "metadata": {
    "scrolled": true
   },
   "outputs": [],
   "source": [
    "from datasets.load_prediction import load_dataset_prediction\n",
    "is_instances_classification = False\n",
    "dataset_name = \"Sunspot\"\n",
    "step_ahead=5\n",
    "\n",
    "is_multivariate, sampling_rate, X_train_raw, X_test_raw, Y_train_raw, Y_test = load_dataset_prediction(dataset_name, step_ahead, visualize=True)\n",
    "use_spectral_representation = False\n",
    "spectral_representation = None # Can be None, \"stft\" or \"mfcc\"\n"
   ]
  },
  {
   "cell_type": "markdown",
   "id": "62039e22-856b-470e-9375-b4295e586564",
   "metadata": {},
   "source": [
    "## Classification"
   ]
  },
  {
   "cell_type": "markdown",
   "id": "16b2d29d-7fff-4032-8b36-559c722818b8",
   "metadata": {},
   "source": [
    "### Aeon\n",
    "\n",
    "https://www.timeseriesclassification.com/dataset.php\n",
    "\n",
    "* SpokenArabicDigits\n",
    "* CatsDogs\n",
    "* LSST"
   ]
  },
  {
   "cell_type": "code",
   "execution_count": 1,
   "id": "8d4ff444-2f3d-4e84-bda5-fae897974707",
   "metadata": {
    "execution": {
     "iopub.execute_input": "2024-10-03T10:42:07.202255Z",
     "iopub.status.busy": "2024-10-03T10:42:07.201736Z",
     "iopub.status.idle": "2024-10-03T10:43:45.609717Z",
     "shell.execute_reply": "2024-10-03T10:43:45.609266Z",
     "shell.execute_reply.started": "2024-10-03T10:42:07.202222Z"
    }
   },
   "outputs": [
    {
     "ename": "IncompleteRead",
     "evalue": "IncompleteRead(36467456 bytes read, 17612995 more expected)",
     "output_type": "error",
     "traceback": [
      "\u001b[0;31m---------------------------------------------------------------------------\u001b[0m",
      "\u001b[0;31mIncompleteRead\u001b[0m                            Traceback (most recent call last)",
      "Cell \u001b[0;32mIn[1], line 6\u001b[0m\n\u001b[1;32m      2\u001b[0m \u001b[38;5;28;01mfrom\u001b[39;00m \u001b[38;5;21;01msklearn\u001b[39;00m\u001b[38;5;21;01m.\u001b[39;00m\u001b[38;5;21;01mpreprocessing\u001b[39;00m \u001b[38;5;28;01mimport\u001b[39;00m LabelEncoder, OneHotEncoder\n\u001b[1;32m      4\u001b[0m dataset_name \u001b[38;5;241m=\u001b[39m \u001b[38;5;124m\"\u001b[39m\u001b[38;5;124mCatsDogs\u001b[39m\u001b[38;5;124m\"\u001b[39m\n\u001b[0;32m----> 6\u001b[0m X_train_unprocessed, Y_train_raw, meta_data \u001b[38;5;241m=\u001b[39m \u001b[43mload_classification\u001b[49m\u001b[43m(\u001b[49m\u001b[43mdataset_name\u001b[49m\u001b[43m,\u001b[49m\u001b[43m \u001b[49m\u001b[43mreturn_metadata\u001b[49m\u001b[38;5;241;43m=\u001b[39;49m\u001b[38;5;28;43;01mTrue\u001b[39;49;00m\u001b[43m,\u001b[49m\u001b[43m \u001b[49m\u001b[43mload_equal_length\u001b[49m\u001b[43m \u001b[49m\u001b[38;5;241;43m=\u001b[39;49m\u001b[43m \u001b[49m\u001b[38;5;28;43;01mFalse\u001b[39;49;00m\u001b[43m,\u001b[49m\u001b[43m \u001b[49m\u001b[43msplit\u001b[49m\u001b[38;5;241;43m=\u001b[39;49m\u001b[38;5;124;43m\"\u001b[39;49m\u001b[38;5;124;43mtrain\u001b[39;49m\u001b[38;5;124;43m\"\u001b[39;49m\u001b[43m)\u001b[49m\n\u001b[1;32m      7\u001b[0m X_test_unprocessed, Y_test_raw, meta_data \u001b[38;5;241m=\u001b[39m load_classification(dataset_name, return_metadata\u001b[38;5;241m=\u001b[39m\u001b[38;5;28;01mTrue\u001b[39;00m, load_equal_length \u001b[38;5;241m=\u001b[39m \u001b[38;5;28;01mFalse\u001b[39;00m, split\u001b[38;5;241m=\u001b[39m\u001b[38;5;124m\"\u001b[39m\u001b[38;5;124mtest\u001b[39m\u001b[38;5;124m\"\u001b[39m)\n\u001b[1;32m      9\u001b[0m is_instances_classification \u001b[38;5;241m=\u001b[39m \u001b[38;5;28;01mTrue\u001b[39;00m\n",
      "File \u001b[0;32m/opt/homebrew/Caskroom/miniforge/base/envs/hadsp_env/lib/python3.11/site-packages/aeon/datasets/_data_loaders.py:1371\u001b[0m, in \u001b[0;36mload_classification\u001b[0;34m(name, split, extract_path, return_metadata, load_equal_length, load_no_missing)\u001b[0m\n\u001b[1;32m   1369\u001b[0m \u001b[38;5;28;01melse\u001b[39;00m:\n\u001b[1;32m   1370\u001b[0m     \u001b[38;5;28;01mtry\u001b[39;00m:\n\u001b[0;32m-> 1371\u001b[0m         \u001b[43m_download_and_extract\u001b[49m\u001b[43m(\u001b[49m\n\u001b[1;32m   1372\u001b[0m \u001b[43m            \u001b[49m\u001b[43murl\u001b[49m\u001b[43m,\u001b[49m\n\u001b[1;32m   1373\u001b[0m \u001b[43m            \u001b[49m\u001b[43mextract_path\u001b[49m\u001b[38;5;241;43m=\u001b[39;49m\u001b[43mextract_path\u001b[49m\u001b[43m,\u001b[49m\n\u001b[1;32m   1374\u001b[0m \u001b[43m        \u001b[49m\u001b[43m)\u001b[49m\n\u001b[1;32m   1375\u001b[0m     \u001b[38;5;28;01mexcept\u001b[39;00m zipfile\u001b[38;5;241m.\u001b[39mBadZipFile:\n\u001b[1;32m   1376\u001b[0m         try_zenodo \u001b[38;5;241m=\u001b[39m \u001b[38;5;28;01mTrue\u001b[39;00m\n",
      "File \u001b[0;32m/opt/homebrew/Caskroom/miniforge/base/envs/hadsp_env/lib/python3.11/site-packages/aeon/datasets/_data_loaders.py:471\u001b[0m, in \u001b[0;36m_download_and_extract\u001b[0;34m(url, extract_path)\u001b[0m\n\u001b[1;32m    469\u001b[0m \u001b[38;5;28;01mwith\u001b[39;00m urlopen(url, timeout\u001b[38;5;241m=\u001b[39m\u001b[38;5;241m60\u001b[39m) \u001b[38;5;28;01mas\u001b[39;00m response:\n\u001b[1;32m    470\u001b[0m     \u001b[38;5;28;01mwith\u001b[39;00m \u001b[38;5;28mopen\u001b[39m(zip_file_name, \u001b[38;5;124m\"\u001b[39m\u001b[38;5;124mwb\u001b[39m\u001b[38;5;124m\"\u001b[39m) \u001b[38;5;28;01mas\u001b[39;00m out_file:\n\u001b[0;32m--> 471\u001b[0m         out_file\u001b[38;5;241m.\u001b[39mwrite(\u001b[43mresponse\u001b[49m\u001b[38;5;241;43m.\u001b[39;49m\u001b[43mread\u001b[49m\u001b[43m(\u001b[49m\u001b[43m)\u001b[49m)\n\u001b[1;32m    472\u001b[0m \u001b[38;5;28;01mif\u001b[39;00m extract_path \u001b[38;5;129;01mis\u001b[39;00m \u001b[38;5;28;01mNone\u001b[39;00m:\n\u001b[1;32m    473\u001b[0m     extract_path \u001b[38;5;241m=\u001b[39m os\u001b[38;5;241m.\u001b[39mpath\u001b[38;5;241m.\u001b[39mjoin(MODULE, \u001b[38;5;124m\"\u001b[39m\u001b[38;5;124mlocal_data/\u001b[39m\u001b[38;5;132;01m%s\u001b[39;00m\u001b[38;5;124m/\u001b[39m\u001b[38;5;124m\"\u001b[39m \u001b[38;5;241m%\u001b[39m file_name\u001b[38;5;241m.\u001b[39msplit(\u001b[38;5;124m\"\u001b[39m\u001b[38;5;124m.\u001b[39m\u001b[38;5;124m\"\u001b[39m)[\u001b[38;5;241m0\u001b[39m])\n",
      "File \u001b[0;32m/opt/homebrew/Caskroom/miniforge/base/envs/hadsp_env/lib/python3.11/http/client.py:489\u001b[0m, in \u001b[0;36mHTTPResponse.read\u001b[0;34m(self, amt)\u001b[0m\n\u001b[1;32m    487\u001b[0m \u001b[38;5;28;01melse\u001b[39;00m:\n\u001b[1;32m    488\u001b[0m     \u001b[38;5;28;01mtry\u001b[39;00m:\n\u001b[0;32m--> 489\u001b[0m         s \u001b[38;5;241m=\u001b[39m \u001b[38;5;28;43mself\u001b[39;49m\u001b[38;5;241;43m.\u001b[39;49m\u001b[43m_safe_read\u001b[49m\u001b[43m(\u001b[49m\u001b[38;5;28;43mself\u001b[39;49m\u001b[38;5;241;43m.\u001b[39;49m\u001b[43mlength\u001b[49m\u001b[43m)\u001b[49m\n\u001b[1;32m    490\u001b[0m     \u001b[38;5;28;01mexcept\u001b[39;00m IncompleteRead:\n\u001b[1;32m    491\u001b[0m         \u001b[38;5;28mself\u001b[39m\u001b[38;5;241m.\u001b[39m_close_conn()\n",
      "File \u001b[0;32m/opt/homebrew/Caskroom/miniforge/base/envs/hadsp_env/lib/python3.11/http/client.py:640\u001b[0m, in \u001b[0;36mHTTPResponse._safe_read\u001b[0;34m(self, amt)\u001b[0m\n\u001b[1;32m    638\u001b[0m data \u001b[38;5;241m=\u001b[39m \u001b[38;5;28mself\u001b[39m\u001b[38;5;241m.\u001b[39mfp\u001b[38;5;241m.\u001b[39mread(amt)\n\u001b[1;32m    639\u001b[0m \u001b[38;5;28;01mif\u001b[39;00m \u001b[38;5;28mlen\u001b[39m(data) \u001b[38;5;241m<\u001b[39m amt:\n\u001b[0;32m--> 640\u001b[0m     \u001b[38;5;28;01mraise\u001b[39;00m IncompleteRead(data, amt\u001b[38;5;241m-\u001b[39m\u001b[38;5;28mlen\u001b[39m(data))\n\u001b[1;32m    641\u001b[0m \u001b[38;5;28;01mreturn\u001b[39;00m data\n",
      "\u001b[0;31mIncompleteRead\u001b[0m: IncompleteRead(36467456 bytes read, 17612995 more expected)"
     ]
    }
   ],
   "source": [
    "from aeon.datasets import load_classification\n",
    "from sklearn.preprocessing import LabelEncoder, OneHotEncoder\n",
    "\n",
    "dataset_name = \"CatsDogs\"\n",
    "\n",
    "X_train_unprocessed, Y_train_raw, meta_data = load_classification(dataset_name, return_metadata=True, load_equal_length = False, split=\"train\")\n",
    "X_test_unprocessed, Y_test_raw, meta_data = load_classification(dataset_name, return_metadata=True, load_equal_length = False, split=\"test\")\n",
    "\n",
    "is_instances_classification = True\n",
    "sampling_rate = 10000\n",
    "\n",
    "groups = None\n",
    "\n",
    "X_train_raw = []\n",
    "for x in X_train_unprocessed:\n",
    "    X_train_raw.append(x.T)\n",
    "\n",
    "X_test_raw = []\n",
    "for x in X_test_unprocessed:\n",
    "    X_test_raw.append(x.T)\n",
    "\n",
    "if X_train_raw[0].shape[1] == 1:\n",
    "    is_multivariate = False\n",
    "    use_spectral_representation = False\n",
    "else:\n",
    "    is_multivariate = True\n",
    "    use_spectral_representation = True\n",
    "\n",
    "spectral_representation = \"mfcc\" # Can be None, \"stft\" or \"mfcc\"\n",
    "\n",
    "print(\" Number of instances = \", len(X_train_raw))\n",
    "print(\" Shape of X = \", X_train_raw[0].shape)\n",
    "print(\" Shape of y = \", Y_train_raw.shape)\n",
    "\n",
    "print(\" Meta data = \", meta_data)\n",
    "print(\"Multivariate = \", is_multivariate)\n",
    "\n",
    "le = LabelEncoder()\n",
    "Y_train_raw = le.fit_transform(Y_train_raw).reshape(-1, 1)\n",
    "Y_test = le.transform(Y_test_raw).reshape(-1, 1)\n",
    "\n",
    "# One-hot encode the labels\n",
    "ohe = OneHotEncoder(sparse_output=False)\n",
    "Y_train_raw = ohe.fit_transform(Y_train_raw.reshape(-1, 1))\n",
    "Y_test = ohe.transform(Y_test.reshape(-1, 1))\n"
   ]
  },
  {
   "cell_type": "markdown",
   "id": "9ceb81c7-9923-4fee-a6ed-98a84b3b7b6f",
   "metadata": {},
   "source": [
    "### Torchaudio\n",
    "\n",
    "https://pytorch.org/audio/stable/datasets.html\n"
   ]
  },
  {
   "cell_type": "code",
   "execution_count": null,
   "id": "767bae36-44ef-4582-9bd8-b8220097e1d8",
   "metadata": {
    "collapsed": false,
    "jupyter": {
     "outputs_hidden": false
    }
   },
   "outputs": [],
   "source": [
    "# load dataset using torchaudio\n",
    "from sklearn.model_selection import StratifiedShuffleSplit\n",
    "from torchaudio.datasets import VoxCeleb1Identification, SPEECHCOMMANDS\n",
    "from torch.utils.data import ConcatDataset, random_split, DataLoader\n",
    "from sklearn.preprocessing import LabelEncoder, OneHotEncoder\n",
    "\n",
    "dataset_name = \"SPEECHCOMMANDS\"\n",
    "\n",
    "dataset_train = SPEECHCOMMANDS(root=\"datasets/\", download=True, subset=\"training\")\n",
    "dataset_val = SPEECHCOMMANDS(root=\"datasets/\", download=True, subset=\"validation\")\n",
    "\n",
    "sampling_rate = dataset_train[0][1]\n",
    "\n",
    "dataset = ConcatDataset([dataset_train, dataset_val])\n",
    "\n",
    "def process_sample(sample):\n",
    "    X = sample[0][0].numpy().reshape(-1, 1)\n",
    "    Y = sample[2]\n",
    "    group = sample[3]\n",
    "    return X, Y, group\n",
    "\n",
    "results = Parallel(n_jobs=-1)(delayed(process_sample)(sample) for sample in tqdm(dataset))\n",
    "X_train_raw, Y_train_raw, groups = zip(*results)\n",
    "X_train_raw = list(X_train_raw)\n",
    "Y_train_raw = list(Y_train_raw)\n",
    "groups = list(groups)\n",
    "\n",
    "is_multivariate = False\n",
    "use_spectral_representation = False\n",
    "is_instances_classification = True\n",
    "\n",
    "le = LabelEncoder()\n",
    "Y_train_raw = le.fit_transform(Y_train_raw).reshape(-1, 1)\n",
    "\n",
    "# One-hot encode the labels\n",
    "ohe = OneHotEncoder(sparse_output=False)\n",
    "Y_train_raw = ohe.fit_transform(Y_train_raw.reshape(-1, 1))\n",
    "\n"
   ]
  },
  {
   "cell_type": "markdown",
   "id": "a94b219b-eb64-4715-b983-7de3c392f088",
   "metadata": {
    "collapsed": false,
    "editable": true,
    "jupyter": {
     "outputs_hidden": false
    },
    "slideshow": {
     "slide_type": ""
    },
    "tags": []
   },
   "source": [
    "### Custom\n",
    "\n",
    "Datasets available :\n",
    "\n",
    "* FSDD\n",
    "* HAART\n",
    "* JapaneseVowels"
   ]
  },
  {
   "cell_type": "raw",
   "id": "d51fcfae-ee2f-4e89-bb73-6160d3874d99",
   "metadata": {},
   "source": [
    "from datasets.load_datasets import load_dataset_classification\n",
    "is_instances_classification = True\n",
    "dataset_name = \"FSDD\"\n",
    "\n",
    "use_spectral_representation, is_multivariate, sampling_rate, X_train_raw, X_test_raw, Y_train_raw, Y_test, groups = load_dataset_classification(dataset_name)\n",
    "spectral_representation = \"mfcc\" # Can be None, \"stft\" or \"mfcc\""
   ]
  },
  {
   "cell_type": "markdown",
   "id": "86961904-ad36-4af8-ad21-6d51f491da61",
   "metadata": {},
   "source": [
    "# Activation function"
   ]
  },
  {
   "cell_type": "code",
   "execution_count": null,
   "id": "615a38d2df41a727",
   "metadata": {
    "collapsed": false,
    "jupyter": {
     "outputs_hidden": false
    }
   },
   "outputs": [],
   "source": [
    "from reservoir.activation_functions import tanh, heaviside, sigmoid\n",
    "\n",
    "# the activation function choosen for the rest of the experiment\n",
    "# activation_function = lambda x : sigmoid(2*(x-0.5))tanh(x)\n",
    "activation_function = lambda x : tanh(x)\n",
    "\n",
    "plt.plot(np.linspace(0, 3, 100), activation_function(np.linspace(0, 3, 100)))\n",
    "plt.grid()"
   ]
  },
  {
   "cell_type": "markdown",
   "id": "6f892fb1cccd7511",
   "metadata": {
    "collapsed": false,
    "jupyter": {
     "outputs_hidden": false
    }
   },
   "source": [
    "# Preprocessing"
   ]
  },
  {
   "cell_type": "code",
   "execution_count": null,
   "id": "4fca76d0e06f936c",
   "metadata": {
    "collapsed": false,
    "jupyter": {
     "outputs_hidden": false
    }
   },
   "outputs": [],
   "source": [
    "import math \n",
    " \n",
    "# Cross validation\n",
    "from sklearn.model_selection import StratifiedKFold, TimeSeriesSplit, StratifiedGroupKFold\n",
    "from datasets.preprocessing import flexible_indexing\n",
    "\n",
    "#Preprocessing\n",
    "from datasets.multivariate_generation import generate_multivariate_dataset, extract_peak_frequencies\n",
    "from sklearn.preprocessing import MinMaxScaler\n",
    "from datasets.preprocessing import scale_data\n",
    "from datasets.preprocessing import add_noise, duplicate_data\n",
    "\n",
    "# Define noise parameter\n",
    "noise_std = 0.001\n",
    "\n",
    "\n",
    "nb_splits=3\n",
    "if is_instances_classification:\n",
    "    if groups is None:\n",
    "        splits = StratifiedKFold(n_splits=nb_splits, shuffle=True, random_state=SEED).split(X_train_raw, np.argmax(Y_train_raw, axis=1))\n",
    "    else:\n",
    "        splits = StratifiedGroupKFold(n_splits=nb_splits, shuffle=True, random_state=SEED).split(X_train_raw, np.argmax(Y_train_raw, axis=1), groups)\n",
    "else: #prediction\n",
    "    splits = TimeSeriesSplit(n_splits=nb_splits).split(X_train_raw)\n",
    "\n",
    "data_type = \"normal\" # \"normal\" ou \"noisy\"\n",
    "\n",
    "X_pretrain = []\n",
    "X_pretrain_noisy  = []\n",
    "X_train = []\n",
    "X_train_noisy = []\n",
    "X_val = []\n",
    "X_val_noisy = []\n",
    "X_pretrain_band = []\n",
    "X_pretrain_band_noisy = []\n",
    "X_train_band = []\n",
    "X_train_band_noisy = []\n",
    "X_val_band = []\n",
    "X_val_band_noisy = []\n",
    "\n",
    "Y_train = []\n",
    "Y_val = []\n",
    "\n",
    "WINDOW_LENGTH = 10\n",
    "print(\"Not smoothed frequencies\")\n",
    "freq_train_data = X_train_raw\n",
    "flat_train_data = np.concatenate(freq_train_data, axis=0) if is_instances_classification else freq_train_data\n",
    "extract_peak_frequencies(flat_train_data, sampling_rate, smooth=False, threshold=1e-5, nperseg=1024, visualize=True)\n",
    "\n",
    "print(\"Preprocessing\")\n",
    "for i, (train_index, val_index) in enumerate(splits):\n",
    "    x_train = flexible_indexing(X_train_raw, train_index)\n",
    "    x_val = flexible_indexing(X_train_raw, val_index)\n",
    "    Y_train.append(flexible_indexing(Y_train_raw, train_index))\n",
    "    Y_val.append(flexible_indexing(Y_train_raw, val_index))\n",
    "\n",
    "\n",
    "    if is_multivariate:\n",
    "        x_train_band, x_val_band = x_train, x_val\n",
    "        del x_train, x_val\n",
    "        \n",
    "    # PREPROCESSING\n",
    "    freq_train_data = x_train_band if is_multivariate else x_train\n",
    "    flat_train_data = np.concatenate(freq_train_data, axis=0) if is_instances_classification else freq_train_data\n",
    "    peak_freqs = extract_peak_frequencies(flat_train_data, sampling_rate, smooth=True, window_length=WINDOW_LENGTH, threshold=1e-5, nperseg=1024, visualize=False)\n",
    "\n",
    "    # if it has use_spectral_representation, then it is multivariate\n",
    "    if use_spectral_representation == True: \n",
    "        if is_multivariate==False:\n",
    "            raise ValueError(\"Cannot use spectral representation if it's not multivariate !\")\n",
    "\n",
    "    if not is_multivariate:\n",
    "        x_train_band = generate_multivariate_dataset(\n",
    "            x_train, sampling_rate, is_instances_classification, peak_freqs, spectral_representation, hop=100\n",
    "        )\n",
    "        x_val_band = generate_multivariate_dataset(\n",
    "            x_val, sampling_rate, is_instances_classification, peak_freqs, spectral_representation, hop=100\n",
    "        )\n",
    "    elif is_multivariate and not use_spectral_representation:\n",
    "        x_train_band = generate_multivariate_dataset(\n",
    "            x_train_band, sampling_rate, is_instances_classification, peak_freqs, spectral_representation, hop=100\n",
    "        )\n",
    "        x_val_band = generate_multivariate_dataset(\n",
    "            x_val_band, sampling_rate, is_instances_classification, peak_freqs, spectral_representation, hop=100\n",
    "        )\n",
    "    else:\n",
    "        print(\"Data is already spectral, nothing to do\")\n",
    "\n",
    "    if not is_multivariate:\n",
    "        scaler_x_uni = MinMaxScaler(feature_range=(0, 1))\n",
    "        x_train, x_val, _ = scale_data(x_train, x_val, None, scaler_x_uni, is_instances_classification)       \n",
    "        X_train.append(x_train)\n",
    "        X_val.append(x_val)\n",
    "\n",
    "    scaler_multi = MinMaxScaler(feature_range=(0, 1))\n",
    "    x_train_band, x_val_band, _ = scale_data(x_train_band, x_val_band, None, scaler_multi, is_instances_classification)\n",
    "    X_train_band.append(x_train_band)\n",
    "    X_val_band.append(x_val_band)\n",
    "             \n",
    "    # NOISE\n",
    "    if data_type == \"noisy\":\n",
    "        if is_instances_classification:\n",
    "            # UNI\n",
    "            if not is_multivariate:\n",
    "                x_train_noisy=[add_noise(instance, noise_std) for instance in x_train]\n",
    "                X_train_noisy.append([add_noise(instance, noise_std) for instance in x_train])\n",
    "                X_val_noisy.append([add_noise(instance, noise_std) for instance in x_val])\n",
    "                \n",
    "            # MULTI\n",
    "            x_train_band_noisy=[add_noise(instance, noise_std) for instance in x_train_band]\n",
    "            X_train_band_noisy.append(x_train_band_noisy)\n",
    "            X_val_band_noisy.append([add_noise(instance, noise_std) for instance in x_val_band])\n",
    "        \n",
    "        else:  #if prediction\n",
    "            # UNI\n",
    "            if not is_multivariate:\n",
    "                x_train_noisy=add_noise(x_train, noise_std)\n",
    "                X_train_noisy.append(x_train_noisy)\n",
    "                X_val_noisy.append(add_noise(x_val, noise_std))\n",
    "        \n",
    "            # MULTI\n",
    "            x_train_band_noisy=add_noise(x_train_band, noise_std)\n",
    "            X_train_band_noisy.append(x_train_band_noisy)\n",
    "            X_val_band_noisy.append(add_noise(x_val_band, noise_std))\n",
    "\n",
    "    # Define the number of instances you want to select\n",
    "    x_size = len(x_train_band) if is_multivariate else len(x_train)\n",
    "    num_samples_for_pretrain = 500 if x_size >= 500 else x_size\n",
    "    if is_instances_classification:\n",
    "        indices = np.random.choice(x_size, num_samples_for_pretrain, replace=False)\n",
    "    else:\n",
    "        indices = range(x_size)\n",
    "    \n",
    "    if data_type == \"noisy\":\n",
    "        # Defining pretrain   \n",
    "        if not is_multivariate:\n",
    "            X_pretrain_noisy.append(np.array(x_train_noisy)[indices].flatten())\n",
    "        X_pretrain_band_noisy.append(np.array(x_train_band_noisy)[indices])\n",
    "\n",
    "    # Defining pretrain   \n",
    "    if not is_multivariate:\n",
    "        X_pretrain.append(np.array(x_train)[indices].flatten())\n",
    "    X_pretrain_band.append(np.array(x_train_band)[indices])\n"
   ]
  },
  {
   "cell_type": "markdown",
   "id": "a69c5610-8dad-4d05-8bbb-fa34031d9c9c",
   "metadata": {},
   "source": [
    "# Hyperparameter search"
   ]
  },
  {
   "cell_type": "code",
   "execution_count": null,
   "id": "f5e2ac17-a4b5-4a6e-a6eb-d2e63438b0c8",
   "metadata": {},
   "outputs": [],
   "source": [
    "sampling_rate/np.min(np.hstack(peak_freqs))"
   ]
  },
  {
   "cell_type": "code",
   "execution_count": null,
   "id": "f4957e6c-e0cc-4d90-a495-348a8bbab3cd",
   "metadata": {
    "scrolled": true
   },
   "outputs": [],
   "source": [
    "\n",
    "#Pretraining\n",
    "from reservoir.reservoir import init_matrices\n",
    "from connexion_generation.hag import run_algorithm\n",
    "from scipy import sparse, stats\n",
    "from numpy import random\n",
    "\n",
    "# Evaluating\n",
    "from performances.esn_model_evaluation import init_and_train_model_for_classification, predict_model_for_classification, compute_score\n",
    "from performances.esn_model_evaluation import init_and_train_model_for_prediction\n",
    "\n",
    "\n",
    "# score for prediction\n",
    "start_step = 30\n",
    "end_step = 500\n",
    "SLICE_RANGE = slice(start_step, end_step)\n",
    "RESERVOIR_SIZE = 500\n",
    "\n",
    "nb_jobs_per_trial = 1\n",
    "function_name = \"random\" # \"desp\" ou \"hadsp\", \"random\" or \"random_ei\"\n",
    "variate_type = \"multi\" # \"multi\" ou \"uni\"\n",
    "if variate_type == \"uni\" and is_multivariate:\n",
    "    raise ValueError(f\"Invalid variable type: {variate_type}\")\n",
    "    \n",
    "\n",
    "def objective(trial):\n",
    "    # Suggest values for the parameters you want to optimize\n",
    "    # COMMON\n",
    "    input_scaling = trial.suggest_float('input_scaling', 0.01, 0.2, step=0.005)\n",
    "    bias_scaling = trial.suggest_float('bias_scaling', 0, 0.2, step=0.005)\n",
    "    leaky_rate = trial.suggest_float('leaky_rate', 1, 1)\n",
    "    input_connectivity = trial.suggest_float('input_connectivity', 1, 1)\n",
    "    network_size = trial.suggest_int('network_size', RESERVOIR_SIZE, RESERVOIR_SIZE)\n",
    "    ridge = trial.suggest_int('ridge', -15, 1)\n",
    "    RIDGE_COEF = 10**ridge\n",
    "\n",
    "    min_window_size = sampling_rate/np.max(np.hstack(peak_freqs))\n",
    "    max_window_size = sampling_rate/np.min(np.hstack(peak_freqs))\n",
    "\n",
    "    # HADSP\n",
    "    if function_name == \"hadsp\":\n",
    "        target_rate = trial.suggest_float('target_rate', 0.5, 1, step=0.01)\n",
    "        rate_spread = trial.suggest_float('rate_spread', 0.01, 0.4, step=0.005)\n",
    "        method = trial.suggest_categorical(\"method\", [\"random\", \"pearson\"])\n",
    "    # DESP\n",
    "    elif function_name == \"desp\":\n",
    "        variance_target = trial.suggest_float('variance_target', 0.001, 0.02, step=0.001)\n",
    "        variance_spread = trial.suggest_float('variance_spread', 0.001, 0.05, step=0.002)\n",
    "        intrinsic_saturation = trial.suggest_float('intrinsic_saturation', 0.8, 0.98, step=0.02)\n",
    "        intrinsic_coef = trial.suggest_float('intrinsic_coef', 0.8, 0.98, step=0.02)\n",
    "        method = trial.suggest_categorical(\"method\", [\"pearson\"])\n",
    "    elif function_name == \"random\" or function_name == \"random_ei\":\n",
    "        connectivity = trial.suggest_float('connectivity', 0, 1)\n",
    "        sr = trial.suggest_float('spectral_radius', 0.4, 1.6, step=0.01)\n",
    "    else:\n",
    "        raise ValueError(f\"Invalid function name: {function_name}\")\n",
    "\n",
    "    if function_name == \"hadsp\" or function_name == \"desp\":\n",
    "        connectivity = trial.suggest_float('connectivity', 0, 0)\n",
    "        weight_increment = trial.suggest_float('weight_increment', 0.001, 0.1, step=0.001)\n",
    "        max_partners = trial.suggest_int('max_partners', 10, 20)\n",
    "        if is_instances_classification:\n",
    "            use_full_instance = trial.suggest_categorical('use_full_instance', [True, False])\n",
    "        else :\n",
    "            use_full_instance = False\n",
    "        TIME_INCREMENT = trial.suggest_int('time_increment', int(min_window_size+1), 100) # int(min_window_size+1) or int(max_window_size)\n",
    "        max_increment_span = int(max_window_size) if int(max_window_size) - 100 < 0 else int(max_window_size) - 100\n",
    "        time_increment_span = trial.suggest_int('time_increment_span', 0, max_increment_span)\n",
    "        MAX_TIME_INCREMENT = TIME_INCREMENT + time_increment_span #int(max_window_size) or None or TIME_INCREMENT\n",
    "\n",
    "    # CROSS-VALIDATION METHODS\n",
    "    total_score = 0\n",
    "    for i in range(nb_splits):\n",
    "        if variate_type == \"multi\":\n",
    "            if is_instances_classification:\n",
    "                common_index = 1\n",
    "                common_size = X_train_band[i][0].shape[common_index]\n",
    "            else:\n",
    "                common_index = 1\n",
    "                common_size = X_train_band[i].shape[common_index]\n",
    "        else:\n",
    "            common_size = len(peak_freqs)\n",
    "            \n",
    "        # We want the size of the reservoir to be at least network_size\n",
    "        K = math.ceil(network_size / common_size)\n",
    "        n = common_size * K\n",
    "\n",
    "\n",
    "        pretrain_data = X_pretrain_band[i]\n",
    "        train_data = X_train_band[i]  # X_train_band_noisy_duplicated or X_train_band_duplicated\n",
    "        val_data = X_val_band_noisy[i] if data_type == \"noisy\" else X_val_band[i]\n",
    "\n",
    "        # UNSUPERVISED PRETRAINING \n",
    "        if function_name == \"random_ei\":\n",
    "            Win, W, bias = init_matrices(n, input_connectivity, connectivity,  K, w_distribution=stats.uniform(-1, 1), seed=random.randint(0, 1000))\n",
    "        else:\n",
    "            Win, W, bias = init_matrices(n, input_connectivity, connectivity,  K, seed=random.randint(0, 1000))\n",
    "        bias *= bias_scaling\n",
    "        Win *= input_scaling\n",
    "\n",
    "        if function_name == \"hadsp\":\n",
    "            W, (_, _, _) = run_algorithm(W, Win, bias, leaky_rate, activation_function, pretrain_data, TIME_INCREMENT, weight_increment,\n",
    "                                 target_rate, rate_spread, function_name, is_instance=is_instances_classification, use_full_instance = use_full_instance, \n",
    "                                 max_increment=MAX_TIME_INCREMENT, max_partners=max_partners, method = method, n_jobs = nb_jobs_per_trial)\n",
    "        elif function_name == \"desp\":\n",
    "            W, (_, _, _) = run_algorithm(W, Win, bias, leaky_rate, activation_function, pretrain_data, TIME_INCREMENT, weight_increment,\n",
    "                                    variance_target, variance_spread, function_name, is_instance=is_instances_classification, use_full_instance = use_full_instance, \n",
    "                                    max_increment=MAX_TIME_INCREMENT, max_partners=max_partners, method = method, \n",
    "                                    intrinsic_saturation=intrinsic_saturation, intrinsic_coef=intrinsic_coef, n_jobs = nb_jobs_per_trial)\n",
    "        elif function_name == \"random\" or function_name == \"random_ei\":\n",
    "            eigen = sparse.linalg.eigs(W, k=1, which=\"LM\", maxiter=W.shape[0] * 20, tol=0.1, return_eigenvectors=False)\n",
    "            W *= sr / max(abs(eigen))\n",
    "        else:\n",
    "            raise ValueError(f\"Invalid function: {function_name}\")\n",
    "        \n",
    "\n",
    "        # TRAINING and EVALUATION\n",
    "        if is_instances_classification:\n",
    "            reservoir, readout = init_and_train_model_for_classification(W, Win, bias, leaky_rate, activation_function, train_data, Y_train[i], n_jobs = nb_jobs_per_trial, ridge_coef=RIDGE_COEF, mode=\"sequence-to-vector\")\n",
    "            \n",
    "            Y_pred = predict_model_for_classification(reservoir, readout, val_data, n_jobs = nb_jobs_per_trial)\n",
    "            score = compute_score(Y_pred, Y_val[i], is_instances_classification)\n",
    "        else:\n",
    "            esn = init_and_train_model_for_prediction(W, Win, bias, leaky_rate, activation_function, train_data, Y_train[i], RIDGE_COEF)\n",
    "            \n",
    "            Y_pred =  esn.run(val_data, reset=False)\n",
    "            score = compute_score(Y_pred, Y_val[i], is_instances_classification)\n",
    "\n",
    "        total_score += score\n",
    "\n",
    "    average_score = total_score / nb_splits  # Average the score\n",
    "\n",
    "    return average_score\n"
   ]
  },
  {
   "cell_type": "code",
   "execution_count": null,
   "id": "94a7cbad-31bd-49d2-a3c1-00d9ccb6aaab",
   "metadata": {
    "scrolled": true
   },
   "outputs": [],
   "source": [
    "import optuna\n",
    "from optuna.samplers import TPESampler\n",
    "from performances.utility import camel_to_snake\n",
    "\n",
    "url= \"sqlite:///optuna_\" + camel_to_snake(dataset_name) + \"_db.sqlite3\"\n",
    "print(url)\n",
    "\n",
    "storage = optuna.storages.RDBStorage(\n",
    "    url=url,\n",
    "    engine_kwargs={\"pool_size\": 20, \"connect_args\": {\"timeout\": 10}},\n",
    ")\n",
    "study_name = function_name + \"_\" + dataset_name + \"_\" + data_type + \"_\" + variate_type\n",
    "print(study_name)\n",
    "\n",
    "direction = \"maximize\" if is_instances_classification else \"minimize\"\n",
    "sampler = TPESampler()\n",
    "\n",
    "def optimize_study(n_trials):\n",
    "    study = optuna.create_study(storage=storage, sampler=sampler, study_name=study_name, direction=direction, load_if_exists=True)\n",
    "    study.optimize(objective, n_trials=n_trials)\n",
    "\n",
    "N_TRIALS = 400\n",
    "n_parallel_studies = 10\n",
    "trials_per_process = N_TRIALS // n_parallel_studies\n",
    "\n",
    "# Use joblib to parallelize the optimization\n",
    "Parallel(n_jobs=n_parallel_studies)(\n",
    "    delayed(optimize_study)(trials_per_process) for _ in range(n_parallel_studies)\n",
    ")\n"
   ]
  },
  {
   "cell_type": "markdown",
   "id": "afea5f7c-4fda-4977-b27a-be04731e9677",
   "metadata": {},
   "source": [
    "# Results"
   ]
  },
  {
   "cell_type": "code",
   "execution_count": null,
   "id": "49ee3d4e-e3c6-43fd-9ef8-cf41c858ebac",
   "metadata": {
    "jupyter": {
     "is_executing": true
    }
   },
   "outputs": [],
   "source": []
  },
  {
   "cell_type": "code",
   "execution_count": null,
   "id": "7b3d64cab7d596f8",
   "metadata": {},
   "outputs": [],
   "source": []
  },
  {
   "cell_type": "code",
   "execution_count": null,
   "id": "706a21dd-e005-416c-8558-78ec0754876f",
   "metadata": {},
   "outputs": [],
   "source": []
  },
  {
   "cell_type": "code",
   "execution_count": null,
   "id": "0cb269f4-e5e6-494a-bdaf-37bdf9bbd10d",
   "metadata": {},
   "outputs": [],
   "source": []
  },
  {
   "cell_type": "code",
   "execution_count": null,
   "id": "8148d7b4-ea38-4f2a-a9fa-81dbe3b204b3",
   "metadata": {},
   "outputs": [],
   "source": []
  }
 ],
 "metadata": {
  "kernelspec": {
   "display_name": "hadsp_env",
   "language": "python",
   "name": "hadsp_env"
  },
  "language_info": {
   "codemirror_mode": {
    "name": "ipython",
    "version": 3
   },
   "file_extension": ".py",
   "mimetype": "text/x-python",
   "name": "python",
   "nbconvert_exporter": "python",
   "pygments_lexer": "ipython3",
   "version": "3.11.10"
  }
 },
 "nbformat": 4,
 "nbformat_minor": 5
}
